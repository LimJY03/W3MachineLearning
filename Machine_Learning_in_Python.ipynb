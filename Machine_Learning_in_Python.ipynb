{
  "nbformat": 4,
  "nbformat_minor": 0,
  "metadata": {
    "colab": {
      "name": "Machine Learning in Python.ipynb",
      "provenance": [],
      "collapsed_sections": [],
      "toc_visible": true
    },
    "kernelspec": {
      "name": "python3",
      "display_name": "Python 3"
    },
    "language_info": {
      "name": "python"
    }
  },
  "cells": [
    {
      "cell_type": "markdown",
      "source": [
        "# About This Notebook\n",
        "\n",
        "This notebook contains the basic walk through of Machine Learning in `Python`. Most contents in this notebook are with reference to the [ML Module in w3schools.com](https://www.w3schools.com/python/python_ml_getting_started.asp).\n",
        "\n",
        "Also, this notebook is written using [Google Colab](https://colab.research.google.com/?utm_source=scs-index), which is a platform that allows users to write notebooks to combine executable code and rich text in a single document, along with images, HTML, LaTeX and more.\n",
        "\n",
        "I chose to use Google Colab in writing this module as the IDE contains multiple built-in `python` libraries that are useful for Machine Learning such as TensorFlow, NumPy, Pandas and many more. It also runs on LinuxOS, which allows more functions that a WinOS user cannot work with.\n",
        "\n",
        "[Link to the Colab Notebook](https://colab.research.google.com/drive/1hA1zk4VRUWbpbZVSHJuMbpYoRks3yejw?usp=sharing)\n",
        "\n",
        "---"
      ],
      "metadata": {
        "id": "B7C6H-_954bM"
      }
    },
    {
      "cell_type": "markdown",
      "source": [
        "# Getting Started with Machine Learning\n",
        "\n",
        "Artificial Intelligence (AI) is created with Machine Learning. Machine Learning, also known as ML, is essentially a program that analyses and learns from the data. Based on the pattern learnt from the data, the model will be able to predict the outcome of a given situation."
      ],
      "metadata": {
        "id": "IwoZZsBc7mJf"
      }
    },
    {
      "cell_type": "markdown",
      "source": [
        "## Data Set\n",
        "\n",
        "A data set is a collection of data. The most common data set formats are CSVs (Comma-Separated Values), JSON (JavaScript Object Notation), SQLite, BigQuery etc.\n",
        "\n",
        "Some of the most common websites that contains free public data sets can be found at [Kaggle](https://www.kaggle.com/datasets), [UCI ML Repository](https://archive.ics.uci.edu/ml/datasets.php), [Data.gov](https://data.gov/) and many more.\n",
        "\n",
        "A data set can be as simple as an array:\n",
        "\n",
        "```py\n",
        "[99, 86, 87, 88, 111, 86, 103, 87, 94, 78, 77, 85, 86]\n",
        "```\n",
        "\n",
        "or it can also be in the form of tabular data:\n",
        "\n",
        "| Carname\t| Color\t| Age\t| Speed\t| AutoPass |\n",
        "| --- | :---: | :---: | :---: | :---: |\n",
        "| BMW | red\t| 5 | 99 | Y |\n",
        "| Volvo\t| black\t| 7 | 86 | Y |\n",
        "| VW | gray\t| 8\t| 87 | N |\n",
        "| VW | white | 7 | 88 | Y |\n",
        "| Ford| white | 2 | 111\t| Y |\n",
        "| VW | white | 17 | 86| Y |\n",
        "| Tesla\t| red | 2 | 103 | Y |\n",
        "| BMW | black | 9 | 87 | Y |\n",
        "| Volvo\t| gray | 4 | 94 | N |\n",
        "| Ford | white | 11 | 78 | N |\n",
        "| Toyota | gray\t| 12 | 77 | N |\n",
        "| VW | white | 9 | 85 | N |\n",
        "| Toyota | blue\t| 6\t| 86 | Y |\n",
        "\n",
        "By looking at the array, we can guess that the average value is probably around **80** or **90**, and we are also able to determine the highest value and the lowest value, but what else can we do?\n",
        "\n",
        "And by looking at the database we can see that the most popular color is **white**, and the oldest car is **17** years, but what if we could predict if a car had an AutoPass, just by looking at the other values?\n",
        "\n",
        "That is where ML comes into place, to analyze data and predict the outcome."
      ],
      "metadata": {
        "id": "xCJvbWPOCm-X"
      }
    },
    {
      "cell_type": "markdown",
      "source": [
        "## Data Types\n",
        "\n",
        "To analyze data, it is important to know what type of data we are dealing with.\n",
        "\n",
        "We can split the data types into three main categories:\n",
        "\n",
        "* Numerical\n",
        "* Categorical\n",
        "* Ordinal\n",
        "\n",
        "**Numerical Data** are numbers, and can be split into 2 numerical categories:\n",
        "\n",
        "* Discrete Data are numbers that are limited to integers. \n",
        "    * Example: The number of cars passing by.\n",
        "* Continuous Data are numbers that are of infinite value. \n",
        "    * Example: The price of an item, or the size of an item.\n",
        "\n",
        "**Categorical Data** are values that cannot be measured up against each other. \n",
        "* Example: a color value, or any yes/no values.\n",
        "\n",
        "**Ordinal Data** are like categorical data, but can be measured up against each other. \n",
        "* Example: school grades where A is better than B and so on.\n",
        "\n",
        "By knowing the data type of our data source, we will be able to know what technique to use when analyzing them."
      ],
      "metadata": {
        "id": "j0wM5dL7CoCz"
      }
    },
    {
      "cell_type": "markdown",
      "source": [
        "# Statistical Terms\n",
        "\n",
        "In Machine Learning, we will be dealing with mathematics and statistics most of the time, and how to calculate important numbers based on data sets.\n",
        "\n",
        "The most basic measure in statistics is the measure of central tendencies, which is a summary measure that attempts to describe the whole data set with a single value that represents the centre of its distribution, consists of the following:\n",
        "\n",
        "* Mean\n",
        "* Mode\n",
        "* Median\n",
        "\n",
        "Then, we have the measure of variabilities, which measures the spread of the data set is compared to the mean value of the data set, consists of the following:\n",
        "\n",
        "* Variance\n",
        "* Standard Deviation\n",
        "* Percentile\n",
        "\n",
        "To demonstrate each terms mentioned above, we will first introduce our example data sets and import libraries that will be used later:"
      ],
      "metadata": {
        "id": "gMQSYK16DZM2"
      }
    },
    {
      "cell_type": "code",
      "source": [
        "# Import libraries\n",
        "from scipy import stats\n",
        "import numpy as np\n",
        "import matplotlib.pyplot as plt\n",
        "\n",
        "# Create example data sets\n",
        "speed_dataset = [99, 86, 87, 88, 111, 86, 103, 87, 94, 78, 77, 85, 86]\n",
        "age_dataset = [5, 31, 43, 48, 50, 41, 7, 11, 15, 39, 80, 82, 32, 2, 8, 6, 25, 36, 27, 61, 31]"
      ],
      "metadata": {
        "id": "PBLrIDymFq0k"
      },
      "execution_count": 1,
      "outputs": []
    },
    {
      "cell_type": "markdown",
      "source": [
        "## Mean\n",
        "\n",
        "The mean value is the average value.\n",
        "\n",
        "To calculate the mean, find the sum of all values, and divide the sum by the number of values. But in `Python`, we can use the NumPy module to calculate the mean for us easily:"
      ],
      "metadata": {
        "id": "E6Ca79nDEm_s"
      }
    },
    {
      "cell_type": "code",
      "execution_count": 2,
      "metadata": {
        "colab": {
          "base_uri": "https://localhost:8080/"
        },
        "id": "4Xuc0krt50DN",
        "outputId": "0299ce24-49f1-4248-ad5d-c81a3857163f"
      },
      "outputs": [
        {
          "output_type": "execute_result",
          "data": {
            "text/plain": [
              "89.76923076923077"
            ]
          },
          "metadata": {},
          "execution_count": 2
        }
      ],
      "source": [
        "# Calculate the mean\n",
        "np.mean(speed_dataset)"
      ]
    },
    {
      "cell_type": "markdown",
      "source": [
        "## Mode\n",
        "\n",
        "The Mode value is the value that appears the most number of times. We can use the SciPy module to find the mode of the data easily:"
      ],
      "metadata": {
        "id": "vifarEVGHhZh"
      }
    },
    {
      "cell_type": "code",
      "source": [
        "# Determine the mode\n",
        "stats.mode(speed_dataset)"
      ],
      "metadata": {
        "colab": {
          "base_uri": "https://localhost:8080/"
        },
        "id": "a00LmV_aHhuu",
        "outputId": "28e39618-266a-407d-f8cd-451229c017ab"
      },
      "execution_count": 3,
      "outputs": [
        {
          "output_type": "execute_result",
          "data": {
            "text/plain": [
              "ModeResult(mode=array([86]), count=array([3]))"
            ]
          },
          "metadata": {},
          "execution_count": 3
        }
      ]
    },
    {
      "cell_type": "markdown",
      "source": [
        "## Median\n",
        "\n",
        "The median value is the value in the middle, after you have sorted all the values. \n",
        "\n",
        "If there are 2 values in the middle, which happens when the number of elements in the data set is an even number, the median will be the mean of the both numbers present in the middle. \n",
        "\n",
        "We can ignore all the complications and use NumPy module to find the median for us:"
      ],
      "metadata": {
        "id": "H5I7eeCoHUw7"
      }
    },
    {
      "cell_type": "code",
      "source": [
        "# Determine the median\n",
        "np.median(speed_dataset)"
      ],
      "metadata": {
        "colab": {
          "base_uri": "https://localhost:8080/"
        },
        "id": "J9TbR693HTWX",
        "outputId": "98c7a825-b1a9-4b71-e78b-de3b78c7e119"
      },
      "execution_count": 4,
      "outputs": [
        {
          "output_type": "execute_result",
          "data": {
            "text/plain": [
              "87.0"
            ]
          },
          "metadata": {},
          "execution_count": 4
        }
      ]
    },
    {
      "cell_type": "markdown",
      "source": [
        "## Variance\n",
        "\n",
        "The term variance refers to a statistical measurement of the spread between numbers in a data set. More specifically, variance measures how far each number in the set is from the mean, and thus from every other number in the set.\n",
        "\n",
        "It can be calculated by taking the mean of the squared deviation of each number in the data set from the mean.\n",
        "\n",
        "Learn more about variance [here](https://en.wikipedia.org/wiki/Variance).\n",
        "\n",
        "We can easily calculate the variance of our data sets using NumPy:"
      ],
      "metadata": {
        "id": "Z1uPtx6SIZny"
      }
    },
    {
      "cell_type": "code",
      "source": [
        "# Variance of speed_dataset\n",
        "np.var(speed_dataset)"
      ],
      "metadata": {
        "colab": {
          "base_uri": "https://localhost:8080/"
        },
        "id": "fOMGGtt0JHsD",
        "outputId": "c5740def-0c49-425f-874b-0b42bbe23867"
      },
      "execution_count": 5,
      "outputs": [
        {
          "output_type": "execute_result",
          "data": {
            "text/plain": [
              "85.71597633136093"
            ]
          },
          "metadata": {},
          "execution_count": 5
        }
      ]
    },
    {
      "cell_type": "code",
      "source": [
        "# Variance of age_dataset\n",
        "np.var(age_dataset)"
      ],
      "metadata": {
        "colab": {
          "base_uri": "https://localhost:8080/"
        },
        "id": "SvRR1Az7JOkj",
        "outputId": "9db003f5-07cf-4ce8-e226-bc425263362f"
      },
      "execution_count": 6,
      "outputs": [
        {
          "output_type": "execute_result",
          "data": {
            "text/plain": [
              "514.3310657596372"
            ]
          },
          "metadata": {},
          "execution_count": 6
        }
      ]
    },
    {
      "cell_type": "markdown",
      "source": [
        "From both lines above, we can see that the variance of `speed_dataset` is smaller than `age_dataset`, which means that the data points in `speed_dataset` are closer to the mean value compared to `age_dataset`, which is more spread."
      ],
      "metadata": {
        "id": "MMajYsJKJVdO"
      }
    },
    {
      "cell_type": "markdown",
      "source": [
        "## Standard Deviation\n",
        "\n",
        "Standard Deviation is closely related to variance. Since the variance is calculated using squared deviation from the mean, by doing [dimensional analysis](https://en.wikipedia.org/wiki/Dimensional_analysis) we can say that the variance has the different dimension compared to the original data as it is squared.\n",
        "\n",
        "To solve this problem, we use standard deviation, which is the square root of variance. \n",
        "\n",
        "Learn more about standard deviation [here](https://en.wikipedia.org/wiki/Standard_deviation).\n",
        "\n",
        "We can also easily calculate the standard deviation of our data sets using NumPy:"
      ],
      "metadata": {
        "id": "0BdhJG4KJkS-"
      }
    },
    {
      "cell_type": "code",
      "source": [
        "# Standard deviation of speed_dataset\n",
        "np.std(speed_dataset)"
      ],
      "metadata": {
        "colab": {
          "base_uri": "https://localhost:8080/"
        },
        "id": "mmZEyeSgJR1l",
        "outputId": "9c7539f6-b16a-41b4-b1c3-437378b58bf8"
      },
      "execution_count": 7,
      "outputs": [
        {
          "output_type": "execute_result",
          "data": {
            "text/plain": [
              "9.258292301032677"
            ]
          },
          "metadata": {},
          "execution_count": 7
        }
      ]
    },
    {
      "cell_type": "code",
      "source": [
        "# Standard deviation of speed_dataset\n",
        "np.std(age_dataset)"
      ],
      "metadata": {
        "colab": {
          "base_uri": "https://localhost:8080/"
        },
        "id": "wLb0yyE1KWGu",
        "outputId": "6499379a-ef74-492d-ac82-d13227a7c4d0"
      },
      "execution_count": 8,
      "outputs": [
        {
          "output_type": "execute_result",
          "data": {
            "text/plain": [
              "22.678868264524073"
            ]
          },
          "metadata": {},
          "execution_count": 8
        }
      ]
    },
    {
      "cell_type": "markdown",
      "source": [
        "## Percentiles\n",
        "\n",
        "Percentiles are used in statistics to give us a number that describes the value that a given percent of the values are lower than. We can also use NumPy to calculate the percentile:"
      ],
      "metadata": {
        "id": "buEsfwb_KrPZ"
      }
    },
    {
      "cell_type": "code",
      "source": [
        "# Determine the 75-percentile\n",
        "np.percentile(age_dataset, 75)"
      ],
      "metadata": {
        "colab": {
          "base_uri": "https://localhost:8080/"
        },
        "id": "wgO2X0n3Kwr3",
        "outputId": "93229730-c498-472a-e11f-a06622bad00a"
      },
      "execution_count": 9,
      "outputs": [
        {
          "output_type": "execute_result",
          "data": {
            "text/plain": [
              "43.0"
            ]
          },
          "metadata": {},
          "execution_count": 9
        }
      ]
    },
    {
      "cell_type": "markdown",
      "source": [
        "The output 43 means that there are 75% of data points in our `age_dataset` that have smaller value than 43."
      ],
      "metadata": {
        "id": "QZDLSj4ILC-u"
      }
    },
    {
      "cell_type": "markdown",
      "source": [
        "# Data Distribution\n",
        "\n",
        "In any data set, we can measure the distribution of the data using the 6 statistical terms mentioned above. However, we can also visualize our data distribution using graphs and charts. \n",
        "\n",
        "Learn more about Data Visualization using `Python` Libraries in my [Data Visualization GitHub repository](https://github.com/LimJY03/DataVisualization/)."
      ],
      "metadata": {
        "id": "Cg8Xcpq3MHAH"
      }
    },
    {
      "cell_type": "markdown",
      "source": [
        "## Generating Array of Random Data\n",
        "\n",
        "To generate an array of random data in `Python`, we can use the NumPy module:"
      ],
      "metadata": {
        "id": "P8TCynTBMqv6"
      }
    },
    {
      "cell_type": "code",
      "source": [
        "# Generate an array of 100,000 random floats between 0 and 5\n",
        "random_data = np.random.uniform(0, 5, 100000)"
      ],
      "metadata": {
        "id": "MlhpqMXgLNBL"
      },
      "execution_count": 10,
      "outputs": []
    },
    {
      "cell_type": "markdown",
      "source": [
        "The `np.random.uniform()` method essentially draws samples from a uniform distribution. Learn more about this method [here](https://numpy.org/doc/stable/reference/random/generated/numpy.random.uniform.html).\n",
        "\n",
        "Let's visualize our `random_data` with a histogram:"
      ],
      "metadata": {
        "id": "2WAEe4_zNTzh"
      }
    },
    {
      "cell_type": "code",
      "source": [
        "# Create histogram with 100 bars\n",
        "plt.hist(random_data, 100)\n",
        "\n",
        "# Plots the histogram\n",
        "plt.show()"
      ],
      "metadata": {
        "colab": {
          "base_uri": "https://localhost:8080/",
          "height": 265
        },
        "id": "9CqA4O1iOZ0U",
        "outputId": "d4c43f3b-1ec4-4f8c-95a8-125645a6b6a4"
      },
      "execution_count": 11,
      "outputs": [
        {
          "output_type": "display_data",
          "data": {
            "text/plain": [
              "<Figure size 432x288 with 1 Axes>"
            ],
            "image/png": "[encoded data removed]"
          },
          "metadata": {
            "needs_background": "light"
          }
        }
      ]
    },
    {
      "cell_type": "markdown",
      "source": [
        "As we can see from the histogram, the number of values in each range are almost the same, which shows that the data points are mostly uniform."
      ],
      "metadata": {
        "id": "qOvmv8S9O452"
      }
    },
    {
      "cell_type": "markdown",
      "source": [
        "## Generating Array of Normalized Data\n",
        "\n",
        "To generate an array of random data that are normalized to a certain value in `Python`, we can use the NumPy module again:"
      ],
      "metadata": {
        "id": "SUe7dTjpNuxb"
      }
    },
    {
      "cell_type": "code",
      "source": [
        "# Generate an array of 100,000 random normalized floats around 5\n",
        "normalized_data = np.random.normal(5, 1, 100000)"
      ],
      "metadata": {
        "id": "U37PfMdKNrLU"
      },
      "execution_count": 12,
      "outputs": []
    },
    {
      "cell_type": "markdown",
      "source": [
        "The `np.random.normal()` method essentially draws random samples from a normal (Gaussian) distribution. Learn more about this method [here](https://numpy.org/doc/stable/reference/random/generated/numpy.random.normal.html).\n",
        "\n",
        "Let's visualize our `normalized_data` with a histogram:"
      ],
      "metadata": {
        "id": "k7ovcN-gPUWc"
      }
    },
    {
      "cell_type": "code",
      "source": [
        "# Create histogram with 100 bars\n",
        "plt.hist(normalized_data, 100)\n",
        "\n",
        "# Plots the histogram\n",
        "plt.show()"
      ],
      "metadata": {
        "colab": {
          "base_uri": "https://localhost:8080/",
          "height": 265
        },
        "id": "kAoUhiKaPR9x",
        "outputId": "fe3e0a1b-73f4-4656-9298-87a4003bebe2"
      },
      "execution_count": 13,
      "outputs": [
        {
          "output_type": "display_data",
          "data": {
            "text/plain": [
              "<Figure size 432x288 with 1 Axes>"
            ],
            "image/png": "[encoded data removed]"
          },
          "metadata": {
            "needs_background": "light"
          }
        }
      ]
    },
    {
      "cell_type": "markdown",
      "source": [
        "As we can see from the histogram, there are most values closer to 5, with 5 being the mode. This shows that the data points are normalized around 5."
      ],
      "metadata": {
        "id": "8KC1CxBGPpm8"
      }
    },
    {
      "cell_type": "markdown",
      "source": [
        "## Scatter Plotting\n",
        "\n",
        "A scatter plot is a diagram where each value in the data set is represented by a dot.\n",
        "\n",
        "The Matplotlib module has a method for drawing scatter plots, it needs two arrays of the same length, one for the values of the x-axis, and one for the values of the y-axis:"
      ],
      "metadata": {
        "id": "yxomwmBROdHf"
      }
    },
    {
      "cell_type": "code",
      "source": [
        "# Declare values for x-axis and y-axis\n",
        "car_age = [5, 7, 8, 7, 2, 17, 2, 9, 4, 11, 12, 9, 6]\n",
        "car_speed = [99, 86, 87, 88, 111, 86, 103, 87, 94, 78, 77, 85, 86]"
      ],
      "metadata": {
        "id": "pNYNT12oOlcj"
      },
      "execution_count": 14,
      "outputs": []
    },
    {
      "cell_type": "markdown",
      "source": [
        "We will plot a scatter plot of speed against age:"
      ],
      "metadata": {
        "id": "XD33pGQrO-Qb"
      }
    },
    {
      "cell_type": "code",
      "source": [
        "# Create a scatter plot\n",
        "plt.scatter(car_age, car_speed)\n",
        "\n",
        "# Plots the scatter plot\n",
        "plt.show()"
      ],
      "metadata": {
        "colab": {
          "base_uri": "https://localhost:8080/",
          "height": 265
        },
        "id": "h1vM-WVbO8ov",
        "outputId": "6c97be91-35db-463c-d101-d1307c2999f8"
      },
      "execution_count": 15,
      "outputs": [
        {
          "output_type": "display_data",
          "data": {
            "text/plain": [
              "<Figure size 432x288 with 1 Axes>"
            ],
            "image/png": "[encoded data removed]"
          },
          "metadata": {
            "needs_background": "light"
          }
        }
      ]
    },
    {
      "cell_type": "markdown",
      "source": [
        "It seems that the newer the car, the faster it drives, but that could be a coincidence, after all we only registered 13 cars."
      ],
      "metadata": {
        "id": "HmeJOf5XPeVn"
      }
    },
    {
      "cell_type": "markdown",
      "source": [
        "# Supervised Learning\n",
        "\n",
        "The majority of ML algorithms uses Supervised Learning.\n",
        "\n",
        "It is called supervised learning because the process of an algorithm learning from the training dataset can be thought of as a teacher supervising the learning process: \n",
        "\n",
        "* We know the correct answers, the algorithm iteratively makes predictions on the training data and is corrected by the teacher. \n",
        "* Learning stops when the algorithm achieves an acceptable level of performance.\n",
        "\n",
        "Some of the supervised learning methods are:\n",
        "\n",
        "* Regressions\n",
        "* Decision Tree and Random Forests\n",
        "* *K*-Nearest Neighbor (KNN)\n",
        "* Naive Bayes Classification\n",
        "* Neural Networks"
      ],
      "metadata": {
        "id": "CblI0jzoYbw7"
      }
    },
    {
      "cell_type": "markdown",
      "source": [
        "## Regression\n",
        "\n",
        "The term **regression** is used when you try to find the relationship between variables. In ML and in statistical modeling, that relationship is used to predict the outcome of future events."
      ],
      "metadata": {
        "id": "Pg66WajHxdRs"
      }
    },
    {
      "cell_type": "markdown",
      "source": [
        "### Linear Regression\n",
        "\n",
        "Linear regression uses the relationship between the data points to draw a **straight line** through all them. This line can be used to predict future values.\n",
        "\n",
        "`Python` has methods for finding a relationship between data points and to draw a line of linear regression. We will use the MatPlotLib's `pyplot` to plot the scattered graph, and we will use SciPy stat's `linregress()` method to obtain our linear graph object.\n",
        "\n",
        "Learn more on `linregress()` method [here](https://docs.scipy.org/doc/scipy/reference/generated/scipy.stats.linregress.html)."
      ],
      "metadata": {
        "id": "65i4AlGdxniJ"
      }
    },
    {
      "cell_type": "code",
      "source": [
        "# Create a scatter plot\n",
        "plt.scatter(car_age, car_speed)\n",
        "\n",
        "# Obtain the linear graph details\n",
        "slope, intercept, r, p, se = stats.linregress(car_age, car_speed)\n",
        "\n",
        "# Generate points for linear graph\n",
        "x = car_age\n",
        "y = list(map(lambda X: (slope * X) + intercept, x))\n",
        "\n",
        "# Create line plot\n",
        "plt.plot(x, y)\n",
        "\n",
        "# Plots the scatter plot\n",
        "plt.show()"
      ],
      "metadata": {
        "colab": {
          "base_uri": "https://localhost:8080/",
          "height": 265
        },
        "id": "K2ehm0oOPfZk",
        "outputId": "d1251c98-f1ca-4ae4-fa82-b8c23eb0fdbd"
      },
      "execution_count": 16,
      "outputs": [
        {
          "output_type": "display_data",
          "data": {
            "text/plain": [
              "<Figure size 432x288 with 1 Axes>"
            ],
            "image/png": "[encoded data removed]"
          },
          "metadata": {
            "needs_background": "light"
          }
        }
      ]
    },
    {
      "cell_type": "markdown",
      "source": [
        "We could also define the function of the linear graph using the values obtained from the `linregress()` method, so that we can make predictions using our own data:"
      ],
      "metadata": {
        "id": "Mst4E_obBhKq"
      }
    },
    {
      "cell_type": "code",
      "source": [
        "def f(x):\n",
        "    return (slope * x) + intercept"
      ],
      "metadata": {
        "id": "QwuO35OkBpAB"
      },
      "execution_count": 17,
      "outputs": []
    },
    {
      "cell_type": "markdown",
      "source": [
        "Let's try to obtain the speed of a car with age 10:"
      ],
      "metadata": {
        "id": "S52yfxUMBuU7"
      }
    },
    {
      "cell_type": "code",
      "source": [
        "print(f(10))"
      ],
      "metadata": {
        "colab": {
          "base_uri": "https://localhost:8080/"
        },
        "id": "JHmDmIptBw83",
        "outputId": "5009f6f6-db27-481d-8247-657bd9e60c39"
      },
      "execution_count": 18,
      "outputs": [
        {
          "output_type": "stream",
          "name": "stdout",
          "text": [
            "85.59308314937454\n"
          ]
        }
      ]
    },
    {
      "cell_type": "markdown",
      "source": [
        "Notice that the `linregress()` method returns 5 fields which are:\n",
        "\n",
        "* `slope`: the gradient of the linear graph.\n",
        "* `intercept`: the y-intercept of the linear graph.\n",
        "* `r`: the Pearson correlation coefficient.\n",
        "* `p`: tests the null hypothesis that the coefficient is equal to zero.\n",
        "* `se`: the standard error of the estimated gradient."
      ],
      "metadata": {
        "id": "GlLR5UVe4vuO"
      }
    },
    {
      "cell_type": "markdown",
      "source": [
        "#### Pearson Correlation Coefficient, `r`\n",
        "\n",
        "It is important to know how the relationship between the values of the x-axis and the values of the y-axis is, if there are no relationship the linear regression can not be used to predict anything.\n",
        "\n",
        "This relationship, aka the coefficient of correlation, is called `r`.\n",
        "\n",
        "The `r` value ranges from -1 to 1, where 0 means no relationship, and 1 (and -1) means 100% related.\n",
        "\n",
        "Let's look at how well our car data fits in the linear regression:"
      ],
      "metadata": {
        "id": "LSBK6ie-_8YW"
      }
    },
    {
      "cell_type": "code",
      "source": [
        "r"
      ],
      "metadata": {
        "colab": {
          "base_uri": "https://localhost:8080/"
        },
        "id": "9dMDzCrZ_6z2",
        "outputId": "bdf02446-106d-43c1-ebdf-790801cdc069"
      },
      "execution_count": 19,
      "outputs": [
        {
          "output_type": "execute_result",
          "data": {
            "text/plain": [
              "-0.758591524376155"
            ]
          },
          "metadata": {},
          "execution_count": 19
        }
      ]
    },
    {
      "cell_type": "markdown",
      "source": [
        "We noticed that the value of `r` is about -0.76, which shows that there is a relationship, but not perfect. \n",
        "\n",
        "However, it indicates that we could use linear regression in future predictions.\n",
        "\n"
      ],
      "metadata": {
        "id": "J-NcNPHEAXH3"
      }
    },
    {
      "cell_type": "markdown",
      "source": [
        "### Polynomial Regression\n",
        "\n",
        "If our data points clearly will not fit a linear regression (a straight line through all data points), it might be ideal for polynomial regression.\n",
        "\n",
        "Polynomial regression, like linear regression, uses the relationship between the variables x and y to find the best way to draw a line through the data points.\n",
        "\n",
        "`Python` has methods for finding a relationship between data points and to draw a line of linear regression. We will use the MatPlotLib's `pyplot` to plot the scattered graph, and we will use NumPy's `polyfit()` method and `poly1d` class to create our polynomial model.\n",
        "\n",
        "Learn more on `polyfit()` method [here](https://numpy.org/doc/stable/reference/generated/numpy.polyfit.html).\n",
        "<br> Learn more on `poly1d` class [here](https://numpy.org/doc/stable/reference/generated/numpy.poly1d.html)."
      ],
      "metadata": {
        "id": "asujOoBIDZPq"
      }
    },
    {
      "cell_type": "code",
      "source": [
        "# Define a data set\n",
        "x = [1, 2, 3, 5, 6, 7, 8, 9, 10, 12, 13, 14, 15, 16, 18, 19, 21, 22]\n",
        "y = [100, 90, 80, 60, 60, 55, 60, 65, 70, 70, 75, 76, 78, 79, 90, 99, 99, 100]\n",
        "\n",
        "# Create a scatter plot\n",
        "plt.scatter(x, y)\n",
        "\n",
        "# Plots the scatter plot\n",
        "plt.show()"
      ],
      "metadata": {
        "id": "r3PeA9zpAgM9",
        "colab": {
          "base_uri": "https://localhost:8080/",
          "height": 265
        },
        "outputId": "53c6f519-41db-4c5d-d814-c9b834f9a1bd"
      },
      "execution_count": 20,
      "outputs": [
        {
          "output_type": "display_data",
          "data": {
            "text/plain": [
              "<Figure size 432x288 with 1 Axes>"
            ],
            "image/png": "[encoded data removed]"
          },
          "metadata": {
            "needs_background": "light"
          }
        }
      ]
    },
    {
      "cell_type": "markdown",
      "source": [
        "From the scatter plot, it looks like the graph can be fit with a cubic (polynomial of the 3rd degree) line graph:"
      ],
      "metadata": {
        "id": "DYbpcvQMrurG"
      }
    },
    {
      "cell_type": "code",
      "source": [
        "# Define line function\n",
        "deg = 3\n",
        "g = np.poly1d(np.polyfit(x, y, deg))\n",
        "\n",
        "# Create a scatter plot\n",
        "plt.scatter(x, y)\n",
        "\n",
        "# Generate 100 equally spaced x points for graph line\n",
        "line_x = np.linspace(min(x), max(x), 100)\n",
        "\n",
        "# Create line plot\n",
        "plt.plot(line_x, g(line_x))\n",
        "\n",
        "# Plots the scatter plot\n",
        "plt.show()"
      ],
      "metadata": {
        "colab": {
          "base_uri": "https://localhost:8080/",
          "height": 265
        },
        "id": "G-6hwUM7ruFq",
        "outputId": "da1c3771-60ed-4d5d-891c-b8f695261193"
      },
      "execution_count": 21,
      "outputs": [
        {
          "output_type": "display_data",
          "data": {
            "text/plain": [
              "<Figure size 432x288 with 1 Axes>"
            ],
            "image/png": "[encoded data removed]"
          },
          "metadata": {
            "needs_background": "light"
          }
        }
      ]
    },
    {
      "cell_type": "markdown",
      "source": [
        "#### R-Squared\n",
        "\n",
        "We have learnt about `r` previously, now we will learn about its squared, namely r-squared, which is the measure of the relationship between x and y values.\n",
        "\n",
        "It is important to know how well the relationship between the values of the x- and y-axis is, if there are no relationship the polynomial regression can not be used to predict anything.\n",
        "\n",
        "The r-squared value ranges from 0 to 1, where 0 means no relationship, and 1 means 100% related.\n",
        "\n",
        "`Python` and the Sklearn module will compute this value for you, all you have to do is feed it with the x and y arrays:"
      ],
      "metadata": {
        "id": "NBDkl9D4taLp"
      }
    },
    {
      "cell_type": "code",
      "source": [
        "# Import libraries\n",
        "from sklearn.metrics import r2_score\n",
        "\n",
        "# Determine the r2 between actual (y) and predicted (g(x))\n",
        "r2_score(y, g(x))"
      ],
      "metadata": {
        "colab": {
          "base_uri": "https://localhost:8080/"
        },
        "id": "HrvsEe5Ft3B1",
        "outputId": "1778f134-2051-4a56-9c53-f0fab6bfc687"
      },
      "execution_count": 22,
      "outputs": [
        {
          "output_type": "execute_result",
          "data": {
            "text/plain": [
              "0.9432150416451025"
            ]
          },
          "metadata": {},
          "execution_count": 22
        }
      ]
    },
    {
      "cell_type": "markdown",
      "source": [
        "The result which is about 0.94 shows that there is a very good relationship, and we can use polynomial regression in future predictions."
      ],
      "metadata": {
        "id": "yLXoZsn0ucIO"
      }
    },
    {
      "cell_type": "markdown",
      "source": [
        "### Multiple Regression\n",
        "\n",
        "Multiple regression is like linear regression, but with more than one independent value, meaning that we try to predict a value based on two or more variables.\n",
        "\n",
        "Multiple Regression is used mostly when we have a data set. We will be using the car data set from the following GitHub repo:"
      ],
      "metadata": {
        "id": "pTK-ySnSu_kl"
      }
    },
    {
      "cell_type": "code",
      "source": [
        "!git clone https://github.com/LimJY03/W3MachineLearning.git"
      ],
      "metadata": {
        "colab": {
          "base_uri": "https://localhost:8080/"
        },
        "id": "72IFgn9J4xIK",
        "outputId": "bd9e0047-410b-4dbf-88d2-1c2a00168deb"
      },
      "execution_count": 23,
      "outputs": [
        {
          "output_type": "stream",
          "name": "stdout",
          "text": [
            "Cloning into 'W3MachineLearning'...\n",
            "remote: Enumerating objects: 16, done.\u001b[K\n",
            "remote: Counting objects: 100% (16/16), done.\u001b[K\n",
            "remote: Compressing objects: 100% (13/13), done.\u001b[K\n",
            "remote: Total 16 (delta 4), reused 10 (delta 1), pack-reused 0\u001b[K\n",
            "Unpacking objects: 100% (16/16), done.\n"
          ]
        }
      ]
    },
    {
      "cell_type": "markdown",
      "source": [
        "Take a look at the data set below, it contains some information about cars."
      ],
      "metadata": {
        "id": "uCIz8hf34mFO"
      }
    },
    {
      "cell_type": "code",
      "source": [
        "# Import libraries\n",
        "import pandas as pd\n",
        "\n",
        "# Create data frame from csv file\n",
        "car_dataset = pd.read_csv('./W3MachineLearning/datasets/cardata.csv')\n",
        "car_dataset"
      ],
      "metadata": {
        "colab": {
          "base_uri": "https://localhost:8080/",
          "height": 1000
        },
        "id": "Qd9WGPCdufnV",
        "outputId": "0660ee31-cd82-422e-d107-388a19e90747"
      },
      "execution_count": 24,
      "outputs": [
        {
          "output_type": "execute_result",
          "data": {
            "text/plain": [
              "           Car       Model  Volume  Weight  CO2\n",
              "0       Toyota        Aygo    1000     790   99\n",
              "1   Mitsubishi  Space Star    1200    1160   95\n",
              "2        Skoda      Citigo    1000     929   95\n",
              "3         Fiat         500     900     865   90\n",
              "4         Mini      Cooper    1500    1140  105\n",
              "5           VW         Up!    1000     929  105\n",
              "6        Skoda       Fabia    1400    1109   90\n",
              "7     Mercedes     A-Class    1500    1365   92\n",
              "8         Ford      Fiesta    1500    1112   98\n",
              "9         Audi          A1    1600    1150   99\n",
              "10     Hyundai         I20    1100     980   99\n",
              "11      Suzuki       Swift    1300     990  101\n",
              "12        Ford      Fiesta    1000    1112   99\n",
              "13       Honda       Civic    1600    1252   94\n",
              "14      Hundai         I30    1600    1326   97\n",
              "15        Opel       Astra    1600    1330   97\n",
              "16         BMW           1    1600    1365   99\n",
              "17       Mazda           3    2200    1280  104\n",
              "18       Skoda       Rapid    1600    1119  104\n",
              "19        Ford       Focus    2000    1328  105\n",
              "20        Ford      Mondeo    1600    1584   94\n",
              "21        Opel    Insignia    2000    1428   99\n",
              "22    Mercedes     C-Class    2100    1365   99\n",
              "23       Skoda     Octavia    1600    1415   99\n",
              "24       Volvo         S60    2000    1415   99\n",
              "25    Mercedes         CLA    1500    1465  102\n",
              "26        Audi          A4    2000    1490  104\n",
              "27        Audi          A6    2000    1725  114\n",
              "28       Volvo         V70    1600    1523  109\n",
              "29         BMW           5    2000    1705  114\n",
              "30    Mercedes     E-Class    2100    1605  115\n",
              "31       Volvo        XC70    2000    1746  117\n",
              "32        Ford       B-Max    1600    1235  104\n",
              "33         BMW           2    1600    1390  108\n",
              "34        Opel      Zafira    1600    1405  109\n",
              "35    Mercedes         SLK    2500    1395  120"
            ],
            "text/html": [
              "\n",
              "  <div id=\"df-d127643b-c318-44a8-b649-54ae737cc627\">\n",
              "    <div class=\"colab-df-container\">\n",
              "      <div>\n",
              "<style scoped>\n",
              "    .dataframe tbody tr th:only-of-type {\n",
              "        vertical-align: middle;\n",
              "    }\n",
              "\n",
              "    .dataframe tbody tr th {\n",
              "        vertical-align: top;\n",
              "    }\n",
              "\n",
              "    .dataframe thead th {\n",
              "        text-align: right;\n",
              "    }\n",
              "</style>\n",
              "<table border=\"1\" class=\"dataframe\">\n",
              "  <thead>\n",
              "    <tr style=\"text-align: right;\">\n",
              "      <th></th>\n",
              "      <th>Car</th>\n",
              "      <th>Model</th>\n",
              "      <th>Volume</th>\n",
              "      <th>Weight</th>\n",
              "      <th>CO2</th>\n",
              "    </tr>\n",
              "  </thead>\n",
              "  <tbody>\n",
              "    <tr>\n",
              "      <th>0</th>\n",
              "      <td>Toyota</td>\n",
              "      <td>Aygo</td>\n",
              "      <td>1000</td>\n",
              "      <td>790</td>\n",
              "      <td>99</td>\n",
              "    </tr>\n",
              "    <tr>\n",
              "      <th>1</th>\n",
              "      <td>Mitsubishi</td>\n",
              "      <td>Space Star</td>\n",
              "      <td>1200</td>\n",
              "      <td>1160</td>\n",
              "      <td>95</td>\n",
              "    </tr>\n",
              "    <tr>\n",
              "      <th>2</th>\n",
              "      <td>Skoda</td>\n",
              "      <td>Citigo</td>\n",
              "      <td>1000</td>\n",
              "      <td>929</td>\n",
              "      <td>95</td>\n",
              "    </tr>\n",
              "    <tr>\n",
              "      <th>3</th>\n",
              "      <td>Fiat</td>\n",
              "      <td>500</td>\n",
              "      <td>900</td>\n",
              "      <td>865</td>\n",
              "      <td>90</td>\n",
              "    </tr>\n",
              "    <tr>\n",
              "      <th>4</th>\n",
              "      <td>Mini</td>\n",
              "      <td>Cooper</td>\n",
              "      <td>1500</td>\n",
              "      <td>1140</td>\n",
              "      <td>105</td>\n",
              "    </tr>\n",
              "    <tr>\n",
              "      <th>5</th>\n",
              "      <td>VW</td>\n",
              "      <td>Up!</td>\n",
              "      <td>1000</td>\n",
              "      <td>929</td>\n",
              "      <td>105</td>\n",
              "    </tr>\n",
              "    <tr>\n",
              "      <th>6</th>\n",
              "      <td>Skoda</td>\n",
              "      <td>Fabia</td>\n",
              "      <td>1400</td>\n",
              "      <td>1109</td>\n",
              "      <td>90</td>\n",
              "    </tr>\n",
              "    <tr>\n",
              "      <th>7</th>\n",
              "      <td>Mercedes</td>\n",
              "      <td>A-Class</td>\n",
              "      <td>1500</td>\n",
              "      <td>1365</td>\n",
              "      <td>92</td>\n",
              "    </tr>\n",
              "    <tr>\n",
              "      <th>8</th>\n",
              "      <td>Ford</td>\n",
              "      <td>Fiesta</td>\n",
              "      <td>1500</td>\n",
              "      <td>1112</td>\n",
              "      <td>98</td>\n",
              "    </tr>\n",
              "    <tr>\n",
              "      <th>9</th>\n",
              "      <td>Audi</td>\n",
              "      <td>A1</td>\n",
              "      <td>1600</td>\n",
              "      <td>1150</td>\n",
              "      <td>99</td>\n",
              "    </tr>\n",
              "    <tr>\n",
              "      <th>10</th>\n",
              "      <td>Hyundai</td>\n",
              "      <td>I20</td>\n",
              "      <td>1100</td>\n",
              "      <td>980</td>\n",
              "      <td>99</td>\n",
              "    </tr>\n",
              "    <tr>\n",
              "      <th>11</th>\n",
              "      <td>Suzuki</td>\n",
              "      <td>Swift</td>\n",
              "      <td>1300</td>\n",
              "      <td>990</td>\n",
              "      <td>101</td>\n",
              "    </tr>\n",
              "    <tr>\n",
              "      <th>12</th>\n",
              "      <td>Ford</td>\n",
              "      <td>Fiesta</td>\n",
              "      <td>1000</td>\n",
              "      <td>1112</td>\n",
              "      <td>99</td>\n",
              "    </tr>\n",
              "    <tr>\n",
              "      <th>13</th>\n",
              "      <td>Honda</td>\n",
              "      <td>Civic</td>\n",
              "      <td>1600</td>\n",
              "      <td>1252</td>\n",
              "      <td>94</td>\n",
              "    </tr>\n",
              "    <tr>\n",
              "      <th>14</th>\n",
              "      <td>Hundai</td>\n",
              "      <td>I30</td>\n",
              "      <td>1600</td>\n",
              "      <td>1326</td>\n",
              "      <td>97</td>\n",
              "    </tr>\n",
              "    <tr>\n",
              "      <th>15</th>\n",
              "      <td>Opel</td>\n",
              "      <td>Astra</td>\n",
              "      <td>1600</td>\n",
              "      <td>1330</td>\n",
              "      <td>97</td>\n",
              "    </tr>\n",
              "    <tr>\n",
              "      <th>16</th>\n",
              "      <td>BMW</td>\n",
              "      <td>1</td>\n",
              "      <td>1600</td>\n",
              "      <td>1365</td>\n",
              "      <td>99</td>\n",
              "    </tr>\n",
              "    <tr>\n",
              "      <th>17</th>\n",
              "      <td>Mazda</td>\n",
              "      <td>3</td>\n",
              "      <td>2200</td>\n",
              "      <td>1280</td>\n",
              "      <td>104</td>\n",
              "    </tr>\n",
              "    <tr>\n",
              "      <th>18</th>\n",
              "      <td>Skoda</td>\n",
              "      <td>Rapid</td>\n",
              "      <td>1600</td>\n",
              "      <td>1119</td>\n",
              "      <td>104</td>\n",
              "    </tr>\n",
              "    <tr>\n",
              "      <th>19</th>\n",
              "      <td>Ford</td>\n",
              "      <td>Focus</td>\n",
              "      <td>2000</td>\n",
              "      <td>1328</td>\n",
              "      <td>105</td>\n",
              "    </tr>\n",
              "    <tr>\n",
              "      <th>20</th>\n",
              "      <td>Ford</td>\n",
              "      <td>Mondeo</td>\n",
              "      <td>1600</td>\n",
              "      <td>1584</td>\n",
              "      <td>94</td>\n",
              "    </tr>\n",
              "    <tr>\n",
              "      <th>21</th>\n",
              "      <td>Opel</td>\n",
              "      <td>Insignia</td>\n",
              "      <td>2000</td>\n",
              "      <td>1428</td>\n",
              "      <td>99</td>\n",
              "    </tr>\n",
              "    <tr>\n",
              "      <th>22</th>\n",
              "      <td>Mercedes</td>\n",
              "      <td>C-Class</td>\n",
              "      <td>2100</td>\n",
              "      <td>1365</td>\n",
              "      <td>99</td>\n",
              "    </tr>\n",
              "    <tr>\n",
              "      <th>23</th>\n",
              "      <td>Skoda</td>\n",
              "      <td>Octavia</td>\n",
              "      <td>1600</td>\n",
              "      <td>1415</td>\n",
              "      <td>99</td>\n",
              "    </tr>\n",
              "    <tr>\n",
              "      <th>24</th>\n",
              "      <td>Volvo</td>\n",
              "      <td>S60</td>\n",
              "      <td>2000</td>\n",
              "      <td>1415</td>\n",
              "      <td>99</td>\n",
              "    </tr>\n",
              "    <tr>\n",
              "      <th>25</th>\n",
              "      <td>Mercedes</td>\n",
              "      <td>CLA</td>\n",
              "      <td>1500</td>\n",
              "      <td>1465</td>\n",
              "      <td>102</td>\n",
              "    </tr>\n",
              "    <tr>\n",
              "      <th>26</th>\n",
              "      <td>Audi</td>\n",
              "      <td>A4</td>\n",
              "      <td>2000</td>\n",
              "      <td>1490</td>\n",
              "      <td>104</td>\n",
              "    </tr>\n",
              "    <tr>\n",
              "      <th>27</th>\n",
              "      <td>Audi</td>\n",
              "      <td>A6</td>\n",
              "      <td>2000</td>\n",
              "      <td>1725</td>\n",
              "      <td>114</td>\n",
              "    </tr>\n",
              "    <tr>\n",
              "      <th>28</th>\n",
              "      <td>Volvo</td>\n",
              "      <td>V70</td>\n",
              "      <td>1600</td>\n",
              "      <td>1523</td>\n",
              "      <td>109</td>\n",
              "    </tr>\n",
              "    <tr>\n",
              "      <th>29</th>\n",
              "      <td>BMW</td>\n",
              "      <td>5</td>\n",
              "      <td>2000</td>\n",
              "      <td>1705</td>\n",
              "      <td>114</td>\n",
              "    </tr>\n",
              "    <tr>\n",
              "      <th>30</th>\n",
              "      <td>Mercedes</td>\n",
              "      <td>E-Class</td>\n",
              "      <td>2100</td>\n",
              "      <td>1605</td>\n",
              "      <td>115</td>\n",
              "    </tr>\n",
              "    <tr>\n",
              "      <th>31</th>\n",
              "      <td>Volvo</td>\n",
              "      <td>XC70</td>\n",
              "      <td>2000</td>\n",
              "      <td>1746</td>\n",
              "      <td>117</td>\n",
              "    </tr>\n",
              "    <tr>\n",
              "      <th>32</th>\n",
              "      <td>Ford</td>\n",
              "      <td>B-Max</td>\n",
              "      <td>1600</td>\n",
              "      <td>1235</td>\n",
              "      <td>104</td>\n",
              "    </tr>\n",
              "    <tr>\n",
              "      <th>33</th>\n",
              "      <td>BMW</td>\n",
              "      <td>2</td>\n",
              "      <td>1600</td>\n",
              "      <td>1390</td>\n",
              "      <td>108</td>\n",
              "    </tr>\n",
              "    <tr>\n",
              "      <th>34</th>\n",
              "      <td>Opel</td>\n",
              "      <td>Zafira</td>\n",
              "      <td>1600</td>\n",
              "      <td>1405</td>\n",
              "      <td>109</td>\n",
              "    </tr>\n",
              "    <tr>\n",
              "      <th>35</th>\n",
              "      <td>Mercedes</td>\n",
              "      <td>SLK</td>\n",
              "      <td>2500</td>\n",
              "      <td>1395</td>\n",
              "      <td>120</td>\n",
              "    </tr>\n",
              "  </tbody>\n",
              "</table>\n",
              "</div>\n",
              "      <button class=\"colab-df-convert\" onclick=\"convertToInteractive('df-d127643b-c318-44a8-b649-54ae737cc627')\"\n",
              "              title=\"Convert this dataframe to an interactive table.\"\n",
              "              style=\"display:none;\">\n",
              "        \n",
              "  <svg xmlns=\"http://www.w3.org/2000/svg\" height=\"24px\"viewBox=\"0 0 24 24\"\n",
              "       width=\"24px\">\n",
              "    <path d=\"M0 0h24v24H0V0z\" fill=\"none\"/>\n",
              "    <path d=\"M18.56 5.44l.94 2.06.94-2.06 2.06-.94-2.06-.94-.94-2.06-.94 2.06-2.06.94zm-11 1L8.5 8.5l.94-2.06 2.06-.94-2.06-.94L8.5 2.5l-.94 2.06-2.06.94zm10 10l.94 2.06.94-2.06 2.06-.94-2.06-.94-.94-2.06-.94 2.06-2.06.94z\"/><path d=\"M17.41 7.96l-1.37-1.37c-.4-.4-.92-.59-1.43-.59-.52 0-1.04.2-1.43.59L10.3 9.45l-7.72 7.72c-.78.78-.78 2.05 0 2.83L4 21.41c.39.39.9.59 1.41.59.51 0 1.02-.2 1.41-.59l7.78-7.78 2.81-2.81c.8-.78.8-2.07 0-2.86zM5.41 20L4 18.59l7.72-7.72 1.47 1.35L5.41 20z\"/>\n",
              "  </svg>\n",
              "      </button>\n",
              "      \n",
              "  <style>\n",
              "    .colab-df-container {\n",
              "      display:flex;\n",
              "      flex-wrap:wrap;\n",
              "      gap: 12px;\n",
              "    }\n",
              "\n",
              "    .colab-df-convert {\n",
              "      background-color: #E8F0FE;\n",
              "      border: none;\n",
              "      border-radius: 50%;\n",
              "      cursor: pointer;\n",
              "      display: none;\n",
              "      fill: #1967D2;\n",
              "      height: 32px;\n",
              "      padding: 0 0 0 0;\n",
              "      width: 32px;\n",
              "    }\n",
              "\n",
              "    .colab-df-convert:hover {\n",
              "      background-color: #E2EBFA;\n",
              "      box-shadow: 0px 1px 2px rgba(60, 64, 67, 0.3), 0px 1px 3px 1px rgba(60, 64, 67, 0.15);\n",
              "      fill: #174EA6;\n",
              "    }\n",
              "\n",
              "    [theme=dark] .colab-df-convert {\n",
              "      background-color: #3B4455;\n",
              "      fill: #D2E3FC;\n",
              "    }\n",
              "\n",
              "    [theme=dark] .colab-df-convert:hover {\n",
              "      background-color: #434B5C;\n",
              "      box-shadow: 0px 1px 3px 1px rgba(0, 0, 0, 0.15);\n",
              "      filter: drop-shadow(0px 1px 2px rgba(0, 0, 0, 0.3));\n",
              "      fill: #FFFFFF;\n",
              "    }\n",
              "  </style>\n",
              "\n",
              "      <script>\n",
              "        const buttonEl =\n",
              "          document.querySelector('#df-d127643b-c318-44a8-b649-54ae737cc627 button.colab-df-convert');\n",
              "        buttonEl.style.display =\n",
              "          google.colab.kernel.accessAllowed ? 'block' : 'none';\n",
              "\n",
              "        async function convertToInteractive(key) {\n",
              "          const element = document.querySelector('#df-d127643b-c318-44a8-b649-54ae737cc627');\n",
              "          const dataTable =\n",
              "            await google.colab.kernel.invokeFunction('convertToInteractive',\n",
              "                                                     [key], {});\n",
              "          if (!dataTable) return;\n",
              "\n",
              "          const docLinkHtml = 'Like what you see? Visit the ' +\n",
              "            '<a target=\"_blank\" href=https://colab.research.google.com/notebooks/data_table.ipynb>data table notebook</a>'\n",
              "            + ' to learn more about interactive tables.';\n",
              "          element.innerHTML = '';\n",
              "          dataTable['output_type'] = 'display_data';\n",
              "          await google.colab.output.renderOutput(dataTable, element);\n",
              "          const docLink = document.createElement('div');\n",
              "          docLink.innerHTML = docLinkHtml;\n",
              "          element.appendChild(docLink);\n",
              "        }\n",
              "      </script>\n",
              "    </div>\n",
              "  </div>\n",
              "  "
            ]
          },
          "metadata": {},
          "execution_count": 24
        }
      ]
    },
    {
      "cell_type": "markdown",
      "source": [
        "We can predict the CO2 emission of a car based on the size of the engine, but with multiple regression we can throw in more variables, like the weight of the car, to make the prediction more accurate.\n",
        "\n",
        "We will set the interpendent feature columns in `feature` df, and the CO2 emission column in `label` df:"
      ],
      "metadata": {
        "id": "2HHLLWRjxqem"
      }
    },
    {
      "cell_type": "code",
      "source": [
        "# Import libraries\n",
        "from sklearn import linear_model\n",
        "\n",
        "# Create feature and label data frame\n",
        "feature = car_dataset[['Volume', 'Weight']]\n",
        "label = car_dataset['CO2']\n",
        "\n",
        "# Create multiple regression model\n",
        "model = linear_model.LinearRegression()\n",
        "\n",
        "# Fit the model with the features and label\n",
        "model.fit(feature, label)"
      ],
      "metadata": {
        "colab": {
          "base_uri": "https://localhost:8080/"
        },
        "id": "7x6G6d2vxre4",
        "outputId": "fb84ba68-2c78-424c-dd81-f61d5598e89e"
      },
      "execution_count": 25,
      "outputs": [
        {
          "output_type": "execute_result",
          "data": {
            "text/plain": [
              "LinearRegression()"
            ]
          },
          "metadata": {},
          "execution_count": 25
        }
      ]
    },
    {
      "cell_type": "markdown",
      "source": [
        "Now we will predict the emission of CO2 when:\n",
        "\n",
        "* Volume is 1300\n",
        "* Weight is 2300"
      ],
      "metadata": {
        "id": "itHiuw-AzTfa"
      }
    },
    {
      "cell_type": "code",
      "source": [
        "# Make predictions\n",
        "model.predict([[1300, 2300]])"
      ],
      "metadata": {
        "colab": {
          "base_uri": "https://localhost:8080/"
        },
        "id": "KzRq77rXzWcv",
        "outputId": "fe71db4f-8b14-4acb-a899-b8a7ecca69a4"
      },
      "execution_count": 26,
      "outputs": [
        {
          "output_type": "stream",
          "name": "stderr",
          "text": [
            "/usr/local/lib/python3.7/dist-packages/sklearn/base.py:451: UserWarning: X does not have valid feature names, but LinearRegression was fitted with feature names\n",
            "  \"X does not have valid feature names, but\"\n"
          ]
        },
        {
          "output_type": "execute_result",
          "data": {
            "text/plain": [
              "array([107.2087328])"
            ]
          },
          "metadata": {},
          "execution_count": 26
        }
      ]
    },
    {
      "cell_type": "markdown",
      "source": [
        "We have predicted that a car with 1300 mL engine, and a weight of 2300 kg, will release approximately 107 g of CO2 for every kilometer it drives.\n",
        "\n",
        "The equation of the multiple regression has the following format:\n",
        "\n",
        "&emsp;$y = a * feature1 + b * feature2 + c$\n",
        "\n",
        "where $y$ is the predicted value, $a$ and $b$ are both constants or coefficients for each feature, and $c$ being the bias.\n",
        "\n",
        "We can determine the value of each coefficient $a$ and $b$ from the `coef_` property of our model:"
      ],
      "metadata": {
        "id": "9gMK_IE-0bzY"
      }
    },
    {
      "cell_type": "code",
      "source": [
        "model.coef_"
      ],
      "metadata": {
        "colab": {
          "base_uri": "https://localhost:8080/"
        },
        "id": "K0FmgNHJ0cOU",
        "outputId": "8b24e157-3b6c-412e-e764-1b1bff42f93b"
      },
      "execution_count": 27,
      "outputs": [
        {
          "output_type": "execute_result",
          "data": {
            "text/plain": [
              "array([0.00780526, 0.00755095])"
            ]
          },
          "metadata": {},
          "execution_count": 27
        }
      ]
    },
    {
      "cell_type": "markdown",
      "source": [
        "This shows that our equation is essentially:\n",
        "\n",
        "&emsp;$y = 0.0078526 * volume + 0.00755095 * weight + c$\n",
        "\n"
      ],
      "metadata": {
        "id": "CvnCXomX2fUn"
      }
    },
    {
      "cell_type": "markdown",
      "source": [
        "### Logistic Regression\n",
        "\n",
        "Logistic regression aims to solve classification problems. It does this by predicting **Categorical Outcomes**, unlike linear regression that predicts a continuous outcome.\n",
        "\n",
        "In the simpliest case there are two outcomes, which is called binomial, an example of which is predicting if a tumor is malignant or benign. Other cases have more than two outcomes to classify, in this case it is called multinomial. A common example for multinomial logistic regression would be predicting the class of an iris flower between 3 different species.\n",
        "\n",
        "Here we will be using basic logistic regression to predict a binomial variable. This means it has only two possible outcomes:"
      ],
      "metadata": {
        "id": "R9TAmsnGMgMe"
      }
    },
    {
      "cell_type": "code",
      "source": [
        "tumor_area = np.array([3.78, 2.44, 2.09, 0.14, 1.72, 1.65, 4.92, 4.37, 4.96, 4.52, 3.69, 5.88]).reshape(-1, 1)\n",
        "is_benign = np.array([0, 0, 0, 0, 0, 0, 1, 1, 1, 1, 1, 1])"
      ],
      "metadata": {
        "id": "NRrxr6qWNSuz"
      },
      "execution_count": 28,
      "outputs": []
    },
    {
      "cell_type": "markdown",
      "source": [
        "We reshaped the `tumor_area` array to a column using `.reshape(-1, 1)` method, where `-1` means \"any number\". Read more on the parameters of `fit()` method [here](https://scikit-learn.org/stable/modules/generated/sklearn.linear_model.LogisticRegression.html#sklearn.linear_model.LogisticRegression.fit).\n",
        "\n",
        "Now, we will create our Logistic Regression model:"
      ],
      "metadata": {
        "id": "qvhsUz7CQLow"
      }
    },
    {
      "cell_type": "code",
      "source": [
        "model = linear_model.LogisticRegression()\n",
        "\n",
        "# Fit the model with the feature and label\n",
        "model.fit(tumor_area, is_benign)"
      ],
      "metadata": {
        "colab": {
          "base_uri": "https://localhost:8080/"
        },
        "id": "_UStN1juQyXb",
        "outputId": "0a5eefba-b6fc-4f36-87b5-3c9435747b15"
      },
      "execution_count": 29,
      "outputs": [
        {
          "output_type": "execute_result",
          "data": {
            "text/plain": [
              "LogisticRegression()"
            ]
          },
          "metadata": {},
          "execution_count": 29
        }
      ]
    },
    {
      "cell_type": "markdown",
      "source": [
        "In logistic regression, we can determine the probability that a certain event will occur, which in this example will be the probability that a tumor is benign.\n",
        "\n",
        "We can calculate the probability using the following formula:\n",
        "\n",
        "![](https://camo.githubusercontent.com/d103d6d6aa9101709bd7bde372c8eaffb2101a518c0892540fa3ab1406c9d8f0/68747470733a2f2f6d656469612e646973636f72646170702e6e65742f6174746163686d656e74732f3938343635353732363430363430323038382f3938393030303036343732343739313332362f756e6b6e6f776e2e706e67)\n",
        "\n",
        "Source from [Google Cloud Skills Boost](https://youtu.be/8ptpVXbbSq4)."
      ],
      "metadata": {
        "id": "KzU1fprHRSIJ"
      }
    },
    {
      "cell_type": "code",
      "source": [
        "def get_probability(model, input):\n",
        "    return 1 / (1 + np.exp(-(model.coef_ * input + model.intercept_)))"
      ],
      "metadata": {
        "id": "jFYykaI2Sn0y"
      },
      "execution_count": 30,
      "outputs": []
    },
    {
      "cell_type": "markdown",
      "source": [
        "Now we will make predictions using tumor of area 3.46:"
      ],
      "metadata": {
        "id": "imQL0e8WTOKa"
      }
    },
    {
      "cell_type": "code",
      "source": [
        "get_probability(model, [3.46])"
      ],
      "metadata": {
        "colab": {
          "base_uri": "https://localhost:8080/"
        },
        "id": "0lj1W5jSTipG",
        "outputId": "c676c785-7814-4338-daf2-e06849f3373f"
      },
      "execution_count": 31,
      "outputs": [
        {
          "output_type": "execute_result",
          "data": {
            "text/plain": [
              "array([[0.4975947]])"
            ]
          },
          "metadata": {},
          "execution_count": 31
        }
      ]
    },
    {
      "cell_type": "markdown",
      "source": [
        "Looks like our model predicts that the tumor of area 3.46 has about 0.5 probability of being a benign tumor."
      ],
      "metadata": {
        "id": "Ezac_5zLUbd-"
      }
    },
    {
      "cell_type": "markdown",
      "source": [
        "#### Grid Search\n",
        "\n",
        "The majority of ML models contain parameters that can be adjusted to vary how the model learns. For example, the logistic regression model from sklearn, has a parameter `C` that controls regularization, which affects the complexity of the model.\n",
        "\n",
        "How do we pick the best value for `C`? The best value is dependent on the data used to train the model.\n",
        "\n",
        "One method is to try out different values and then pick the value that gives the best score. This technique is known as a **grid search**. If we had to select the values for two or more parameters, we would evaluate all combinations of the sets of values thus forming a grid of values.\n",
        "\n",
        "Before we get into the example it is good to know what the parameter we are changing does: \n",
        "\n",
        "* Higher values of `C`: the training data resembles real world information, place a greater weight on the training data. \n",
        "* Lower values of `C`: the training data does not resemble real world information, place a smaller weight on the training data.\n",
        "\n",
        "First let's see what kind of results we can generate without a grid search using only the base parameters.\n",
        "\n",
        "To get started we must first load in the dataset we will be working with:"
      ],
      "metadata": {
        "id": "N7HAiNO7ZMCX"
      }
    },
    {
      "cell_type": "code",
      "source": [
        "from sklearn import datasets\n",
        "\n",
        "iris_dataset = datasets.load_iris()\n",
        "iris_dataset"
      ],
      "metadata": {
        "colab": {
          "base_uri": "https://localhost:8080/"
        },
        "id": "fywWxNM0ZOLm",
        "outputId": "83a548c8-5360-4db1-a5bf-7afee020c47e"
      },
      "execution_count": 32,
      "outputs": [
        {
          "output_type": "execute_result",
          "data": {
            "text/plain": [
              "{'data': array([[5.1, 3.5, 1.4, 0.2],\n",
              "        [4.9, 3. , 1.4, 0.2],\n",
              "        [4.7, 3.2, 1.3, 0.2],\n",
              "        [4.6, 3.1, 1.5, 0.2],\n",
              "        [5. , 3.6, 1.4, 0.2],\n",
              "        [5.4, 3.9, 1.7, 0.4],\n",
              "        [4.6, 3.4, 1.4, 0.3],\n",
              "        [5. , 3.4, 1.5, 0.2],\n",
              "        [4.4, 2.9, 1.4, 0.2],\n",
              "        [4.9, 3.1, 1.5, 0.1],\n",
              "        [5.4, 3.7, 1.5, 0.2],\n",
              "        [4.8, 3.4, 1.6, 0.2],\n",
              "        [4.8, 3. , 1.4, 0.1],\n",
              "        [4.3, 3. , 1.1, 0.1],\n",
              "        [5.8, 4. , 1.2, 0.2],\n",
              "        [5.7, 4.4, 1.5, 0.4],\n",
              "        [5.4, 3.9, 1.3, 0.4],\n",
              "        [5.1, 3.5, 1.4, 0.3],\n",
              "        [5.7, 3.8, 1.7, 0.3],\n",
              "        [5.1, 3.8, 1.5, 0.3],\n",
              "        [5.4, 3.4, 1.7, 0.2],\n",
              "        [5.1, 3.7, 1.5, 0.4],\n",
              "        [4.6, 3.6, 1. , 0.2],\n",
              "        [5.1, 3.3, 1.7, 0.5],\n",
              "        [4.8, 3.4, 1.9, 0.2],\n",
              "        [5. , 3. , 1.6, 0.2],\n",
              "        [5. , 3.4, 1.6, 0.4],\n",
              "        [5.2, 3.5, 1.5, 0.2],\n",
              "        [5.2, 3.4, 1.4, 0.2],\n",
              "        [4.7, 3.2, 1.6, 0.2],\n",
              "        [4.8, 3.1, 1.6, 0.2],\n",
              "        [5.4, 3.4, 1.5, 0.4],\n",
              "        [5.2, 4.1, 1.5, 0.1],\n",
              "        [5.5, 4.2, 1.4, 0.2],\n",
              "        [4.9, 3.1, 1.5, 0.2],\n",
              "        [5. , 3.2, 1.2, 0.2],\n",
              "        [5.5, 3.5, 1.3, 0.2],\n",
              "        [4.9, 3.6, 1.4, 0.1],\n",
              "        [4.4, 3. , 1.3, 0.2],\n",
              "        [5.1, 3.4, 1.5, 0.2],\n",
              "        [5. , 3.5, 1.3, 0.3],\n",
              "        [4.5, 2.3, 1.3, 0.3],\n",
              "        [4.4, 3.2, 1.3, 0.2],\n",
              "        [5. , 3.5, 1.6, 0.6],\n",
              "        [5.1, 3.8, 1.9, 0.4],\n",
              "        [4.8, 3. , 1.4, 0.3],\n",
              "        [5.1, 3.8, 1.6, 0.2],\n",
              "        [4.6, 3.2, 1.4, 0.2],\n",
              "        [5.3, 3.7, 1.5, 0.2],\n",
              "        [5. , 3.3, 1.4, 0.2],\n",
              "        [7. , 3.2, 4.7, 1.4],\n",
              "        [6.4, 3.2, 4.5, 1.5],\n",
              "        [6.9, 3.1, 4.9, 1.5],\n",
              "        [5.5, 2.3, 4. , 1.3],\n",
              "        [6.5, 2.8, 4.6, 1.5],\n",
              "        [5.7, 2.8, 4.5, 1.3],\n",
              "        [6.3, 3.3, 4.7, 1.6],\n",
              "        [4.9, 2.4, 3.3, 1. ],\n",
              "        [6.6, 2.9, 4.6, 1.3],\n",
              "        [5.2, 2.7, 3.9, 1.4],\n",
              "        [5. , 2. , 3.5, 1. ],\n",
              "        [5.9, 3. , 4.2, 1.5],\n",
              "        [6. , 2.2, 4. , 1. ],\n",
              "        [6.1, 2.9, 4.7, 1.4],\n",
              "        [5.6, 2.9, 3.6, 1.3],\n",
              "        [6.7, 3.1, 4.4, 1.4],\n",
              "        [5.6, 3. , 4.5, 1.5],\n",
              "        [5.8, 2.7, 4.1, 1. ],\n",
              "        [6.2, 2.2, 4.5, 1.5],\n",
              "        [5.6, 2.5, 3.9, 1.1],\n",
              "        [5.9, 3.2, 4.8, 1.8],\n",
              "        [6.1, 2.8, 4. , 1.3],\n",
              "        [6.3, 2.5, 4.9, 1.5],\n",
              "        [6.1, 2.8, 4.7, 1.2],\n",
              "        [6.4, 2.9, 4.3, 1.3],\n",
              "        [6.6, 3. , 4.4, 1.4],\n",
              "        [6.8, 2.8, 4.8, 1.4],\n",
              "        [6.7, 3. , 5. , 1.7],\n",
              "        [6. , 2.9, 4.5, 1.5],\n",
              "        [5.7, 2.6, 3.5, 1. ],\n",
              "        [5.5, 2.4, 3.8, 1.1],\n",
              "        [5.5, 2.4, 3.7, 1. ],\n",
              "        [5.8, 2.7, 3.9, 1.2],\n",
              "        [6. , 2.7, 5.1, 1.6],\n",
              "        [5.4, 3. , 4.5, 1.5],\n",
              "        [6. , 3.4, 4.5, 1.6],\n",
              "        [6.7, 3.1, 4.7, 1.5],\n",
              "        [6.3, 2.3, 4.4, 1.3],\n",
              "        [5.6, 3. , 4.1, 1.3],\n",
              "        [5.5, 2.5, 4. , 1.3],\n",
              "        [5.5, 2.6, 4.4, 1.2],\n",
              "        [6.1, 3. , 4.6, 1.4],\n",
              "        [5.8, 2.6, 4. , 1.2],\n",
              "        [5. , 2.3, 3.3, 1. ],\n",
              "        [5.6, 2.7, 4.2, 1.3],\n",
              "        [5.7, 3. , 4.2, 1.2],\n",
              "        [5.7, 2.9, 4.2, 1.3],\n",
              "        [6.2, 2.9, 4.3, 1.3],\n",
              "        [5.1, 2.5, 3. , 1.1],\n",
              "        [5.7, 2.8, 4.1, 1.3],\n",
              "        [6.3, 3.3, 6. , 2.5],\n",
              "        [5.8, 2.7, 5.1, 1.9],\n",
              "        [7.1, 3. , 5.9, 2.1],\n",
              "        [6.3, 2.9, 5.6, 1.8],\n",
              "        [6.5, 3. , 5.8, 2.2],\n",
              "        [7.6, 3. , 6.6, 2.1],\n",
              "        [4.9, 2.5, 4.5, 1.7],\n",
              "        [7.3, 2.9, 6.3, 1.8],\n",
              "        [6.7, 2.5, 5.8, 1.8],\n",
              "        [7.2, 3.6, 6.1, 2.5],\n",
              "        [6.5, 3.2, 5.1, 2. ],\n",
              "        [6.4, 2.7, 5.3, 1.9],\n",
              "        [6.8, 3. , 5.5, 2.1],\n",
              "        [5.7, 2.5, 5. , 2. ],\n",
              "        [5.8, 2.8, 5.1, 2.4],\n",
              "        [6.4, 3.2, 5.3, 2.3],\n",
              "        [6.5, 3. , 5.5, 1.8],\n",
              "        [7.7, 3.8, 6.7, 2.2],\n",
              "        [7.7, 2.6, 6.9, 2.3],\n",
              "        [6. , 2.2, 5. , 1.5],\n",
              "        [6.9, 3.2, 5.7, 2.3],\n",
              "        [5.6, 2.8, 4.9, 2. ],\n",
              "        [7.7, 2.8, 6.7, 2. ],\n",
              "        [6.3, 2.7, 4.9, 1.8],\n",
              "        [6.7, 3.3, 5.7, 2.1],\n",
              "        [7.2, 3.2, 6. , 1.8],\n",
              "        [6.2, 2.8, 4.8, 1.8],\n",
              "        [6.1, 3. , 4.9, 1.8],\n",
              "        [6.4, 2.8, 5.6, 2.1],\n",
              "        [7.2, 3. , 5.8, 1.6],\n",
              "        [7.4, 2.8, 6.1, 1.9],\n",
              "        [7.9, 3.8, 6.4, 2. ],\n",
              "        [6.4, 2.8, 5.6, 2.2],\n",
              "        [6.3, 2.8, 5.1, 1.5],\n",
              "        [6.1, 2.6, 5.6, 1.4],\n",
              "        [7.7, 3. , 6.1, 2.3],\n",
              "        [6.3, 3.4, 5.6, 2.4],\n",
              "        [6.4, 3.1, 5.5, 1.8],\n",
              "        [6. , 3. , 4.8, 1.8],\n",
              "        [6.9, 3.1, 5.4, 2.1],\n",
              "        [6.7, 3.1, 5.6, 2.4],\n",
              "        [6.9, 3.1, 5.1, 2.3],\n",
              "        [5.8, 2.7, 5.1, 1.9],\n",
              "        [6.8, 3.2, 5.9, 2.3],\n",
              "        [6.7, 3.3, 5.7, 2.5],\n",
              "        [6.7, 3. , 5.2, 2.3],\n",
              "        [6.3, 2.5, 5. , 1.9],\n",
              "        [6.5, 3. , 5.2, 2. ],\n",
              "        [6.2, 3.4, 5.4, 2.3],\n",
              "        [5.9, 3. , 5.1, 1.8]]),\n",
              " 'target': array([0, 0, 0, 0, 0, 0, 0, 0, 0, 0, 0, 0, 0, 0, 0, 0, 0, 0, 0, 0, 0, 0,\n",
              "        0, 0, 0, 0, 0, 0, 0, 0, 0, 0, 0, 0, 0, 0, 0, 0, 0, 0, 0, 0, 0, 0,\n",
              "        0, 0, 0, 0, 0, 0, 1, 1, 1, 1, 1, 1, 1, 1, 1, 1, 1, 1, 1, 1, 1, 1,\n",
              "        1, 1, 1, 1, 1, 1, 1, 1, 1, 1, 1, 1, 1, 1, 1, 1, 1, 1, 1, 1, 1, 1,\n",
              "        1, 1, 1, 1, 1, 1, 1, 1, 1, 1, 1, 1, 2, 2, 2, 2, 2, 2, 2, 2, 2, 2,\n",
              "        2, 2, 2, 2, 2, 2, 2, 2, 2, 2, 2, 2, 2, 2, 2, 2, 2, 2, 2, 2, 2, 2,\n",
              "        2, 2, 2, 2, 2, 2, 2, 2, 2, 2, 2, 2, 2, 2, 2, 2, 2, 2]),\n",
              " 'frame': None,\n",
              " 'target_names': array(['setosa', 'versicolor', 'virginica'], dtype='<U10'),\n",
              " 'DESCR': '.. _iris_dataset:\\n\\nIris plants dataset\\n--------------------\\n\\n**Data Set Characteristics:**\\n\\n    :Number of Instances: 150 (50 in each of three classes)\\n    :Number of Attributes: 4 numeric, predictive attributes and the class\\n    :Attribute Information:\\n        - sepal length in cm\\n        - sepal width in cm\\n        - petal length in cm\\n        - petal width in cm\\n        - class:\\n                - Iris-Setosa\\n                - Iris-Versicolour\\n                - Iris-Virginica\\n                \\n    :Summary Statistics:\\n\\n    ============== ==== ==== ======= ===== ====================\\n                    Min  Max   Mean    SD   Class Correlation\\n    ============== ==== ==== ======= ===== ====================\\n    sepal length:   4.3  7.9   5.84   0.83    0.7826\\n    sepal width:    2.0  4.4   3.05   0.43   -0.4194\\n    petal length:   1.0  6.9   3.76   1.76    0.9490  (high!)\\n    petal width:    0.1  2.5   1.20   0.76    0.9565  (high!)\\n    ============== ==== ==== ======= ===== ====================\\n\\n    :Missing Attribute Values: None\\n    :Class Distribution: 33.3% for each of 3 classes.\\n    :Creator: R.A. Fisher\\n    :Donor: Michael Marshall (MARSHALL%PLU@io.arc.nasa.gov)\\n    :Date: July, 1988\\n\\nThe famous Iris database, first used by Sir R.A. Fisher. The dataset is taken\\nfrom Fisher\\'s paper. Note that it\\'s the same as in R, but not as in the UCI\\nMachine Learning Repository, which has two wrong data points.\\n\\nThis is perhaps the best known database to be found in the\\npattern recognition literature.  Fisher\\'s paper is a classic in the field and\\nis referenced frequently to this day.  (See Duda & Hart, for example.)  The\\ndata set contains 3 classes of 50 instances each, where each class refers to a\\ntype of iris plant.  One class is linearly separable from the other 2; the\\nlatter are NOT linearly separable from each other.\\n\\n.. topic:: References\\n\\n   - Fisher, R.A. \"The use of multiple measurements in taxonomic problems\"\\n     Annual Eugenics, 7, Part II, 179-188 (1936); also in \"Contributions to\\n     Mathematical Statistics\" (John Wiley, NY, 1950).\\n   - Duda, R.O., & Hart, P.E. (1973) Pattern Classification and Scene Analysis.\\n     (Q327.D83) John Wiley & Sons.  ISBN 0-471-22361-1.  See page 218.\\n   - Dasarathy, B.V. (1980) \"Nosing Around the Neighborhood: A New System\\n     Structure and Classification Rule for Recognition in Partially Exposed\\n     Environments\".  IEEE Transactions on Pattern Analysis and Machine\\n     Intelligence, Vol. PAMI-2, No. 1, 67-71.\\n   - Gates, G.W. (1972) \"The Reduced Nearest Neighbor Rule\".  IEEE Transactions\\n     on Information Theory, May 1972, 431-433.\\n   - See also: 1988 MLC Proceedings, 54-64.  Cheeseman et al\"s AUTOCLASS II\\n     conceptual clustering system finds 3 classes in the data.\\n   - Many, many more ...',\n",
              " 'feature_names': ['sepal length (cm)',\n",
              "  'sepal width (cm)',\n",
              "  'petal length (cm)',\n",
              "  'petal width (cm)'],\n",
              " 'filename': 'iris.csv',\n",
              " 'data_module': 'sklearn.datasets.data'}"
            ]
          },
          "metadata": {},
          "execution_count": 32
        }
      ]
    },
    {
      "cell_type": "markdown",
      "source": [
        "Now we will create our feature and label data frame:"
      ],
      "metadata": {
        "id": "ui1_Lu7QZ_DZ"
      }
    },
    {
      "cell_type": "code",
      "source": [
        "X = iris_dataset['data']\n",
        "y = iris_dataset['target']"
      ],
      "metadata": {
        "id": "WoAulrajaHO4"
      },
      "execution_count": 33,
      "outputs": []
    },
    {
      "cell_type": "markdown",
      "source": [
        "We will now create the model and set the `max_iter` to a higher value to ensure that the model finds a result.\n",
        "\n",
        "Keep in mind the default value for `C` in a logistic regression model is 1, we will compare this later.\n",
        "\n",
        "In the example below, we look at the iris data set and try to train a model with varying values for `C` in logistic regression:"
      ],
      "metadata": {
        "id": "ADhqJZocafRl"
      }
    },
    {
      "cell_type": "code",
      "source": [
        "model = linear_model.LogisticRegression(max_iter=1000)\n",
        "\n",
        "# Fit the model with the feature and label\n",
        "model.fit(X, y)\n",
        "\n",
        "model.score(X, y)"
      ],
      "metadata": {
        "colab": {
          "base_uri": "https://localhost:8080/"
        },
        "id": "-A22fUcTam7x",
        "outputId": "278395c2-8c3e-4b36-8838-03576f878315"
      },
      "execution_count": 34,
      "outputs": [
        {
          "output_type": "execute_result",
          "data": {
            "text/plain": [
              "0.9733333333333334"
            ]
          },
          "metadata": {},
          "execution_count": 34
        }
      ]
    },
    {
      "cell_type": "markdown",
      "source": [
        "With the default setting of `C` = 1, we achieved a score of 0.973.\n",
        "\n",
        "Let's see if we can do any better by implementing a grid search with difference values of 0.973.\n",
        "\n",
        "We will follow the same steps of before except this time we will set a range of values for `C`. Knowing which values to set for the searched parameters will take a combination of domain knowledge and practice.\n",
        "\n",
        "Since the default value for `C` is 1, we will set a range of values surrounding it:"
      ],
      "metadata": {
        "id": "wosP8ACXa9L1"
      }
    },
    {
      "cell_type": "code",
      "source": [
        "C_range = [0.25, 0.5, 0.75, 1, 1.25, 1.5, 1.75, 2]\n",
        "scores = []\n",
        "\n",
        "for C in C_range:\n",
        "    model.set_params(C=C)\n",
        "    model.fit(X, y)\n",
        "    scores.append(model.score(X, y))\n",
        "\n",
        "print(scores)"
      ],
      "metadata": {
        "colab": {
          "base_uri": "https://localhost:8080/"
        },
        "id": "XNRljMLubMoj",
        "outputId": "b2da1c3e-a043-4802-9098-1e948fe1492d"
      },
      "execution_count": 35,
      "outputs": [
        {
          "output_type": "stream",
          "name": "stdout",
          "text": [
            "[0.9666666666666667, 0.9666666666666667, 0.9733333333333334, 0.9733333333333334, 0.98, 0.98, 0.9866666666666667, 0.9866666666666667]\n"
          ]
        }
      ]
    },
    {
      "cell_type": "markdown",
      "source": [
        "We can see that the lower values of `C` performed worse than the base parameter of 1. However, as we increase the value of `C` to 1.75, the model experiences increased accuracy.\n",
        "\n",
        "It seems that increasing` `C beyond this amount does not help increase model accuracy.\n",
        "\n",
        "We scored our logistic regression model by using the same data that was used to train it. If the model corresponds too closely to that data, it may not be great at predicting unseen data. This statistical error is known as **overfitting**.\n",
        "\n",
        "To avoid being misled by the scores on the training data, we can put aside a portion of our data and use it specifically for the purpose of testing the model. This is inown as the Train/Test split, which will be covered later."
      ],
      "metadata": {
        "id": "YZXhs3Fwbm4C"
      }
    },
    {
      "cell_type": "markdown",
      "source": [
        "### Categorical Data\n",
        "\n",
        "When our data has categories represented by strings, it will be difficult to use them to train machine learning models which often only accepts numeric data.\n",
        "\n",
        "Instead of ignoring the categorical data and excluding the information from our model, we can tranform the data so it can be used in our models."
      ],
      "metadata": {
        "id": "liwVI012Uqkj"
      }
    },
    {
      "cell_type": "markdown",
      "source": [
        "#### One Hot Encoding\n",
        "\n",
        "Using back our `car_dataset` above, we noticed that we cannot make use of the Car or Model column in our data since they are not numeric. A linear relationship between a categorical variable, Car or Model, and a numeric variable, CO2, cannot be determined.\n",
        "\n",
        "To fix this issue, we must have a numeric representation of the categorical variable. One way to do this is to have a column representing each group in the category.\n",
        "\n",
        "For each column, the values will be 1 or 0 where 1 represents the inclusion of the group and 0 represents the exclusion. This transformation is called one hot encoding.\n",
        "\n",
        "We will use the Pandas `get_dummies()` function to perform this transformation:"
      ],
      "metadata": {
        "id": "35gz7EdmVDRT"
      }
    },
    {
      "cell_type": "code",
      "source": [
        "onehot_encoded_car = pd.get_dummies(car_dataset['Car'])\n",
        "onehot_encoded_car"
      ],
      "metadata": {
        "colab": {
          "base_uri": "https://localhost:8080/",
          "height": 1000
        },
        "id": "s51TLmNjVtgG",
        "outputId": "f35a0eca-468a-49d2-9ae4-6073800faf55"
      },
      "execution_count": 36,
      "outputs": [
        {
          "output_type": "execute_result",
          "data": {
            "text/plain": [
              "    Audi  BMW  Fiat  Ford  Honda  Hundai  Hyundai  Mazda  Mercedes  Mini  \\\n",
              "0      0    0     0     0      0       0        0      0         0     0   \n",
              "1      0    0     0     0      0       0        0      0         0     0   \n",
              "2      0    0     0     0      0       0        0      0         0     0   \n",
              "3      0    0     1     0      0       0        0      0         0     0   \n",
              "4      0    0     0     0      0       0        0      0         0     1   \n",
              "5      0    0     0     0      0       0        0      0         0     0   \n",
              "6      0    0     0     0      0       0        0      0         0     0   \n",
              "7      0    0     0     0      0       0        0      0         1     0   \n",
              "8      0    0     0     1      0       0        0      0         0     0   \n",
              "9      1    0     0     0      0       0        0      0         0     0   \n",
              "10     0    0     0     0      0       0        1      0         0     0   \n",
              "11     0    0     0     0      0       0        0      0         0     0   \n",
              "12     0    0     0     1      0       0        0      0         0     0   \n",
              "13     0    0     0     0      1       0        0      0         0     0   \n",
              "14     0    0     0     0      0       1        0      0         0     0   \n",
              "15     0    0     0     0      0       0        0      0         0     0   \n",
              "16     0    1     0     0      0       0        0      0         0     0   \n",
              "17     0    0     0     0      0       0        0      1         0     0   \n",
              "18     0    0     0     0      0       0        0      0         0     0   \n",
              "19     0    0     0     1      0       0        0      0         0     0   \n",
              "20     0    0     0     1      0       0        0      0         0     0   \n",
              "21     0    0     0     0      0       0        0      0         0     0   \n",
              "22     0    0     0     0      0       0        0      0         1     0   \n",
              "23     0    0     0     0      0       0        0      0         0     0   \n",
              "24     0    0     0     0      0       0        0      0         0     0   \n",
              "25     0    0     0     0      0       0        0      0         1     0   \n",
              "26     1    0     0     0      0       0        0      0         0     0   \n",
              "27     1    0     0     0      0       0        0      0         0     0   \n",
              "28     0    0     0     0      0       0        0      0         0     0   \n",
              "29     0    1     0     0      0       0        0      0         0     0   \n",
              "30     0    0     0     0      0       0        0      0         1     0   \n",
              "31     0    0     0     0      0       0        0      0         0     0   \n",
              "32     0    0     0     1      0       0        0      0         0     0   \n",
              "33     0    1     0     0      0       0        0      0         0     0   \n",
              "34     0    0     0     0      0       0        0      0         0     0   \n",
              "35     0    0     0     0      0       0        0      0         1     0   \n",
              "\n",
              "    Mitsubishi  Opel  Skoda  Suzuki  Toyota  VW  Volvo  \n",
              "0            0     0      0       0       1   0      0  \n",
              "1            1     0      0       0       0   0      0  \n",
              "2            0     0      1       0       0   0      0  \n",
              "3            0     0      0       0       0   0      0  \n",
              "4            0     0      0       0       0   0      0  \n",
              "5            0     0      0       0       0   1      0  \n",
              "6            0     0      1       0       0   0      0  \n",
              "7            0     0      0       0       0   0      0  \n",
              "8            0     0      0       0       0   0      0  \n",
              "9            0     0      0       0       0   0      0  \n",
              "10           0     0      0       0       0   0      0  \n",
              "11           0     0      0       1       0   0      0  \n",
              "12           0     0      0       0       0   0      0  \n",
              "13           0     0      0       0       0   0      0  \n",
              "14           0     0      0       0       0   0      0  \n",
              "15           0     1      0       0       0   0      0  \n",
              "16           0     0      0       0       0   0      0  \n",
              "17           0     0      0       0       0   0      0  \n",
              "18           0     0      1       0       0   0      0  \n",
              "19           0     0      0       0       0   0      0  \n",
              "20           0     0      0       0       0   0      0  \n",
              "21           0     1      0       0       0   0      0  \n",
              "22           0     0      0       0       0   0      0  \n",
              "23           0     0      1       0       0   0      0  \n",
              "24           0     0      0       0       0   0      1  \n",
              "25           0     0      0       0       0   0      0  \n",
              "26           0     0      0       0       0   0      0  \n",
              "27           0     0      0       0       0   0      0  \n",
              "28           0     0      0       0       0   0      1  \n",
              "29           0     0      0       0       0   0      0  \n",
              "30           0     0      0       0       0   0      0  \n",
              "31           0     0      0       0       0   0      1  \n",
              "32           0     0      0       0       0   0      0  \n",
              "33           0     0      0       0       0   0      0  \n",
              "34           0     1      0       0       0   0      0  \n",
              "35           0     0      0       0       0   0      0  "
            ],
            "text/html": [
              "\n",
              "  <div id=\"df-bb7568a8-da1d-466a-b586-018e3bf0e377\">\n",
              "    <div class=\"colab-df-container\">\n",
              "      <div>\n",
              "<style scoped>\n",
              "    .dataframe tbody tr th:only-of-type {\n",
              "        vertical-align: middle;\n",
              "    }\n",
              "\n",
              "    .dataframe tbody tr th {\n",
              "        vertical-align: top;\n",
              "    }\n",
              "\n",
              "    .dataframe thead th {\n",
              "        text-align: right;\n",
              "    }\n",
              "</style>\n",
              "<table border=\"1\" class=\"dataframe\">\n",
              "  <thead>\n",
              "    <tr style=\"text-align: right;\">\n",
              "      <th></th>\n",
              "      <th>Audi</th>\n",
              "      <th>BMW</th>\n",
              "      <th>Fiat</th>\n",
              "      <th>Ford</th>\n",
              "      <th>Honda</th>\n",
              "      <th>Hundai</th>\n",
              "      <th>Hyundai</th>\n",
              "      <th>Mazda</th>\n",
              "      <th>Mercedes</th>\n",
              "      <th>Mini</th>\n",
              "      <th>Mitsubishi</th>\n",
              "      <th>Opel</th>\n",
              "      <th>Skoda</th>\n",
              "      <th>Suzuki</th>\n",
              "      <th>Toyota</th>\n",
              "      <th>VW</th>\n",
              "      <th>Volvo</th>\n",
              "    </tr>\n",
              "  </thead>\n",
              "  <tbody>\n",
              "    <tr>\n",
              "      <th>0</th>\n",
              "      <td>0</td>\n",
              "      <td>0</td>\n",
              "      <td>0</td>\n",
              "      <td>0</td>\n",
              "      <td>0</td>\n",
              "      <td>0</td>\n",
              "      <td>0</td>\n",
              "      <td>0</td>\n",
              "      <td>0</td>\n",
              "      <td>0</td>\n",
              "      <td>0</td>\n",
              "      <td>0</td>\n",
              "      <td>0</td>\n",
              "      <td>0</td>\n",
              "      <td>1</td>\n",
              "      <td>0</td>\n",
              "      <td>0</td>\n",
              "    </tr>\n",
              "    <tr>\n",
              "      <th>1</th>\n",
              "      <td>0</td>\n",
              "      <td>0</td>\n",
              "      <td>0</td>\n",
              "      <td>0</td>\n",
              "      <td>0</td>\n",
              "      <td>0</td>\n",
              "      <td>0</td>\n",
              "      <td>0</td>\n",
              "      <td>0</td>\n",
              "      <td>0</td>\n",
              "      <td>1</td>\n",
              "      <td>0</td>\n",
              "      <td>0</td>\n",
              "      <td>0</td>\n",
              "      <td>0</td>\n",
              "      <td>0</td>\n",
              "      <td>0</td>\n",
              "    </tr>\n",
              "    <tr>\n",
              "      <th>2</th>\n",
              "      <td>0</td>\n",
              "      <td>0</td>\n",
              "      <td>0</td>\n",
              "      <td>0</td>\n",
              "      <td>0</td>\n",
              "      <td>0</td>\n",
              "      <td>0</td>\n",
              "      <td>0</td>\n",
              "      <td>0</td>\n",
              "      <td>0</td>\n",
              "      <td>0</td>\n",
              "      <td>0</td>\n",
              "      <td>1</td>\n",
              "      <td>0</td>\n",
              "      <td>0</td>\n",
              "      <td>0</td>\n",
              "      <td>0</td>\n",
              "    </tr>\n",
              "    <tr>\n",
              "      <th>3</th>\n",
              "      <td>0</td>\n",
              "      <td>0</td>\n",
              "      <td>1</td>\n",
              "      <td>0</td>\n",
              "      <td>0</td>\n",
              "      <td>0</td>\n",
              "      <td>0</td>\n",
              "      <td>0</td>\n",
              "      <td>0</td>\n",
              "      <td>0</td>\n",
              "      <td>0</td>\n",
              "      <td>0</td>\n",
              "      <td>0</td>\n",
              "      <td>0</td>\n",
              "      <td>0</td>\n",
              "      <td>0</td>\n",
              "      <td>0</td>\n",
              "    </tr>\n",
              "    <tr>\n",
              "      <th>4</th>\n",
              "      <td>0</td>\n",
              "      <td>0</td>\n",
              "      <td>0</td>\n",
              "      <td>0</td>\n",
              "      <td>0</td>\n",
              "      <td>0</td>\n",
              "      <td>0</td>\n",
              "      <td>0</td>\n",
              "      <td>0</td>\n",
              "      <td>1</td>\n",
              "      <td>0</td>\n",
              "      <td>0</td>\n",
              "      <td>0</td>\n",
              "      <td>0</td>\n",
              "      <td>0</td>\n",
              "      <td>0</td>\n",
              "      <td>0</td>\n",
              "    </tr>\n",
              "    <tr>\n",
              "      <th>5</th>\n",
              "      <td>0</td>\n",
              "      <td>0</td>\n",
              "      <td>0</td>\n",
              "      <td>0</td>\n",
              "      <td>0</td>\n",
              "      <td>0</td>\n",
              "      <td>0</td>\n",
              "      <td>0</td>\n",
              "      <td>0</td>\n",
              "      <td>0</td>\n",
              "      <td>0</td>\n",
              "      <td>0</td>\n",
              "      <td>0</td>\n",
              "      <td>0</td>\n",
              "      <td>0</td>\n",
              "      <td>1</td>\n",
              "      <td>0</td>\n",
              "    </tr>\n",
              "    <tr>\n",
              "      <th>6</th>\n",
              "      <td>0</td>\n",
              "      <td>0</td>\n",
              "      <td>0</td>\n",
              "      <td>0</td>\n",
              "      <td>0</td>\n",
              "      <td>0</td>\n",
              "      <td>0</td>\n",
              "      <td>0</td>\n",
              "      <td>0</td>\n",
              "      <td>0</td>\n",
              "      <td>0</td>\n",
              "      <td>0</td>\n",
              "      <td>1</td>\n",
              "      <td>0</td>\n",
              "      <td>0</td>\n",
              "      <td>0</td>\n",
              "      <td>0</td>\n",
              "    </tr>\n",
              "    <tr>\n",
              "      <th>7</th>\n",
              "      <td>0</td>\n",
              "      <td>0</td>\n",
              "      <td>0</td>\n",
              "      <td>0</td>\n",
              "      <td>0</td>\n",
              "      <td>0</td>\n",
              "      <td>0</td>\n",
              "      <td>0</td>\n",
              "      <td>1</td>\n",
              "      <td>0</td>\n",
              "      <td>0</td>\n",
              "      <td>0</td>\n",
              "      <td>0</td>\n",
              "      <td>0</td>\n",
              "      <td>0</td>\n",
              "      <td>0</td>\n",
              "      <td>0</td>\n",
              "    </tr>\n",
              "    <tr>\n",
              "      <th>8</th>\n",
              "      <td>0</td>\n",
              "      <td>0</td>\n",
              "      <td>0</td>\n",
              "      <td>1</td>\n",
              "      <td>0</td>\n",
              "      <td>0</td>\n",
              "      <td>0</td>\n",
              "      <td>0</td>\n",
              "      <td>0</td>\n",
              "      <td>0</td>\n",
              "      <td>0</td>\n",
              "      <td>0</td>\n",
              "      <td>0</td>\n",
              "      <td>0</td>\n",
              "      <td>0</td>\n",
              "      <td>0</td>\n",
              "      <td>0</td>\n",
              "    </tr>\n",
              "    <tr>\n",
              "      <th>9</th>\n",
              "      <td>1</td>\n",
              "      <td>0</td>\n",
              "      <td>0</td>\n",
              "      <td>0</td>\n",
              "      <td>0</td>\n",
              "      <td>0</td>\n",
              "      <td>0</td>\n",
              "      <td>0</td>\n",
              "      <td>0</td>\n",
              "      <td>0</td>\n",
              "      <td>0</td>\n",
              "      <td>0</td>\n",
              "      <td>0</td>\n",
              "      <td>0</td>\n",
              "      <td>0</td>\n",
              "      <td>0</td>\n",
              "      <td>0</td>\n",
              "    </tr>\n",
              "    <tr>\n",
              "      <th>10</th>\n",
              "      <td>0</td>\n",
              "      <td>0</td>\n",
              "      <td>0</td>\n",
              "      <td>0</td>\n",
              "      <td>0</td>\n",
              "      <td>0</td>\n",
              "      <td>1</td>\n",
              "      <td>0</td>\n",
              "      <td>0</td>\n",
              "      <td>0</td>\n",
              "      <td>0</td>\n",
              "      <td>0</td>\n",
              "      <td>0</td>\n",
              "      <td>0</td>\n",
              "      <td>0</td>\n",
              "      <td>0</td>\n",
              "      <td>0</td>\n",
              "    </tr>\n",
              "    <tr>\n",
              "      <th>11</th>\n",
              "      <td>0</td>\n",
              "      <td>0</td>\n",
              "      <td>0</td>\n",
              "      <td>0</td>\n",
              "      <td>0</td>\n",
              "      <td>0</td>\n",
              "      <td>0</td>\n",
              "      <td>0</td>\n",
              "      <td>0</td>\n",
              "      <td>0</td>\n",
              "      <td>0</td>\n",
              "      <td>0</td>\n",
              "      <td>0</td>\n",
              "      <td>1</td>\n",
              "      <td>0</td>\n",
              "      <td>0</td>\n",
              "      <td>0</td>\n",
              "    </tr>\n",
              "    <tr>\n",
              "      <th>12</th>\n",
              "      <td>0</td>\n",
              "      <td>0</td>\n",
              "      <td>0</td>\n",
              "      <td>1</td>\n",
              "      <td>0</td>\n",
              "      <td>0</td>\n",
              "      <td>0</td>\n",
              "      <td>0</td>\n",
              "      <td>0</td>\n",
              "      <td>0</td>\n",
              "      <td>0</td>\n",
              "      <td>0</td>\n",
              "      <td>0</td>\n",
              "      <td>0</td>\n",
              "      <td>0</td>\n",
              "      <td>0</td>\n",
              "      <td>0</td>\n",
              "    </tr>\n",
              "    <tr>\n",
              "      <th>13</th>\n",
              "      <td>0</td>\n",
              "      <td>0</td>\n",
              "      <td>0</td>\n",
              "      <td>0</td>\n",
              "      <td>1</td>\n",
              "      <td>0</td>\n",
              "      <td>0</td>\n",
              "      <td>0</td>\n",
              "      <td>0</td>\n",
              "      <td>0</td>\n",
              "      <td>0</td>\n",
              "      <td>0</td>\n",
              "      <td>0</td>\n",
              "      <td>0</td>\n",
              "      <td>0</td>\n",
              "      <td>0</td>\n",
              "      <td>0</td>\n",
              "    </tr>\n",
              "    <tr>\n",
              "      <th>14</th>\n",
              "      <td>0</td>\n",
              "      <td>0</td>\n",
              "      <td>0</td>\n",
              "      <td>0</td>\n",
              "      <td>0</td>\n",
              "      <td>1</td>\n",
              "      <td>0</td>\n",
              "      <td>0</td>\n",
              "      <td>0</td>\n",
              "      <td>0</td>\n",
              "      <td>0</td>\n",
              "      <td>0</td>\n",
              "      <td>0</td>\n",
              "      <td>0</td>\n",
              "      <td>0</td>\n",
              "      <td>0</td>\n",
              "      <td>0</td>\n",
              "    </tr>\n",
              "    <tr>\n",
              "      <th>15</th>\n",
              "      <td>0</td>\n",
              "      <td>0</td>\n",
              "      <td>0</td>\n",
              "      <td>0</td>\n",
              "      <td>0</td>\n",
              "      <td>0</td>\n",
              "      <td>0</td>\n",
              "      <td>0</td>\n",
              "      <td>0</td>\n",
              "      <td>0</td>\n",
              "      <td>0</td>\n",
              "      <td>1</td>\n",
              "      <td>0</td>\n",
              "      <td>0</td>\n",
              "      <td>0</td>\n",
              "      <td>0</td>\n",
              "      <td>0</td>\n",
              "    </tr>\n",
              "    <tr>\n",
              "      <th>16</th>\n",
              "      <td>0</td>\n",
              "      <td>1</td>\n",
              "      <td>0</td>\n",
              "      <td>0</td>\n",
              "      <td>0</td>\n",
              "      <td>0</td>\n",
              "      <td>0</td>\n",
              "      <td>0</td>\n",
              "      <td>0</td>\n",
              "      <td>0</td>\n",
              "      <td>0</td>\n",
              "      <td>0</td>\n",
              "      <td>0</td>\n",
              "      <td>0</td>\n",
              "      <td>0</td>\n",
              "      <td>0</td>\n",
              "      <td>0</td>\n",
              "    </tr>\n",
              "    <tr>\n",
              "      <th>17</th>\n",
              "      <td>0</td>\n",
              "      <td>0</td>\n",
              "      <td>0</td>\n",
              "      <td>0</td>\n",
              "      <td>0</td>\n",
              "      <td>0</td>\n",
              "      <td>0</td>\n",
              "      <td>1</td>\n",
              "      <td>0</td>\n",
              "      <td>0</td>\n",
              "      <td>0</td>\n",
              "      <td>0</td>\n",
              "      <td>0</td>\n",
              "      <td>0</td>\n",
              "      <td>0</td>\n",
              "      <td>0</td>\n",
              "      <td>0</td>\n",
              "    </tr>\n",
              "    <tr>\n",
              "      <th>18</th>\n",
              "      <td>0</td>\n",
              "      <td>0</td>\n",
              "      <td>0</td>\n",
              "      <td>0</td>\n",
              "      <td>0</td>\n",
              "      <td>0</td>\n",
              "      <td>0</td>\n",
              "      <td>0</td>\n",
              "      <td>0</td>\n",
              "      <td>0</td>\n",
              "      <td>0</td>\n",
              "      <td>0</td>\n",
              "      <td>1</td>\n",
              "      <td>0</td>\n",
              "      <td>0</td>\n",
              "      <td>0</td>\n",
              "      <td>0</td>\n",
              "    </tr>\n",
              "    <tr>\n",
              "      <th>19</th>\n",
              "      <td>0</td>\n",
              "      <td>0</td>\n",
              "      <td>0</td>\n",
              "      <td>1</td>\n",
              "      <td>0</td>\n",
              "      <td>0</td>\n",
              "      <td>0</td>\n",
              "      <td>0</td>\n",
              "      <td>0</td>\n",
              "      <td>0</td>\n",
              "      <td>0</td>\n",
              "      <td>0</td>\n",
              "      <td>0</td>\n",
              "      <td>0</td>\n",
              "      <td>0</td>\n",
              "      <td>0</td>\n",
              "      <td>0</td>\n",
              "    </tr>\n",
              "    <tr>\n",
              "      <th>20</th>\n",
              "      <td>0</td>\n",
              "      <td>0</td>\n",
              "      <td>0</td>\n",
              "      <td>1</td>\n",
              "      <td>0</td>\n",
              "      <td>0</td>\n",
              "      <td>0</td>\n",
              "      <td>0</td>\n",
              "      <td>0</td>\n",
              "      <td>0</td>\n",
              "      <td>0</td>\n",
              "      <td>0</td>\n",
              "      <td>0</td>\n",
              "      <td>0</td>\n",
              "      <td>0</td>\n",
              "      <td>0</td>\n",
              "      <td>0</td>\n",
              "    </tr>\n",
              "    <tr>\n",
              "      <th>21</th>\n",
              "      <td>0</td>\n",
              "      <td>0</td>\n",
              "      <td>0</td>\n",
              "      <td>0</td>\n",
              "      <td>0</td>\n",
              "      <td>0</td>\n",
              "      <td>0</td>\n",
              "      <td>0</td>\n",
              "      <td>0</td>\n",
              "      <td>0</td>\n",
              "      <td>0</td>\n",
              "      <td>1</td>\n",
              "      <td>0</td>\n",
              "      <td>0</td>\n",
              "      <td>0</td>\n",
              "      <td>0</td>\n",
              "      <td>0</td>\n",
              "    </tr>\n",
              "    <tr>\n",
              "      <th>22</th>\n",
              "      <td>0</td>\n",
              "      <td>0</td>\n",
              "      <td>0</td>\n",
              "      <td>0</td>\n",
              "      <td>0</td>\n",
              "      <td>0</td>\n",
              "      <td>0</td>\n",
              "      <td>0</td>\n",
              "      <td>1</td>\n",
              "      <td>0</td>\n",
              "      <td>0</td>\n",
              "      <td>0</td>\n",
              "      <td>0</td>\n",
              "      <td>0</td>\n",
              "      <td>0</td>\n",
              "      <td>0</td>\n",
              "      <td>0</td>\n",
              "    </tr>\n",
              "    <tr>\n",
              "      <th>23</th>\n",
              "      <td>0</td>\n",
              "      <td>0</td>\n",
              "      <td>0</td>\n",
              "      <td>0</td>\n",
              "      <td>0</td>\n",
              "      <td>0</td>\n",
              "      <td>0</td>\n",
              "      <td>0</td>\n",
              "      <td>0</td>\n",
              "      <td>0</td>\n",
              "      <td>0</td>\n",
              "      <td>0</td>\n",
              "      <td>1</td>\n",
              "      <td>0</td>\n",
              "      <td>0</td>\n",
              "      <td>0</td>\n",
              "      <td>0</td>\n",
              "    </tr>\n",
              "    <tr>\n",
              "      <th>24</th>\n",
              "      <td>0</td>\n",
              "      <td>0</td>\n",
              "      <td>0</td>\n",
              "      <td>0</td>\n",
              "      <td>0</td>\n",
              "      <td>0</td>\n",
              "      <td>0</td>\n",
              "      <td>0</td>\n",
              "      <td>0</td>\n",
              "      <td>0</td>\n",
              "      <td>0</td>\n",
              "      <td>0</td>\n",
              "      <td>0</td>\n",
              "      <td>0</td>\n",
              "      <td>0</td>\n",
              "      <td>0</td>\n",
              "      <td>1</td>\n",
              "    </tr>\n",
              "    <tr>\n",
              "      <th>25</th>\n",
              "      <td>0</td>\n",
              "      <td>0</td>\n",
              "      <td>0</td>\n",
              "      <td>0</td>\n",
              "      <td>0</td>\n",
              "      <td>0</td>\n",
              "      <td>0</td>\n",
              "      <td>0</td>\n",
              "      <td>1</td>\n",
              "      <td>0</td>\n",
              "      <td>0</td>\n",
              "      <td>0</td>\n",
              "      <td>0</td>\n",
              "      <td>0</td>\n",
              "      <td>0</td>\n",
              "      <td>0</td>\n",
              "      <td>0</td>\n",
              "    </tr>\n",
              "    <tr>\n",
              "      <th>26</th>\n",
              "      <td>1</td>\n",
              "      <td>0</td>\n",
              "      <td>0</td>\n",
              "      <td>0</td>\n",
              "      <td>0</td>\n",
              "      <td>0</td>\n",
              "      <td>0</td>\n",
              "      <td>0</td>\n",
              "      <td>0</td>\n",
              "      <td>0</td>\n",
              "      <td>0</td>\n",
              "      <td>0</td>\n",
              "      <td>0</td>\n",
              "      <td>0</td>\n",
              "      <td>0</td>\n",
              "      <td>0</td>\n",
              "      <td>0</td>\n",
              "    </tr>\n",
              "    <tr>\n",
              "      <th>27</th>\n",
              "      <td>1</td>\n",
              "      <td>0</td>\n",
              "      <td>0</td>\n",
              "      <td>0</td>\n",
              "      <td>0</td>\n",
              "      <td>0</td>\n",
              "      <td>0</td>\n",
              "      <td>0</td>\n",
              "      <td>0</td>\n",
              "      <td>0</td>\n",
              "      <td>0</td>\n",
              "      <td>0</td>\n",
              "      <td>0</td>\n",
              "      <td>0</td>\n",
              "      <td>0</td>\n",
              "      <td>0</td>\n",
              "      <td>0</td>\n",
              "    </tr>\n",
              "    <tr>\n",
              "      <th>28</th>\n",
              "      <td>0</td>\n",
              "      <td>0</td>\n",
              "      <td>0</td>\n",
              "      <td>0</td>\n",
              "      <td>0</td>\n",
              "      <td>0</td>\n",
              "      <td>0</td>\n",
              "      <td>0</td>\n",
              "      <td>0</td>\n",
              "      <td>0</td>\n",
              "      <td>0</td>\n",
              "      <td>0</td>\n",
              "      <td>0</td>\n",
              "      <td>0</td>\n",
              "      <td>0</td>\n",
              "      <td>0</td>\n",
              "      <td>1</td>\n",
              "    </tr>\n",
              "    <tr>\n",
              "      <th>29</th>\n",
              "      <td>0</td>\n",
              "      <td>1</td>\n",
              "      <td>0</td>\n",
              "      <td>0</td>\n",
              "      <td>0</td>\n",
              "      <td>0</td>\n",
              "      <td>0</td>\n",
              "      <td>0</td>\n",
              "      <td>0</td>\n",
              "      <td>0</td>\n",
              "      <td>0</td>\n",
              "      <td>0</td>\n",
              "      <td>0</td>\n",
              "      <td>0</td>\n",
              "      <td>0</td>\n",
              "      <td>0</td>\n",
              "      <td>0</td>\n",
              "    </tr>\n",
              "    <tr>\n",
              "      <th>30</th>\n",
              "      <td>0</td>\n",
              "      <td>0</td>\n",
              "      <td>0</td>\n",
              "      <td>0</td>\n",
              "      <td>0</td>\n",
              "      <td>0</td>\n",
              "      <td>0</td>\n",
              "      <td>0</td>\n",
              "      <td>1</td>\n",
              "      <td>0</td>\n",
              "      <td>0</td>\n",
              "      <td>0</td>\n",
              "      <td>0</td>\n",
              "      <td>0</td>\n",
              "      <td>0</td>\n",
              "      <td>0</td>\n",
              "      <td>0</td>\n",
              "    </tr>\n",
              "    <tr>\n",
              "      <th>31</th>\n",
              "      <td>0</td>\n",
              "      <td>0</td>\n",
              "      <td>0</td>\n",
              "      <td>0</td>\n",
              "      <td>0</td>\n",
              "      <td>0</td>\n",
              "      <td>0</td>\n",
              "      <td>0</td>\n",
              "      <td>0</td>\n",
              "      <td>0</td>\n",
              "      <td>0</td>\n",
              "      <td>0</td>\n",
              "      <td>0</td>\n",
              "      <td>0</td>\n",
              "      <td>0</td>\n",
              "      <td>0</td>\n",
              "      <td>1</td>\n",
              "    </tr>\n",
              "    <tr>\n",
              "      <th>32</th>\n",
              "      <td>0</td>\n",
              "      <td>0</td>\n",
              "      <td>0</td>\n",
              "      <td>1</td>\n",
              "      <td>0</td>\n",
              "      <td>0</td>\n",
              "      <td>0</td>\n",
              "      <td>0</td>\n",
              "      <td>0</td>\n",
              "      <td>0</td>\n",
              "      <td>0</td>\n",
              "      <td>0</td>\n",
              "      <td>0</td>\n",
              "      <td>0</td>\n",
              "      <td>0</td>\n",
              "      <td>0</td>\n",
              "      <td>0</td>\n",
              "    </tr>\n",
              "    <tr>\n",
              "      <th>33</th>\n",
              "      <td>0</td>\n",
              "      <td>1</td>\n",
              "      <td>0</td>\n",
              "      <td>0</td>\n",
              "      <td>0</td>\n",
              "      <td>0</td>\n",
              "      <td>0</td>\n",
              "      <td>0</td>\n",
              "      <td>0</td>\n",
              "      <td>0</td>\n",
              "      <td>0</td>\n",
              "      <td>0</td>\n",
              "      <td>0</td>\n",
              "      <td>0</td>\n",
              "      <td>0</td>\n",
              "      <td>0</td>\n",
              "      <td>0</td>\n",
              "    </tr>\n",
              "    <tr>\n",
              "      <th>34</th>\n",
              "      <td>0</td>\n",
              "      <td>0</td>\n",
              "      <td>0</td>\n",
              "      <td>0</td>\n",
              "      <td>0</td>\n",
              "      <td>0</td>\n",
              "      <td>0</td>\n",
              "      <td>0</td>\n",
              "      <td>0</td>\n",
              "      <td>0</td>\n",
              "      <td>0</td>\n",
              "      <td>1</td>\n",
              "      <td>0</td>\n",
              "      <td>0</td>\n",
              "      <td>0</td>\n",
              "      <td>0</td>\n",
              "      <td>0</td>\n",
              "    </tr>\n",
              "    <tr>\n",
              "      <th>35</th>\n",
              "      <td>0</td>\n",
              "      <td>0</td>\n",
              "      <td>0</td>\n",
              "      <td>0</td>\n",
              "      <td>0</td>\n",
              "      <td>0</td>\n",
              "      <td>0</td>\n",
              "      <td>0</td>\n",
              "      <td>1</td>\n",
              "      <td>0</td>\n",
              "      <td>0</td>\n",
              "      <td>0</td>\n",
              "      <td>0</td>\n",
              "      <td>0</td>\n",
              "      <td>0</td>\n",
              "      <td>0</td>\n",
              "      <td>0</td>\n",
              "    </tr>\n",
              "  </tbody>\n",
              "</table>\n",
              "</div>\n",
              "      <button class=\"colab-df-convert\" onclick=\"convertToInteractive('df-bb7568a8-da1d-466a-b586-018e3bf0e377')\"\n",
              "              title=\"Convert this dataframe to an interactive table.\"\n",
              "              style=\"display:none;\">\n",
              "        \n",
              "  <svg xmlns=\"http://www.w3.org/2000/svg\" height=\"24px\"viewBox=\"0 0 24 24\"\n",
              "       width=\"24px\">\n",
              "    <path d=\"M0 0h24v24H0V0z\" fill=\"none\"/>\n",
              "    <path d=\"M18.56 5.44l.94 2.06.94-2.06 2.06-.94-2.06-.94-.94-2.06-.94 2.06-2.06.94zm-11 1L8.5 8.5l.94-2.06 2.06-.94-2.06-.94L8.5 2.5l-.94 2.06-2.06.94zm10 10l.94 2.06.94-2.06 2.06-.94-2.06-.94-.94-2.06-.94 2.06-2.06.94z\"/><path d=\"M17.41 7.96l-1.37-1.37c-.4-.4-.92-.59-1.43-.59-.52 0-1.04.2-1.43.59L10.3 9.45l-7.72 7.72c-.78.78-.78 2.05 0 2.83L4 21.41c.39.39.9.59 1.41.59.51 0 1.02-.2 1.41-.59l7.78-7.78 2.81-2.81c.8-.78.8-2.07 0-2.86zM5.41 20L4 18.59l7.72-7.72 1.47 1.35L5.41 20z\"/>\n",
              "  </svg>\n",
              "      </button>\n",
              "      \n",
              "  <style>\n",
              "    .colab-df-container {\n",
              "      display:flex;\n",
              "      flex-wrap:wrap;\n",
              "      gap: 12px;\n",
              "    }\n",
              "\n",
              "    .colab-df-convert {\n",
              "      background-color: #E8F0FE;\n",
              "      border: none;\n",
              "      border-radius: 50%;\n",
              "      cursor: pointer;\n",
              "      display: none;\n",
              "      fill: #1967D2;\n",
              "      height: 32px;\n",
              "      padding: 0 0 0 0;\n",
              "      width: 32px;\n",
              "    }\n",
              "\n",
              "    .colab-df-convert:hover {\n",
              "      background-color: #E2EBFA;\n",
              "      box-shadow: 0px 1px 2px rgba(60, 64, 67, 0.3), 0px 1px 3px 1px rgba(60, 64, 67, 0.15);\n",
              "      fill: #174EA6;\n",
              "    }\n",
              "\n",
              "    [theme=dark] .colab-df-convert {\n",
              "      background-color: #3B4455;\n",
              "      fill: #D2E3FC;\n",
              "    }\n",
              "\n",
              "    [theme=dark] .colab-df-convert:hover {\n",
              "      background-color: #434B5C;\n",
              "      box-shadow: 0px 1px 3px 1px rgba(0, 0, 0, 0.15);\n",
              "      filter: drop-shadow(0px 1px 2px rgba(0, 0, 0, 0.3));\n",
              "      fill: #FFFFFF;\n",
              "    }\n",
              "  </style>\n",
              "\n",
              "      <script>\n",
              "        const buttonEl =\n",
              "          document.querySelector('#df-bb7568a8-da1d-466a-b586-018e3bf0e377 button.colab-df-convert');\n",
              "        buttonEl.style.display =\n",
              "          google.colab.kernel.accessAllowed ? 'block' : 'none';\n",
              "\n",
              "        async function convertToInteractive(key) {\n",
              "          const element = document.querySelector('#df-bb7568a8-da1d-466a-b586-018e3bf0e377');\n",
              "          const dataTable =\n",
              "            await google.colab.kernel.invokeFunction('convertToInteractive',\n",
              "                                                     [key], {});\n",
              "          if (!dataTable) return;\n",
              "\n",
              "          const docLinkHtml = 'Like what you see? Visit the ' +\n",
              "            '<a target=\"_blank\" href=https://colab.research.google.com/notebooks/data_table.ipynb>data table notebook</a>'\n",
              "            + ' to learn more about interactive tables.';\n",
              "          element.innerHTML = '';\n",
              "          dataTable['output_type'] = 'display_data';\n",
              "          await google.colab.output.renderOutput(dataTable, element);\n",
              "          const docLink = document.createElement('div');\n",
              "          docLink.innerHTML = docLinkHtml;\n",
              "          element.appendChild(docLink);\n",
              "        }\n",
              "      </script>\n",
              "    </div>\n",
              "  </div>\n",
              "  "
            ]
          },
          "metadata": {},
          "execution_count": 36
        }
      ]
    },
    {
      "cell_type": "markdown",
      "source": [
        "Now, we will create a linear regression model to predict the emission of CO2 based on Volume, Weight and Car:"
      ],
      "metadata": {
        "id": "Z7vxfXWnWjLz"
      }
    },
    {
      "cell_type": "code",
      "source": [
        "# Create feature and label data frame\n",
        "features = pd.concat([car_dataset[['Volume', 'Weight']], onehot_encoded_car], axis=1)\n",
        "label = car_dataset['CO2']\n",
        "\n",
        "# Create multiple regression model\n",
        "model = linear_model.LinearRegression()\n",
        "\n",
        "# Fit the model with the features and label\n",
        "model.fit(features, label)"
      ],
      "metadata": {
        "colab": {
          "base_uri": "https://localhost:8080/"
        },
        "id": "V0QTDvzlXGzi",
        "outputId": "4641d2dd-8d55-406e-dcb9-bbf27f6314e3"
      },
      "execution_count": 37,
      "outputs": [
        {
          "output_type": "execute_result",
          "data": {
            "text/plain": [
              "LinearRegression()"
            ]
          },
          "metadata": {},
          "execution_count": 37
        }
      ]
    },
    {
      "cell_type": "markdown",
      "source": [
        "Now we will predict the emission of CO2 when:\n",
        "\n",
        "* Volume is 1300\n",
        "* Weight is 2300\n",
        "* Car is Volvo"
      ],
      "metadata": {
        "id": "y-sjDJ0SXtrG"
      }
    },
    {
      "cell_type": "code",
      "source": [
        "# Volvo in one-hot encoding\n",
        "Volvo = [0, 0, 0, 0, 0, 0, 0, 0, 0, 0, 0, 0, 0, 0, 0, 0, 1]\n",
        "\n",
        "# Make prediction\n",
        "model.predict([[1300, 2300] + Volvo])"
      ],
      "metadata": {
        "colab": {
          "base_uri": "https://localhost:8080/"
        },
        "id": "gs4qxqA_X-gS",
        "outputId": "c5c19101-6e4e-48e9-f20a-d892c1aaeac7"
      },
      "execution_count": 38,
      "outputs": [
        {
          "output_type": "stream",
          "name": "stderr",
          "text": [
            "/usr/local/lib/python3.7/dist-packages/sklearn/base.py:451: UserWarning: X does not have valid feature names, but LinearRegression was fitted with feature names\n",
            "  \"X does not have valid feature names, but\"\n"
          ]
        },
        {
          "output_type": "execute_result",
          "data": {
            "text/plain": [
              "array([110.26943394])"
            ]
          },
          "metadata": {},
          "execution_count": 38
        }
      ]
    },
    {
      "cell_type": "markdown",
      "source": [
        "### Scaling and Standardization\n",
        "\n",
        "When our data has different values, and even different measurement units, it can be difficult to compare them.\n",
        "\n",
        "The answer to this problem is scaling. We can scale data into new values that are easier to compare.\n",
        "\n",
        "Take a look at the data set below, it is the same data set that we used in the multiple regression, but this time the volume column contains values in liters instead of cm3 (1.0 instead of 1000)."
      ],
      "metadata": {
        "id": "2nL6GtbZ2_TS"
      }
    },
    {
      "cell_type": "code",
      "source": [
        "car_dataset_2 = pd.read_csv('./W3MachineLearning/datasets/cardata_2.csv')\n",
        "car_dataset_2"
      ],
      "metadata": {
        "colab": {
          "base_uri": "https://localhost:8080/",
          "height": 1000
        },
        "id": "HkefHK8c24ns",
        "outputId": "9def2009-8c42-4f31-d5a9-22a44c27e44a"
      },
      "execution_count": 39,
      "outputs": [
        {
          "output_type": "execute_result",
          "data": {
            "text/plain": [
              "           Car       Model  Volume  Weight  CO2\n",
              "0       Toyoty        Aygo     1.0     790   99\n",
              "1   Mitsubishi  Space Star     1.2    1160   95\n",
              "2        Skoda      Citigo     1.0     929   95\n",
              "3         Fiat         500     0.9     865   90\n",
              "4         Mini      Cooper     1.5    1140  105\n",
              "5           VW         Up!     1.0     929  105\n",
              "6        Skoda       Fabia     1.4    1109   90\n",
              "7     Mercedes     A-Class     1.5    1365   92\n",
              "8         Ford      Fiesta     1.5    1112   98\n",
              "9         Audi          A1     1.6    1150   99\n",
              "10     Hyundai         I20     1.1     980   99\n",
              "11      Suzuki       Swift     1.3     990  101\n",
              "12        Ford      Fiesta     1.0    1112   99\n",
              "13       Honda       Civic     1.6    1252   94\n",
              "14      Hundai         I30     1.6    1326   97\n",
              "15        Opel       Astra     1.6    1330   97\n",
              "16         BMW           1     1.6    1365   99\n",
              "17       Mazda           3     2.2    1280  104\n",
              "18       Skoda       Rapid     1.6    1119  104\n",
              "19        Ford       Focus     2.0    1328  105\n",
              "20        Ford      Mondeo     1.6    1584   94\n",
              "21        Opel    Insignia     2.0    1428   99\n",
              "22    Mercedes     C-Class     2.1    1365   99\n",
              "23       Skoda     Octavia     1.6    1415   99\n",
              "24       Volvo         S60     2.0    1415   99\n",
              "25    Mercedes         CLA     1.5    1465  102\n",
              "26        Audi          A4     2.0    1490  104\n",
              "27        Audi          A6     2.0    1725  114\n",
              "28       Volvo         V70     1.6    1523  109\n",
              "29         BMW           5     2.0    1705  114\n",
              "30    Mercedes     E-Class     2.1    1605  115\n",
              "31       Volvo        XC70     2.0    1746  117\n",
              "32        Ford       B-Max     1.6    1235  104\n",
              "33         BMW         216     1.6    1390  108\n",
              "34        Opel      Zafira     1.6    1405  109\n",
              "35    Mercedes         SLK     2.5    1395  120"
            ],
            "text/html": [
              "\n",
              "  <div id=\"df-52a622a9-edb9-4749-9acc-ebb146343279\">\n",
              "    <div class=\"colab-df-container\">\n",
              "      <div>\n",
              "<style scoped>\n",
              "    .dataframe tbody tr th:only-of-type {\n",
              "        vertical-align: middle;\n",
              "    }\n",
              "\n",
              "    .dataframe tbody tr th {\n",
              "        vertical-align: top;\n",
              "    }\n",
              "\n",
              "    .dataframe thead th {\n",
              "        text-align: right;\n",
              "    }\n",
              "</style>\n",
              "<table border=\"1\" class=\"dataframe\">\n",
              "  <thead>\n",
              "    <tr style=\"text-align: right;\">\n",
              "      <th></th>\n",
              "      <th>Car</th>\n",
              "      <th>Model</th>\n",
              "      <th>Volume</th>\n",
              "      <th>Weight</th>\n",
              "      <th>CO2</th>\n",
              "    </tr>\n",
              "  </thead>\n",
              "  <tbody>\n",
              "    <tr>\n",
              "      <th>0</th>\n",
              "      <td>Toyoty</td>\n",
              "      <td>Aygo</td>\n",
              "      <td>1.0</td>\n",
              "      <td>790</td>\n",
              "      <td>99</td>\n",
              "    </tr>\n",
              "    <tr>\n",
              "      <th>1</th>\n",
              "      <td>Mitsubishi</td>\n",
              "      <td>Space Star</td>\n",
              "      <td>1.2</td>\n",
              "      <td>1160</td>\n",
              "      <td>95</td>\n",
              "    </tr>\n",
              "    <tr>\n",
              "      <th>2</th>\n",
              "      <td>Skoda</td>\n",
              "      <td>Citigo</td>\n",
              "      <td>1.0</td>\n",
              "      <td>929</td>\n",
              "      <td>95</td>\n",
              "    </tr>\n",
              "    <tr>\n",
              "      <th>3</th>\n",
              "      <td>Fiat</td>\n",
              "      <td>500</td>\n",
              "      <td>0.9</td>\n",
              "      <td>865</td>\n",
              "      <td>90</td>\n",
              "    </tr>\n",
              "    <tr>\n",
              "      <th>4</th>\n",
              "      <td>Mini</td>\n",
              "      <td>Cooper</td>\n",
              "      <td>1.5</td>\n",
              "      <td>1140</td>\n",
              "      <td>105</td>\n",
              "    </tr>\n",
              "    <tr>\n",
              "      <th>5</th>\n",
              "      <td>VW</td>\n",
              "      <td>Up!</td>\n",
              "      <td>1.0</td>\n",
              "      <td>929</td>\n",
              "      <td>105</td>\n",
              "    </tr>\n",
              "    <tr>\n",
              "      <th>6</th>\n",
              "      <td>Skoda</td>\n",
              "      <td>Fabia</td>\n",
              "      <td>1.4</td>\n",
              "      <td>1109</td>\n",
              "      <td>90</td>\n",
              "    </tr>\n",
              "    <tr>\n",
              "      <th>7</th>\n",
              "      <td>Mercedes</td>\n",
              "      <td>A-Class</td>\n",
              "      <td>1.5</td>\n",
              "      <td>1365</td>\n",
              "      <td>92</td>\n",
              "    </tr>\n",
              "    <tr>\n",
              "      <th>8</th>\n",
              "      <td>Ford</td>\n",
              "      <td>Fiesta</td>\n",
              "      <td>1.5</td>\n",
              "      <td>1112</td>\n",
              "      <td>98</td>\n",
              "    </tr>\n",
              "    <tr>\n",
              "      <th>9</th>\n",
              "      <td>Audi</td>\n",
              "      <td>A1</td>\n",
              "      <td>1.6</td>\n",
              "      <td>1150</td>\n",
              "      <td>99</td>\n",
              "    </tr>\n",
              "    <tr>\n",
              "      <th>10</th>\n",
              "      <td>Hyundai</td>\n",
              "      <td>I20</td>\n",
              "      <td>1.1</td>\n",
              "      <td>980</td>\n",
              "      <td>99</td>\n",
              "    </tr>\n",
              "    <tr>\n",
              "      <th>11</th>\n",
              "      <td>Suzuki</td>\n",
              "      <td>Swift</td>\n",
              "      <td>1.3</td>\n",
              "      <td>990</td>\n",
              "      <td>101</td>\n",
              "    </tr>\n",
              "    <tr>\n",
              "      <th>12</th>\n",
              "      <td>Ford</td>\n",
              "      <td>Fiesta</td>\n",
              "      <td>1.0</td>\n",
              "      <td>1112</td>\n",
              "      <td>99</td>\n",
              "    </tr>\n",
              "    <tr>\n",
              "      <th>13</th>\n",
              "      <td>Honda</td>\n",
              "      <td>Civic</td>\n",
              "      <td>1.6</td>\n",
              "      <td>1252</td>\n",
              "      <td>94</td>\n",
              "    </tr>\n",
              "    <tr>\n",
              "      <th>14</th>\n",
              "      <td>Hundai</td>\n",
              "      <td>I30</td>\n",
              "      <td>1.6</td>\n",
              "      <td>1326</td>\n",
              "      <td>97</td>\n",
              "    </tr>\n",
              "    <tr>\n",
              "      <th>15</th>\n",
              "      <td>Opel</td>\n",
              "      <td>Astra</td>\n",
              "      <td>1.6</td>\n",
              "      <td>1330</td>\n",
              "      <td>97</td>\n",
              "    </tr>\n",
              "    <tr>\n",
              "      <th>16</th>\n",
              "      <td>BMW</td>\n",
              "      <td>1</td>\n",
              "      <td>1.6</td>\n",
              "      <td>1365</td>\n",
              "      <td>99</td>\n",
              "    </tr>\n",
              "    <tr>\n",
              "      <th>17</th>\n",
              "      <td>Mazda</td>\n",
              "      <td>3</td>\n",
              "      <td>2.2</td>\n",
              "      <td>1280</td>\n",
              "      <td>104</td>\n",
              "    </tr>\n",
              "    <tr>\n",
              "      <th>18</th>\n",
              "      <td>Skoda</td>\n",
              "      <td>Rapid</td>\n",
              "      <td>1.6</td>\n",
              "      <td>1119</td>\n",
              "      <td>104</td>\n",
              "    </tr>\n",
              "    <tr>\n",
              "      <th>19</th>\n",
              "      <td>Ford</td>\n",
              "      <td>Focus</td>\n",
              "      <td>2.0</td>\n",
              "      <td>1328</td>\n",
              "      <td>105</td>\n",
              "    </tr>\n",
              "    <tr>\n",
              "      <th>20</th>\n",
              "      <td>Ford</td>\n",
              "      <td>Mondeo</td>\n",
              "      <td>1.6</td>\n",
              "      <td>1584</td>\n",
              "      <td>94</td>\n",
              "    </tr>\n",
              "    <tr>\n",
              "      <th>21</th>\n",
              "      <td>Opel</td>\n",
              "      <td>Insignia</td>\n",
              "      <td>2.0</td>\n",
              "      <td>1428</td>\n",
              "      <td>99</td>\n",
              "    </tr>\n",
              "    <tr>\n",
              "      <th>22</th>\n",
              "      <td>Mercedes</td>\n",
              "      <td>C-Class</td>\n",
              "      <td>2.1</td>\n",
              "      <td>1365</td>\n",
              "      <td>99</td>\n",
              "    </tr>\n",
              "    <tr>\n",
              "      <th>23</th>\n",
              "      <td>Skoda</td>\n",
              "      <td>Octavia</td>\n",
              "      <td>1.6</td>\n",
              "      <td>1415</td>\n",
              "      <td>99</td>\n",
              "    </tr>\n",
              "    <tr>\n",
              "      <th>24</th>\n",
              "      <td>Volvo</td>\n",
              "      <td>S60</td>\n",
              "      <td>2.0</td>\n",
              "      <td>1415</td>\n",
              "      <td>99</td>\n",
              "    </tr>\n",
              "    <tr>\n",
              "      <th>25</th>\n",
              "      <td>Mercedes</td>\n",
              "      <td>CLA</td>\n",
              "      <td>1.5</td>\n",
              "      <td>1465</td>\n",
              "      <td>102</td>\n",
              "    </tr>\n",
              "    <tr>\n",
              "      <th>26</th>\n",
              "      <td>Audi</td>\n",
              "      <td>A4</td>\n",
              "      <td>2.0</td>\n",
              "      <td>1490</td>\n",
              "      <td>104</td>\n",
              "    </tr>\n",
              "    <tr>\n",
              "      <th>27</th>\n",
              "      <td>Audi</td>\n",
              "      <td>A6</td>\n",
              "      <td>2.0</td>\n",
              "      <td>1725</td>\n",
              "      <td>114</td>\n",
              "    </tr>\n",
              "    <tr>\n",
              "      <th>28</th>\n",
              "      <td>Volvo</td>\n",
              "      <td>V70</td>\n",
              "      <td>1.6</td>\n",
              "      <td>1523</td>\n",
              "      <td>109</td>\n",
              "    </tr>\n",
              "    <tr>\n",
              "      <th>29</th>\n",
              "      <td>BMW</td>\n",
              "      <td>5</td>\n",
              "      <td>2.0</td>\n",
              "      <td>1705</td>\n",
              "      <td>114</td>\n",
              "    </tr>\n",
              "    <tr>\n",
              "      <th>30</th>\n",
              "      <td>Mercedes</td>\n",
              "      <td>E-Class</td>\n",
              "      <td>2.1</td>\n",
              "      <td>1605</td>\n",
              "      <td>115</td>\n",
              "    </tr>\n",
              "    <tr>\n",
              "      <th>31</th>\n",
              "      <td>Volvo</td>\n",
              "      <td>XC70</td>\n",
              "      <td>2.0</td>\n",
              "      <td>1746</td>\n",
              "      <td>117</td>\n",
              "    </tr>\n",
              "    <tr>\n",
              "      <th>32</th>\n",
              "      <td>Ford</td>\n",
              "      <td>B-Max</td>\n",
              "      <td>1.6</td>\n",
              "      <td>1235</td>\n",
              "      <td>104</td>\n",
              "    </tr>\n",
              "    <tr>\n",
              "      <th>33</th>\n",
              "      <td>BMW</td>\n",
              "      <td>216</td>\n",
              "      <td>1.6</td>\n",
              "      <td>1390</td>\n",
              "      <td>108</td>\n",
              "    </tr>\n",
              "    <tr>\n",
              "      <th>34</th>\n",
              "      <td>Opel</td>\n",
              "      <td>Zafira</td>\n",
              "      <td>1.6</td>\n",
              "      <td>1405</td>\n",
              "      <td>109</td>\n",
              "    </tr>\n",
              "    <tr>\n",
              "      <th>35</th>\n",
              "      <td>Mercedes</td>\n",
              "      <td>SLK</td>\n",
              "      <td>2.5</td>\n",
              "      <td>1395</td>\n",
              "      <td>120</td>\n",
              "    </tr>\n",
              "  </tbody>\n",
              "</table>\n",
              "</div>\n",
              "      <button class=\"colab-df-convert\" onclick=\"convertToInteractive('df-52a622a9-edb9-4749-9acc-ebb146343279')\"\n",
              "              title=\"Convert this dataframe to an interactive table.\"\n",
              "              style=\"display:none;\">\n",
              "        \n",
              "  <svg xmlns=\"http://www.w3.org/2000/svg\" height=\"24px\"viewBox=\"0 0 24 24\"\n",
              "       width=\"24px\">\n",
              "    <path d=\"M0 0h24v24H0V0z\" fill=\"none\"/>\n",
              "    <path d=\"M18.56 5.44l.94 2.06.94-2.06 2.06-.94-2.06-.94-.94-2.06-.94 2.06-2.06.94zm-11 1L8.5 8.5l.94-2.06 2.06-.94-2.06-.94L8.5 2.5l-.94 2.06-2.06.94zm10 10l.94 2.06.94-2.06 2.06-.94-2.06-.94-.94-2.06-.94 2.06-2.06.94z\"/><path d=\"M17.41 7.96l-1.37-1.37c-.4-.4-.92-.59-1.43-.59-.52 0-1.04.2-1.43.59L10.3 9.45l-7.72 7.72c-.78.78-.78 2.05 0 2.83L4 21.41c.39.39.9.59 1.41.59.51 0 1.02-.2 1.41-.59l7.78-7.78 2.81-2.81c.8-.78.8-2.07 0-2.86zM5.41 20L4 18.59l7.72-7.72 1.47 1.35L5.41 20z\"/>\n",
              "  </svg>\n",
              "      </button>\n",
              "      \n",
              "  <style>\n",
              "    .colab-df-container {\n",
              "      display:flex;\n",
              "      flex-wrap:wrap;\n",
              "      gap: 12px;\n",
              "    }\n",
              "\n",
              "    .colab-df-convert {\n",
              "      background-color: #E8F0FE;\n",
              "      border: none;\n",
              "      border-radius: 50%;\n",
              "      cursor: pointer;\n",
              "      display: none;\n",
              "      fill: #1967D2;\n",
              "      height: 32px;\n",
              "      padding: 0 0 0 0;\n",
              "      width: 32px;\n",
              "    }\n",
              "\n",
              "    .colab-df-convert:hover {\n",
              "      background-color: #E2EBFA;\n",
              "      box-shadow: 0px 1px 2px rgba(60, 64, 67, 0.3), 0px 1px 3px 1px rgba(60, 64, 67, 0.15);\n",
              "      fill: #174EA6;\n",
              "    }\n",
              "\n",
              "    [theme=dark] .colab-df-convert {\n",
              "      background-color: #3B4455;\n",
              "      fill: #D2E3FC;\n",
              "    }\n",
              "\n",
              "    [theme=dark] .colab-df-convert:hover {\n",
              "      background-color: #434B5C;\n",
              "      box-shadow: 0px 1px 3px 1px rgba(0, 0, 0, 0.15);\n",
              "      filter: drop-shadow(0px 1px 2px rgba(0, 0, 0, 0.3));\n",
              "      fill: #FFFFFF;\n",
              "    }\n",
              "  </style>\n",
              "\n",
              "      <script>\n",
              "        const buttonEl =\n",
              "          document.querySelector('#df-52a622a9-edb9-4749-9acc-ebb146343279 button.colab-df-convert');\n",
              "        buttonEl.style.display =\n",
              "          google.colab.kernel.accessAllowed ? 'block' : 'none';\n",
              "\n",
              "        async function convertToInteractive(key) {\n",
              "          const element = document.querySelector('#df-52a622a9-edb9-4749-9acc-ebb146343279');\n",
              "          const dataTable =\n",
              "            await google.colab.kernel.invokeFunction('convertToInteractive',\n",
              "                                                     [key], {});\n",
              "          if (!dataTable) return;\n",
              "\n",
              "          const docLinkHtml = 'Like what you see? Visit the ' +\n",
              "            '<a target=\"_blank\" href=https://colab.research.google.com/notebooks/data_table.ipynb>data table notebook</a>'\n",
              "            + ' to learn more about interactive tables.';\n",
              "          element.innerHTML = '';\n",
              "          dataTable['output_type'] = 'display_data';\n",
              "          await google.colab.output.renderOutput(dataTable, element);\n",
              "          const docLink = document.createElement('div');\n",
              "          docLink.innerHTML = docLinkHtml;\n",
              "          element.appendChild(docLink);\n",
              "        }\n",
              "      </script>\n",
              "    </div>\n",
              "  </div>\n",
              "  "
            ]
          },
          "metadata": {},
          "execution_count": 39
        }
      ]
    },
    {
      "cell_type": "markdown",
      "source": [
        "It can be difficult to compare the volume 1.0 with the weight 790, but if we scale them both into comparable values, we can easily see how much one value is compared to the other.\n",
        "\n",
        "There are different methods for scaling data, here we will use a method called standardization, which is essentially normalization with the following formula:\n",
        "\n",
        "$z = (x - μ) / σ$\n",
        "\n",
        "where:\n",
        "\n",
        "* $z$ is the standardized or normalized value.\n",
        "* $μ$ is the mean value of the feature.\n",
        "* $σ$ is the standard deviation of the feature.\n",
        "\n",
        "However, we will use the `StandardScaler()` class from sklearn module and `fit_transform()` method to standardize our input values (mostly features).\n",
        "\n",
        "Note that this step is the **Data Preprocessing Step** in ML:"
      ],
      "metadata": {
        "id": "TDrXbv4c6NxC"
      }
    },
    {
      "cell_type": "code",
      "source": [
        "# Import libraries\n",
        "from sklearn.preprocessing import StandardScaler\n",
        "\n",
        "# Create scaler object\n",
        "scaler = StandardScaler()\n",
        "\n",
        "# Create feature and label data frame\n",
        "feature = car_dataset_2[['Volume', 'Weight']]\n",
        "label = car_dataset_2['CO2']\n",
        "\n",
        "# Scale our features\n",
        "feature_scaled = scaler.fit_transform(feature)\n",
        "\n",
        "# Create multiple regression model\n",
        "model = linear_model.LinearRegression()\n",
        "\n",
        "# Fit the model with the scaled features and label\n",
        "model.fit(feature_scaled, label)"
      ],
      "metadata": {
        "colab": {
          "base_uri": "https://localhost:8080/"
        },
        "id": "jgrfQmTm7OH2",
        "outputId": "5edd9452-e6eb-4e3d-b46b-83a3e3935237"
      },
      "execution_count": 40,
      "outputs": [
        {
          "output_type": "execute_result",
          "data": {
            "text/plain": [
              "LinearRegression()"
            ]
          },
          "metadata": {},
          "execution_count": 40
        }
      ]
    },
    {
      "cell_type": "markdown",
      "source": [
        "Now we will still predict the emission of CO2 using the same condition:\n",
        "\n",
        "* Volume is 1300 mL, in this case 1.3 L\n",
        "* Weight is 2300\n",
        "\n",
        "Since we done standardization before, so to make predictions, we will also need to standardize the input values before passing it into our model for predictions:"
      ],
      "metadata": {
        "id": "DYAauaJm8gSl"
      }
    },
    {
      "cell_type": "code",
      "source": [
        "# Make predictions\n",
        "model.predict([\n",
        "    scaler.transform([[1.3, 2300]])[0]\n",
        "])"
      ],
      "metadata": {
        "colab": {
          "base_uri": "https://localhost:8080/"
        },
        "id": "1M0Zh4hL8rft",
        "outputId": "101972a7-accf-46e8-d679-65e0614f445b"
      },
      "execution_count": 41,
      "outputs": [
        {
          "output_type": "stream",
          "name": "stderr",
          "text": [
            "/usr/local/lib/python3.7/dist-packages/sklearn/base.py:451: UserWarning: X does not have valid feature names, but StandardScaler was fitted with feature names\n",
            "  \"X does not have valid feature names, but\"\n"
          ]
        },
        {
          "output_type": "execute_result",
          "data": {
            "text/plain": [
              "array([107.2087328])"
            ]
          },
          "metadata": {},
          "execution_count": 41
        }
      ]
    },
    {
      "cell_type": "markdown",
      "source": [
        "The difference between the `fit_transform()` method and the `transform()` method is that the `fit_transform()` method will scale the inputs based on their statistical mean, standard deviation etc., whereas the `transform()` method will scale the input based on the standardization used earlier."
      ],
      "metadata": {
        "id": "4OVMVQtR9pvI"
      }
    },
    {
      "cell_type": "markdown",
      "source": [
        "### Train/Test\n",
        "\n",
        "In ML, we create models to predict the outcome of certain events, like predicting the CO2 emission of a car when we knew the weight and engine size.\n",
        "\n",
        "To measure if the model is good enough, we can use a method called Train/Test."
      ],
      "metadata": {
        "id": "opnL8XM9-XPS"
      }
    },
    {
      "cell_type": "markdown",
      "source": [
        "#### What is Train/Test\n",
        "\n",
        "Train/Test is a method to measure the accuracy of your model.\n",
        "\n",
        "It is called Train/Test because you split the the data set into two sets: \n",
        "\n",
        "* Training Set: to train our model.\n",
        "* Testing Set: to evaluate our model.\n",
        "\n",
        "By default, we will split our data set into training and testing using the 80 : 20 ratio.\n",
        "\n",
        "Assuming we have a random data set with the feature being the number of minutes spent by customer before making a purchase, and the label being the amount of money spent on the purchase:"
      ],
      "metadata": {
        "id": "mcPqHIdS-iSE"
      }
    },
    {
      "cell_type": "code",
      "source": [
        "# Set the random seed to generate same value each time\n",
        "np.random.seed(2)\n",
        "\n",
        "# Create feature and label data\n",
        "feature = np.random.normal(3, 1, 100)\n",
        "label = np.random.normal(150, 40, 100) / feature\n",
        "\n",
        "# Create a scatter plot\n",
        "plt.scatter(feature, label)\n",
        "\n",
        "# Plots the scatter plot\n",
        "plt.show()"
      ],
      "metadata": {
        "colab": {
          "base_uri": "https://localhost:8080/",
          "height": 265
        },
        "id": "ezqgk7E3-RwZ",
        "outputId": "bf6a84fd-4bca-4192-9d9a-c5b00f993c36"
      },
      "execution_count": 42,
      "outputs": [
        {
          "output_type": "display_data",
          "data": {
            "text/plain": [
              "<Figure size 432x288 with 1 Axes>"
            ],
            "image/png": "[encoded data removed]"
          },
          "metadata": {
            "needs_background": "light"
          }
        }
      ]
    },
    {
      "cell_type": "markdown",
      "source": [
        "Now we will split our data set into 80% training and 20% testing. Since we have 100 data points, we will take the first 80 data points for training, and the remaining 20 as testing:"
      ],
      "metadata": {
        "id": "e2C6Vz4SAyhq"
      }
    },
    {
      "cell_type": "code",
      "source": [
        "# Create training data\n",
        "train_x = feature[:80]\n",
        "train_y = label[:80]\n",
        "\n",
        "# Create testing data\n",
        "eval_x = feature[80:]\n",
        "eval_y = label[80:]"
      ],
      "metadata": {
        "id": "emSYHEyJBL3D"
      },
      "execution_count": 43,
      "outputs": []
    },
    {
      "cell_type": "markdown",
      "source": [
        "Now we will look at our training data and testing data:"
      ],
      "metadata": {
        "id": "SKb9PWhXCCLp"
      }
    },
    {
      "cell_type": "code",
      "source": [
        "# Training data\n",
        "plt.scatter(train_x, train_y)\n",
        "plt.show()"
      ],
      "metadata": {
        "colab": {
          "base_uri": "https://localhost:8080/",
          "height": 265
        },
        "id": "Eb7Fls8pCEYH",
        "outputId": "83a5c6c1-c8ee-4f5d-da33-da4730b14670"
      },
      "execution_count": 44,
      "outputs": [
        {
          "output_type": "display_data",
          "data": {
            "text/plain": [
              "<Figure size 432x288 with 1 Axes>"
            ],
            "image/png": "[encoded data removed]"
          },
          "metadata": {
            "needs_background": "light"
          }
        }
      ]
    },
    {
      "cell_type": "code",
      "source": [
        "# Testing data\n",
        "plt.scatter(eval_x, eval_y)\n",
        "plt.show()"
      ],
      "metadata": {
        "colab": {
          "base_uri": "https://localhost:8080/",
          "height": 265
        },
        "id": "xTssGf7JCW6O",
        "outputId": "b408729d-9646-4f0c-9c51-d9d1cd69b811"
      },
      "execution_count": 45,
      "outputs": [
        {
          "output_type": "display_data",
          "data": {
            "text/plain": [
              "<Figure size 432x288 with 1 Axes>"
            ],
            "image/png": "[encoded data removed]"
          },
          "metadata": {
            "needs_background": "light"
          }
        }
      ]
    },
    {
      "cell_type": "markdown",
      "source": [
        "As we can see, the training data and testing data should have almost similar trend. Now, let's fit our model to the training data and evaluate it using our testing data. \n",
        "\n",
        "First of all, we will check if our data fits using a polynomial regression of degree 4 (quartic equation):"
      ],
      "metadata": {
        "id": "5apMCIMFCda5"
      }
    },
    {
      "cell_type": "code",
      "source": [
        "# Define line function\n",
        "deg = 4\n",
        "h = np.poly1d(np.polyfit(train_x, train_y, deg))\n",
        "\n",
        "# Create a scatter plot\n",
        "plt.scatter(train_x, train_y)\n",
        "\n",
        "# Generate 100 equally spaced x points for graph line\n",
        "line_x = np.linspace(min(train_x), max(train_x), 100)\n",
        "\n",
        "# Create line plot\n",
        "plt.plot(line_x, h(line_x))\n",
        "\n",
        "# Plots the scatter plot\n",
        "plt.show()\n",
        "\n",
        "# Determine the r2\n",
        "r2_score(train_y, h(train_x))"
      ],
      "metadata": {
        "colab": {
          "base_uri": "https://localhost:8080/",
          "height": 282
        },
        "id": "mQo_fGjDCm-L",
        "outputId": "7a491c45-b8e1-4434-ece7-fffd7304158d"
      },
      "execution_count": 46,
      "outputs": [
        {
          "output_type": "display_data",
          "data": {
            "text/plain": [
              "<Figure size 432x288 with 1 Axes>"
            ],
            "image/png": "[encoded data removed]"
          },
          "metadata": {
            "needs_background": "light"
          }
        },
        {
          "output_type": "execute_result",
          "data": {
            "text/plain": [
              "0.79886455446298"
            ]
          },
          "metadata": {},
          "execution_count": 46
        }
      ]
    },
    {
      "cell_type": "markdown",
      "source": [
        "The result of about 0.799 shows that there is a OK relationship.\n",
        "\n",
        "Now we will evaluate the `r2_score` using the testing data set:"
      ],
      "metadata": {
        "id": "Fo_okgovFyuc"
      }
    },
    {
      "cell_type": "code",
      "source": [
        "r2_score(eval_y, h(eval_x))"
      ],
      "metadata": {
        "colab": {
          "base_uri": "https://localhost:8080/"
        },
        "id": "nwf55G8bFwoT",
        "outputId": "c031dbbf-c9d9-44f6-9d64-524d6cf41b34"
      },
      "execution_count": 47,
      "outputs": [
        {
          "output_type": "execute_result",
          "data": {
            "text/plain": [
              "0.8086921460343566"
            ]
          },
          "metadata": {},
          "execution_count": 47
        }
      ]
    },
    {
      "cell_type": "markdown",
      "source": [
        "The result of about 0.809 shows that the model fits the testing set as well, and we are confident that we can use the model to predict future values.\n",
        "\n",
        "Let's predict the amount spent by a customer that stays in the shop for 5 minutes:"
      ],
      "metadata": {
        "id": "XRMlRSKdGGuO"
      }
    },
    {
      "cell_type": "code",
      "source": [
        "h(5)"
      ],
      "metadata": {
        "colab": {
          "base_uri": "https://localhost:8080/"
        },
        "id": "fIKmSfcnGQBs",
        "outputId": "5a4150da-f991-4818-cfbd-92bdd5ecdca4"
      },
      "execution_count": 48,
      "outputs": [
        {
          "output_type": "execute_result",
          "data": {
            "text/plain": [
              "22.8796259181172"
            ]
          },
          "metadata": {},
          "execution_count": 48
        }
      ]
    },
    {
      "cell_type": "markdown",
      "source": [
        "It looks like the model predicts that a customer that stays in the shop for 5 minutes will spend around $22.88."
      ],
      "metadata": {
        "id": "VMZRt_whGTfw"
      }
    },
    {
      "cell_type": "markdown",
      "source": [
        "## Decision Tree\n",
        "\n",
        "A Decision Tree is a **Flow Chart**, and can help us make decisions based on previous experience.\n",
        "\n",
        "In the following example, a person will try to decide if he/she should go to a comedy show or not.\n",
        "\n",
        "Luckily our example person has registered every time there was a comedy show in town, and registered some information about the comedian, and also registered if he/she went or not."
      ],
      "metadata": {
        "id": "k1KV4RD36fx8"
      }
    },
    {
      "cell_type": "code",
      "source": [
        "shows_dataset = pd.read_csv('./W3MachineLearning/datasets/shows.csv')\n",
        "shows_dataset"
      ],
      "metadata": {
        "colab": {
          "base_uri": "https://localhost:8080/",
          "height": 457
        },
        "id": "AbB84NKT6fVE",
        "outputId": "e7beba0d-549b-4fb3-d620-2cf1e32e90cf"
      },
      "execution_count": 49,
      "outputs": [
        {
          "output_type": "execute_result",
          "data": {
            "text/plain": [
              "    Age  Experience  Rank Nationality   Go\n",
              "0    36          10     9          UK   NO\n",
              "1    42          12     4         USA   NO\n",
              "2    23           4     6           N   NO\n",
              "3    52           4     4         USA   NO\n",
              "4    43          21     8         USA  YES\n",
              "5    44          14     5          UK   NO\n",
              "6    66           3     7           N  YES\n",
              "7    35          14     9          UK  YES\n",
              "8    52          13     7           N  YES\n",
              "9    35           5     9           N  YES\n",
              "10   24           3     5         USA   NO\n",
              "11   18           3     7          UK  YES\n",
              "12   45           9     9          UK  YES"
            ],
            "text/html": [
              "\n",
              "  <div id=\"df-5dab05e7-7f58-4e36-a921-5116ca887b59\">\n",
              "    <div class=\"colab-df-container\">\n",
              "      <div>\n",
              "<style scoped>\n",
              "    .dataframe tbody tr th:only-of-type {\n",
              "        vertical-align: middle;\n",
              "    }\n",
              "\n",
              "    .dataframe tbody tr th {\n",
              "        vertical-align: top;\n",
              "    }\n",
              "\n",
              "    .dataframe thead th {\n",
              "        text-align: right;\n",
              "    }\n",
              "</style>\n",
              "<table border=\"1\" class=\"dataframe\">\n",
              "  <thead>\n",
              "    <tr style=\"text-align: right;\">\n",
              "      <th></th>\n",
              "      <th>Age</th>\n",
              "      <th>Experience</th>\n",
              "      <th>Rank</th>\n",
              "      <th>Nationality</th>\n",
              "      <th>Go</th>\n",
              "    </tr>\n",
              "  </thead>\n",
              "  <tbody>\n",
              "    <tr>\n",
              "      <th>0</th>\n",
              "      <td>36</td>\n",
              "      <td>10</td>\n",
              "      <td>9</td>\n",
              "      <td>UK</td>\n",
              "      <td>NO</td>\n",
              "    </tr>\n",
              "    <tr>\n",
              "      <th>1</th>\n",
              "      <td>42</td>\n",
              "      <td>12</td>\n",
              "      <td>4</td>\n",
              "      <td>USA</td>\n",
              "      <td>NO</td>\n",
              "    </tr>\n",
              "    <tr>\n",
              "      <th>2</th>\n",
              "      <td>23</td>\n",
              "      <td>4</td>\n",
              "      <td>6</td>\n",
              "      <td>N</td>\n",
              "      <td>NO</td>\n",
              "    </tr>\n",
              "    <tr>\n",
              "      <th>3</th>\n",
              "      <td>52</td>\n",
              "      <td>4</td>\n",
              "      <td>4</td>\n",
              "      <td>USA</td>\n",
              "      <td>NO</td>\n",
              "    </tr>\n",
              "    <tr>\n",
              "      <th>4</th>\n",
              "      <td>43</td>\n",
              "      <td>21</td>\n",
              "      <td>8</td>\n",
              "      <td>USA</td>\n",
              "      <td>YES</td>\n",
              "    </tr>\n",
              "    <tr>\n",
              "      <th>5</th>\n",
              "      <td>44</td>\n",
              "      <td>14</td>\n",
              "      <td>5</td>\n",
              "      <td>UK</td>\n",
              "      <td>NO</td>\n",
              "    </tr>\n",
              "    <tr>\n",
              "      <th>6</th>\n",
              "      <td>66</td>\n",
              "      <td>3</td>\n",
              "      <td>7</td>\n",
              "      <td>N</td>\n",
              "      <td>YES</td>\n",
              "    </tr>\n",
              "    <tr>\n",
              "      <th>7</th>\n",
              "      <td>35</td>\n",
              "      <td>14</td>\n",
              "      <td>9</td>\n",
              "      <td>UK</td>\n",
              "      <td>YES</td>\n",
              "    </tr>\n",
              "    <tr>\n",
              "      <th>8</th>\n",
              "      <td>52</td>\n",
              "      <td>13</td>\n",
              "      <td>7</td>\n",
              "      <td>N</td>\n",
              "      <td>YES</td>\n",
              "    </tr>\n",
              "    <tr>\n",
              "      <th>9</th>\n",
              "      <td>35</td>\n",
              "      <td>5</td>\n",
              "      <td>9</td>\n",
              "      <td>N</td>\n",
              "      <td>YES</td>\n",
              "    </tr>\n",
              "    <tr>\n",
              "      <th>10</th>\n",
              "      <td>24</td>\n",
              "      <td>3</td>\n",
              "      <td>5</td>\n",
              "      <td>USA</td>\n",
              "      <td>NO</td>\n",
              "    </tr>\n",
              "    <tr>\n",
              "      <th>11</th>\n",
              "      <td>18</td>\n",
              "      <td>3</td>\n",
              "      <td>7</td>\n",
              "      <td>UK</td>\n",
              "      <td>YES</td>\n",
              "    </tr>\n",
              "    <tr>\n",
              "      <th>12</th>\n",
              "      <td>45</td>\n",
              "      <td>9</td>\n",
              "      <td>9</td>\n",
              "      <td>UK</td>\n",
              "      <td>YES</td>\n",
              "    </tr>\n",
              "  </tbody>\n",
              "</table>\n",
              "</div>\n",
              "      <button class=\"colab-df-convert\" onclick=\"convertToInteractive('df-5dab05e7-7f58-4e36-a921-5116ca887b59')\"\n",
              "              title=\"Convert this dataframe to an interactive table.\"\n",
              "              style=\"display:none;\">\n",
              "        \n",
              "  <svg xmlns=\"http://www.w3.org/2000/svg\" height=\"24px\"viewBox=\"0 0 24 24\"\n",
              "       width=\"24px\">\n",
              "    <path d=\"M0 0h24v24H0V0z\" fill=\"none\"/>\n",
              "    <path d=\"M18.56 5.44l.94 2.06.94-2.06 2.06-.94-2.06-.94-.94-2.06-.94 2.06-2.06.94zm-11 1L8.5 8.5l.94-2.06 2.06-.94-2.06-.94L8.5 2.5l-.94 2.06-2.06.94zm10 10l.94 2.06.94-2.06 2.06-.94-2.06-.94-.94-2.06-.94 2.06-2.06.94z\"/><path d=\"M17.41 7.96l-1.37-1.37c-.4-.4-.92-.59-1.43-.59-.52 0-1.04.2-1.43.59L10.3 9.45l-7.72 7.72c-.78.78-.78 2.05 0 2.83L4 21.41c.39.39.9.59 1.41.59.51 0 1.02-.2 1.41-.59l7.78-7.78 2.81-2.81c.8-.78.8-2.07 0-2.86zM5.41 20L4 18.59l7.72-7.72 1.47 1.35L5.41 20z\"/>\n",
              "  </svg>\n",
              "      </button>\n",
              "      \n",
              "  <style>\n",
              "    .colab-df-container {\n",
              "      display:flex;\n",
              "      flex-wrap:wrap;\n",
              "      gap: 12px;\n",
              "    }\n",
              "\n",
              "    .colab-df-convert {\n",
              "      background-color: #E8F0FE;\n",
              "      border: none;\n",
              "      border-radius: 50%;\n",
              "      cursor: pointer;\n",
              "      display: none;\n",
              "      fill: #1967D2;\n",
              "      height: 32px;\n",
              "      padding: 0 0 0 0;\n",
              "      width: 32px;\n",
              "    }\n",
              "\n",
              "    .colab-df-convert:hover {\n",
              "      background-color: #E2EBFA;\n",
              "      box-shadow: 0px 1px 2px rgba(60, 64, 67, 0.3), 0px 1px 3px 1px rgba(60, 64, 67, 0.15);\n",
              "      fill: #174EA6;\n",
              "    }\n",
              "\n",
              "    [theme=dark] .colab-df-convert {\n",
              "      background-color: #3B4455;\n",
              "      fill: #D2E3FC;\n",
              "    }\n",
              "\n",
              "    [theme=dark] .colab-df-convert:hover {\n",
              "      background-color: #434B5C;\n",
              "      box-shadow: 0px 1px 3px 1px rgba(0, 0, 0, 0.15);\n",
              "      filter: drop-shadow(0px 1px 2px rgba(0, 0, 0, 0.3));\n",
              "      fill: #FFFFFF;\n",
              "    }\n",
              "  </style>\n",
              "\n",
              "      <script>\n",
              "        const buttonEl =\n",
              "          document.querySelector('#df-5dab05e7-7f58-4e36-a921-5116ca887b59 button.colab-df-convert');\n",
              "        buttonEl.style.display =\n",
              "          google.colab.kernel.accessAllowed ? 'block' : 'none';\n",
              "\n",
              "        async function convertToInteractive(key) {\n",
              "          const element = document.querySelector('#df-5dab05e7-7f58-4e36-a921-5116ca887b59');\n",
              "          const dataTable =\n",
              "            await google.colab.kernel.invokeFunction('convertToInteractive',\n",
              "                                                     [key], {});\n",
              "          if (!dataTable) return;\n",
              "\n",
              "          const docLinkHtml = 'Like what you see? Visit the ' +\n",
              "            '<a target=\"_blank\" href=https://colab.research.google.com/notebooks/data_table.ipynb>data table notebook</a>'\n",
              "            + ' to learn more about interactive tables.';\n",
              "          element.innerHTML = '';\n",
              "          dataTable['output_type'] = 'display_data';\n",
              "          await google.colab.output.renderOutput(dataTable, element);\n",
              "          const docLink = document.createElement('div');\n",
              "          docLink.innerHTML = docLinkHtml;\n",
              "          element.appendChild(docLink);\n",
              "        }\n",
              "      </script>\n",
              "    </div>\n",
              "  </div>\n",
              "  "
            ]
          },
          "metadata": {},
          "execution_count": 49
        }
      ]
    },
    {
      "cell_type": "markdown",
      "source": [
        "Before we make a decision tree, we will need to import some modules:"
      ],
      "metadata": {
        "id": "pNYfYCKRVHMP"
      }
    },
    {
      "cell_type": "code",
      "source": [
        "# Import decision tree modules\n",
        "from sklearn import tree\n",
        "from sklearn import metrics\n",
        "from sklearn.tree import DecisionTreeClassifier\n",
        "\n",
        "# Display decision tree\n",
        "import pydotplus\n",
        "import matplotlib.image as pltimg"
      ],
      "metadata": {
        "id": "6mqHhN7VYePm"
      },
      "execution_count": 50,
      "outputs": []
    },
    {
      "cell_type": "markdown",
      "source": [
        "To make a decision tree, all data has to be numerical.\n",
        "\n",
        "We have to convert the non numerical columns `'Nationality'` and `'Go'` into numerical values. We will use the `map()` method to convert the values `'UK'` to 0, `'USA'` to 1, and `'N'` to 2, as well as `'YES'` to 1 and `'NO'` to 0:"
      ],
      "metadata": {
        "id": "q5zSbfRlWLp1"
      }
    },
    {
      "cell_type": "code",
      "source": [
        "# Convert for Nationality column\n",
        "shows_dataset['Nationality'] = shows_dataset['Nationality'].map({'UK': 0, 'USA': 1, 'N': 2})\n",
        "\n",
        "# Convert for Go column\n",
        "shows_dataset['Go'] = shows_dataset['Go'].map({'YES': 1, 'NO': 0})\n",
        "\n",
        "# Preview dataset again\n",
        "shows_dataset"
      ],
      "metadata": {
        "colab": {
          "base_uri": "https://localhost:8080/",
          "height": 457
        },
        "id": "E76kA2R1WK1X",
        "outputId": "4f0de578-a171-4f10-8c80-69cf6c8f46f6"
      },
      "execution_count": 51,
      "outputs": [
        {
          "output_type": "execute_result",
          "data": {
            "text/plain": [
              "    Age  Experience  Rank  Nationality  Go\n",
              "0    36          10     9            0   0\n",
              "1    42          12     4            1   0\n",
              "2    23           4     6            2   0\n",
              "3    52           4     4            1   0\n",
              "4    43          21     8            1   1\n",
              "5    44          14     5            0   0\n",
              "6    66           3     7            2   1\n",
              "7    35          14     9            0   1\n",
              "8    52          13     7            2   1\n",
              "9    35           5     9            2   1\n",
              "10   24           3     5            1   0\n",
              "11   18           3     7            0   1\n",
              "12   45           9     9            0   1"
            ],
            "text/html": [
              "\n",
              "  <div id=\"df-600c1938-aad1-4c1b-a4e7-59a45d35306e\">\n",
              "    <div class=\"colab-df-container\">\n",
              "      <div>\n",
              "<style scoped>\n",
              "    .dataframe tbody tr th:only-of-type {\n",
              "        vertical-align: middle;\n",
              "    }\n",
              "\n",
              "    .dataframe tbody tr th {\n",
              "        vertical-align: top;\n",
              "    }\n",
              "\n",
              "    .dataframe thead th {\n",
              "        text-align: right;\n",
              "    }\n",
              "</style>\n",
              "<table border=\"1\" class=\"dataframe\">\n",
              "  <thead>\n",
              "    <tr style=\"text-align: right;\">\n",
              "      <th></th>\n",
              "      <th>Age</th>\n",
              "      <th>Experience</th>\n",
              "      <th>Rank</th>\n",
              "      <th>Nationality</th>\n",
              "      <th>Go</th>\n",
              "    </tr>\n",
              "  </thead>\n",
              "  <tbody>\n",
              "    <tr>\n",
              "      <th>0</th>\n",
              "      <td>36</td>\n",
              "      <td>10</td>\n",
              "      <td>9</td>\n",
              "      <td>0</td>\n",
              "      <td>0</td>\n",
              "    </tr>\n",
              "    <tr>\n",
              "      <th>1</th>\n",
              "      <td>42</td>\n",
              "      <td>12</td>\n",
              "      <td>4</td>\n",
              "      <td>1</td>\n",
              "      <td>0</td>\n",
              "    </tr>\n",
              "    <tr>\n",
              "      <th>2</th>\n",
              "      <td>23</td>\n",
              "      <td>4</td>\n",
              "      <td>6</td>\n",
              "      <td>2</td>\n",
              "      <td>0</td>\n",
              "    </tr>\n",
              "    <tr>\n",
              "      <th>3</th>\n",
              "      <td>52</td>\n",
              "      <td>4</td>\n",
              "      <td>4</td>\n",
              "      <td>1</td>\n",
              "      <td>0</td>\n",
              "    </tr>\n",
              "    <tr>\n",
              "      <th>4</th>\n",
              "      <td>43</td>\n",
              "      <td>21</td>\n",
              "      <td>8</td>\n",
              "      <td>1</td>\n",
              "      <td>1</td>\n",
              "    </tr>\n",
              "    <tr>\n",
              "      <th>5</th>\n",
              "      <td>44</td>\n",
              "      <td>14</td>\n",
              "      <td>5</td>\n",
              "      <td>0</td>\n",
              "      <td>0</td>\n",
              "    </tr>\n",
              "    <tr>\n",
              "      <th>6</th>\n",
              "      <td>66</td>\n",
              "      <td>3</td>\n",
              "      <td>7</td>\n",
              "      <td>2</td>\n",
              "      <td>1</td>\n",
              "    </tr>\n",
              "    <tr>\n",
              "      <th>7</th>\n",
              "      <td>35</td>\n",
              "      <td>14</td>\n",
              "      <td>9</td>\n",
              "      <td>0</td>\n",
              "      <td>1</td>\n",
              "    </tr>\n",
              "    <tr>\n",
              "      <th>8</th>\n",
              "      <td>52</td>\n",
              "      <td>13</td>\n",
              "      <td>7</td>\n",
              "      <td>2</td>\n",
              "      <td>1</td>\n",
              "    </tr>\n",
              "    <tr>\n",
              "      <th>9</th>\n",
              "      <td>35</td>\n",
              "      <td>5</td>\n",
              "      <td>9</td>\n",
              "      <td>2</td>\n",
              "      <td>1</td>\n",
              "    </tr>\n",
              "    <tr>\n",
              "      <th>10</th>\n",
              "      <td>24</td>\n",
              "      <td>3</td>\n",
              "      <td>5</td>\n",
              "      <td>1</td>\n",
              "      <td>0</td>\n",
              "    </tr>\n",
              "    <tr>\n",
              "      <th>11</th>\n",
              "      <td>18</td>\n",
              "      <td>3</td>\n",
              "      <td>7</td>\n",
              "      <td>0</td>\n",
              "      <td>1</td>\n",
              "    </tr>\n",
              "    <tr>\n",
              "      <th>12</th>\n",
              "      <td>45</td>\n",
              "      <td>9</td>\n",
              "      <td>9</td>\n",
              "      <td>0</td>\n",
              "      <td>1</td>\n",
              "    </tr>\n",
              "  </tbody>\n",
              "</table>\n",
              "</div>\n",
              "      <button class=\"colab-df-convert\" onclick=\"convertToInteractive('df-600c1938-aad1-4c1b-a4e7-59a45d35306e')\"\n",
              "              title=\"Convert this dataframe to an interactive table.\"\n",
              "              style=\"display:none;\">\n",
              "        \n",
              "  <svg xmlns=\"http://www.w3.org/2000/svg\" height=\"24px\"viewBox=\"0 0 24 24\"\n",
              "       width=\"24px\">\n",
              "    <path d=\"M0 0h24v24H0V0z\" fill=\"none\"/>\n",
              "    <path d=\"M18.56 5.44l.94 2.06.94-2.06 2.06-.94-2.06-.94-.94-2.06-.94 2.06-2.06.94zm-11 1L8.5 8.5l.94-2.06 2.06-.94-2.06-.94L8.5 2.5l-.94 2.06-2.06.94zm10 10l.94 2.06.94-2.06 2.06-.94-2.06-.94-.94-2.06-.94 2.06-2.06.94z\"/><path d=\"M17.41 7.96l-1.37-1.37c-.4-.4-.92-.59-1.43-.59-.52 0-1.04.2-1.43.59L10.3 9.45l-7.72 7.72c-.78.78-.78 2.05 0 2.83L4 21.41c.39.39.9.59 1.41.59.51 0 1.02-.2 1.41-.59l7.78-7.78 2.81-2.81c.8-.78.8-2.07 0-2.86zM5.41 20L4 18.59l7.72-7.72 1.47 1.35L5.41 20z\"/>\n",
              "  </svg>\n",
              "      </button>\n",
              "      \n",
              "  <style>\n",
              "    .colab-df-container {\n",
              "      display:flex;\n",
              "      flex-wrap:wrap;\n",
              "      gap: 12px;\n",
              "    }\n",
              "\n",
              "    .colab-df-convert {\n",
              "      background-color: #E8F0FE;\n",
              "      border: none;\n",
              "      border-radius: 50%;\n",
              "      cursor: pointer;\n",
              "      display: none;\n",
              "      fill: #1967D2;\n",
              "      height: 32px;\n",
              "      padding: 0 0 0 0;\n",
              "      width: 32px;\n",
              "    }\n",
              "\n",
              "    .colab-df-convert:hover {\n",
              "      background-color: #E2EBFA;\n",
              "      box-shadow: 0px 1px 2px rgba(60, 64, 67, 0.3), 0px 1px 3px 1px rgba(60, 64, 67, 0.15);\n",
              "      fill: #174EA6;\n",
              "    }\n",
              "\n",
              "    [theme=dark] .colab-df-convert {\n",
              "      background-color: #3B4455;\n",
              "      fill: #D2E3FC;\n",
              "    }\n",
              "\n",
              "    [theme=dark] .colab-df-convert:hover {\n",
              "      background-color: #434B5C;\n",
              "      box-shadow: 0px 1px 3px 1px rgba(0, 0, 0, 0.15);\n",
              "      filter: drop-shadow(0px 1px 2px rgba(0, 0, 0, 0.3));\n",
              "      fill: #FFFFFF;\n",
              "    }\n",
              "  </style>\n",
              "\n",
              "      <script>\n",
              "        const buttonEl =\n",
              "          document.querySelector('#df-600c1938-aad1-4c1b-a4e7-59a45d35306e button.colab-df-convert');\n",
              "        buttonEl.style.display =\n",
              "          google.colab.kernel.accessAllowed ? 'block' : 'none';\n",
              "\n",
              "        async function convertToInteractive(key) {\n",
              "          const element = document.querySelector('#df-600c1938-aad1-4c1b-a4e7-59a45d35306e');\n",
              "          const dataTable =\n",
              "            await google.colab.kernel.invokeFunction('convertToInteractive',\n",
              "                                                     [key], {});\n",
              "          if (!dataTable) return;\n",
              "\n",
              "          const docLinkHtml = 'Like what you see? Visit the ' +\n",
              "            '<a target=\"_blank\" href=https://colab.research.google.com/notebooks/data_table.ipynb>data table notebook</a>'\n",
              "            + ' to learn more about interactive tables.';\n",
              "          element.innerHTML = '';\n",
              "          dataTable['output_type'] = 'display_data';\n",
              "          await google.colab.output.renderOutput(dataTable, element);\n",
              "          const docLink = document.createElement('div');\n",
              "          docLink.innerHTML = docLinkHtml;\n",
              "          element.appendChild(docLink);\n",
              "        }\n",
              "      </script>\n",
              "    </div>\n",
              "  </div>\n",
              "  "
            ]
          },
          "metadata": {},
          "execution_count": 51
        }
      ]
    },
    {
      "cell_type": "markdown",
      "source": [
        "Now all of our data are numerical, we can start to create our decision tree:"
      ],
      "metadata": {
        "id": "aJo_Y4F0XkFt"
      }
    },
    {
      "cell_type": "code",
      "source": [
        "feature_column = ['Age', 'Experience', 'Rank', 'Nationality']\n",
        "\n",
        "# Create features and label data frame\n",
        "features = shows_dataset[feature_column]\n",
        "label = shows_dataset['Go']\n",
        "\n",
        "# Create a decision tree object\n",
        "dtree = DecisionTreeClassifier()\n",
        "\n",
        "# Fit the decision tree with features and label\n",
        "dtree = dtree.fit(features, label)\n",
        "\n",
        "# Generate graph\n",
        "data = tree.export_graphviz(dtree, out_file=None, feature_names=feature_column)\n",
        "graph = pydotplus.graph_from_dot_data(data)\n",
        "\n",
        "graph.write_png('mydecisiontree.png')\n",
        "img = pltimg.imread('mydecisiontree.png')\n",
        "\n",
        "plt.figure(figsize=(6,14))\n",
        "plt.imshow(img)"
      ],
      "metadata": {
        "colab": {
          "base_uri": "https://localhost:8080/",
          "height": 511
        },
        "id": "TLDw8RHyYMnm",
        "outputId": "3bd1e4dd-f5b8-449e-d3d9-4ce442b2573d"
      },
      "execution_count": 52,
      "outputs": [
        {
          "output_type": "execute_result",
          "data": {
            "text/plain": [
              "<matplotlib.image.AxesImage at 0x7f0ac90ea0d0>"
            ]
          },
          "metadata": {},
          "execution_count": 52
        },
        {
          "output_type": "display_data",
          "data": {
            "text/plain": [
              "<Figure size 432x1008 with 1 Axes>"
            ],
            "image/png": "[encoded data removed]"
          },
          "metadata": {
            "needs_background": "light"
          }
        }
      ]
    },
    {
      "cell_type": "markdown",
      "source": [
        "From the decision tree, we can see that there is a feature, gini, samples and value in most boxes. \n",
        "\n",
        "1. The feature line shows the condition and the arrow line shows the decision made for a given condition.\n",
        "2. Gini refers to the quality of the split, and is always a number between 0.0 and 0.5, where 0.0 would mean all of the samples got the same result, and 0.5 would mean that the split is done exactly in the middle.\n",
        "3. Samples refer to the actual number of comedians left in this case after the previous decision.\n",
        "4. Value refers to the true/false split of the sample.\n",
        "\n",
        "The Gini method uses this formula: $Gini = 1 - (x/n)^2 - (y/n)^2$\n",
        "\n",
        "Where $x$ is the number of positive answers(\"GO\"), $n$ is the number of samples, and $y$ is the number of negative answers (\"NO\").\n",
        "\n",
        "Now we can predict if we will go if the comedian is:\n",
        "\n",
        "* Age: 40 years old\n",
        "* Experience: 10 years\n",
        "* Ranking: 7\n",
        "* Nationality: 1 (US)"
      ],
      "metadata": {
        "id": "18ljVfwCbkAU"
      }
    },
    {
      "cell_type": "code",
      "source": [
        "dtree.predict([\n",
        "    [40, 10, 7, 1]\n",
        "])"
      ],
      "metadata": {
        "colab": {
          "base_uri": "https://localhost:8080/"
        },
        "id": "b0h4YpHdc4oY",
        "outputId": "d7596107-d2f4-4524-95e9-79169ca67578"
      },
      "execution_count": 53,
      "outputs": [
        {
          "output_type": "stream",
          "name": "stderr",
          "text": [
            "/usr/local/lib/python3.7/dist-packages/sklearn/base.py:451: UserWarning: X does not have valid feature names, but DecisionTreeClassifier was fitted with feature names\n",
            "  \"X does not have valid feature names, but\"\n"
          ]
        },
        {
          "output_type": "execute_result",
          "data": {
            "text/plain": [
              "array([1])"
            ]
          },
          "metadata": {},
          "execution_count": 53
        }
      ]
    },
    {
      "cell_type": "markdown",
      "source": [
        "The model predicts `'YES'` (1) for this case, now we will try to predict if we will go if the ranking of the comedian s only 6:"
      ],
      "metadata": {
        "id": "s5dB_6RUre8v"
      }
    },
    {
      "cell_type": "code",
      "source": [
        "dtree.predict([\n",
        "    [40, 10, 6, 1]\n",
        "])"
      ],
      "metadata": {
        "colab": {
          "base_uri": "https://localhost:8080/"
        },
        "id": "EdMHjKLfroyU",
        "outputId": "1ed9e78c-ea2b-436e-b5c4-9b5f3709c383"
      },
      "execution_count": 54,
      "outputs": [
        {
          "output_type": "stream",
          "name": "stderr",
          "text": [
            "/usr/local/lib/python3.7/dist-packages/sklearn/base.py:451: UserWarning: X does not have valid feature names, but DecisionTreeClassifier was fitted with feature names\n",
            "  \"X does not have valid feature names, but\"\n"
          ]
        },
        {
          "output_type": "execute_result",
          "data": {
            "text/plain": [
              "array([0])"
            ]
          },
          "metadata": {},
          "execution_count": 54
        }
      ]
    },
    {
      "cell_type": "markdown",
      "source": [
        "Our model predicts `'NO'` (0) for this case.\n",
        "\n",
        "Ocassionally, we will see that the decision tree gives us different results if we run it enough times, even if we feed it with the same data. That is because the decision tree does not give us a 100% certain answer. It is based on the probability of an outcome, and the answer will vary."
      ],
      "metadata": {
        "id": "qnYHYPSPrugJ"
      }
    },
    {
      "cell_type": "markdown",
      "source": [
        "### Bootstrap Aggregation\n",
        "\n",
        "Methods such as the Decision Trees, can be **prone to overfitting** on the training set which can lead to wrong predictions on new data.\n",
        "\n",
        "Bootstrap Aggregation (bagging) is an ensembling method that attempts to resolve overfitting for classification or regression problems. Bagging aims to improve the accuracy and performance of machine learning algorithms. \n",
        "\n",
        "It does this by taking random subsets of an original dataset, with replacement, and fits either a classifier (for classification) or regressor (for regression) to each subset. \n",
        "\n",
        "The predictions for each subset are then aggregated through majority vote for classification or averaging for regression, increasing prediction accuracy.\n",
        "\n",
        "### Evaluating a Base Classifier\n",
        "\n",
        "To see how bagging can improve model performance, we must start by evaluating how the base classifier performs on the dataset. \n",
        "\n",
        "Let's start by importing the necessary modules:"
      ],
      "metadata": {
        "id": "QyM7hRXHCW7m"
      }
    },
    {
      "cell_type": "code",
      "source": [
        "from sklearn.model_selection import train_test_split"
      ],
      "metadata": {
        "id": "uO0EELdIC1bW"
      },
      "execution_count": 55,
      "outputs": []
    },
    {
      "cell_type": "markdown",
      "source": [
        "We will be looking to identify different classes of wines found in Sklearn's wine dataset. So, we will load in the data and store it into `X` (features) and `y` (label). The parameter `as_frame` is set equal to `True` so we do not lose the feature names when loading the data:"
      ],
      "metadata": {
        "id": "A_c0yOIkDPMy"
      }
    },
    {
      "cell_type": "code",
      "source": [
        "# Load sklearn's wine data\n",
        "wine_data = datasets.load_wine(as_frame=True)\n",
        "\n",
        "# Create feature and label data frame\n",
        "X = wine_data['data']\n",
        "y = wine_data['target']\n",
        "\n",
        "print(X, y)"
      ],
      "metadata": {
        "colab": {
          "base_uri": "https://localhost:8080/"
        },
        "id": "lZ4i7lLxDQYy",
        "outputId": "12899c75-b74c-4d0a-f782-91f4644a3bce"
      },
      "execution_count": 56,
      "outputs": [
        {
          "output_type": "stream",
          "name": "stdout",
          "text": [
            "     alcohol  malic_acid   ash  alcalinity_of_ash  magnesium  total_phenols  \\\n",
            "0      14.23        1.71  2.43               15.6      127.0           2.80   \n",
            "1      13.20        1.78  2.14               11.2      100.0           2.65   \n",
            "2      13.16        2.36  2.67               18.6      101.0           2.80   \n",
            "3      14.37        1.95  2.50               16.8      113.0           3.85   \n",
            "4      13.24        2.59  2.87               21.0      118.0           2.80   \n",
            "..       ...         ...   ...                ...        ...            ...   \n",
            "173    13.71        5.65  2.45               20.5       95.0           1.68   \n",
            "174    13.40        3.91  2.48               23.0      102.0           1.80   \n",
            "175    13.27        4.28  2.26               20.0      120.0           1.59   \n",
            "176    13.17        2.59  2.37               20.0      120.0           1.65   \n",
            "177    14.13        4.10  2.74               24.5       96.0           2.05   \n",
            "\n",
            "     flavanoids  nonflavanoid_phenols  proanthocyanins  color_intensity   hue  \\\n",
            "0          3.06                  0.28             2.29             5.64  1.04   \n",
            "1          2.76                  0.26             1.28             4.38  1.05   \n",
            "2          3.24                  0.30             2.81             5.68  1.03   \n",
            "3          3.49                  0.24             2.18             7.80  0.86   \n",
            "4          2.69                  0.39             1.82             4.32  1.04   \n",
            "..          ...                   ...              ...              ...   ...   \n",
            "173        0.61                  0.52             1.06             7.70  0.64   \n",
            "174        0.75                  0.43             1.41             7.30  0.70   \n",
            "175        0.69                  0.43             1.35            10.20  0.59   \n",
            "176        0.68                  0.53             1.46             9.30  0.60   \n",
            "177        0.76                  0.56             1.35             9.20  0.61   \n",
            "\n",
            "     od280/od315_of_diluted_wines  proline  \n",
            "0                            3.92   1065.0  \n",
            "1                            3.40   1050.0  \n",
            "2                            3.17   1185.0  \n",
            "3                            3.45   1480.0  \n",
            "4                            2.93    735.0  \n",
            "..                            ...      ...  \n",
            "173                          1.74    740.0  \n",
            "174                          1.56    750.0  \n",
            "175                          1.56    835.0  \n",
            "176                          1.62    840.0  \n",
            "177                          1.60    560.0  \n",
            "\n",
            "[178 rows x 13 columns] 0      0\n",
            "1      0\n",
            "2      0\n",
            "3      0\n",
            "4      0\n",
            "      ..\n",
            "173    2\n",
            "174    2\n",
            "175    2\n",
            "176    2\n",
            "177    2\n",
            "Name: target, Length: 178, dtype: int64\n"
          ]
        }
      ]
    },
    {
      "cell_type": "markdown",
      "source": [
        "In order to properly evaluate our model on unseen data, we need to split our features and label into training and testing sets:"
      ],
      "metadata": {
        "id": "T7VsfMEYD6Vv"
      }
    },
    {
      "cell_type": "code",
      "source": [
        "X_train, X_test, y_train, y_test = train_test_split(X, y, test_size=0.25, random_state=22)"
      ],
      "metadata": {
        "id": "noWHhFWWEPWW"
      },
      "execution_count": 57,
      "outputs": []
    },
    {
      "cell_type": "markdown",
      "source": [
        "With our data prepared, we can now instantiate a base classifier and fit it to the training data:"
      ],
      "metadata": {
        "id": "GCxASMUiE7QX"
      }
    },
    {
      "cell_type": "code",
      "source": [
        "# Create a decision tree object\n",
        "dtree = DecisionTreeClassifier(random_state=22)\n",
        "\n",
        "# Fit the decision tree with training data\n",
        "dtree = dtree.fit(X_train, y_train)"
      ],
      "metadata": {
        "id": "c2D2EQpLE-RV"
      },
      "execution_count": 58,
      "outputs": []
    },
    {
      "cell_type": "markdown",
      "source": [
        "We can now predict the class of wine using the unseen test set and evaluate the model performance:"
      ],
      "metadata": {
        "id": "UZ43SRB-FX34"
      }
    },
    {
      "cell_type": "code",
      "source": [
        "print(\"Train data accuracy:\", metrics.accuracy_score(y_true=y_train, y_pred=dtree.predict(X_train)))\n",
        "print(\"Test data accuracy: \", metrics.accuracy_score(y_true=y_test, y_pred=dtree.predict(X_test)))"
      ],
      "metadata": {
        "colab": {
          "base_uri": "https://localhost:8080/"
        },
        "id": "M-8m36ynFZgc",
        "outputId": "6379e056-c4cb-414e-ecf0-d50516dca914"
      },
      "execution_count": 59,
      "outputs": [
        {
          "output_type": "stream",
          "name": "stdout",
          "text": [
            "Train data accuracy: 1.0\n",
            "Test data accuracy:  0.8222222222222222\n"
          ]
        }
      ]
    },
    {
      "cell_type": "markdown",
      "source": [
        "The base classifier performs reasonably well on the dataset achieving **82%** accuracy on the test dataset with the current parameters. \n",
        "\n",
        "The `random_state` parameter controls the randomness of the estimator. To obtain a deterministic behaviour during fitting, random_state has to be fixed to an integer. Read more on this parameter [here](https://scikit-learn.org/stable/modules/generated/sklearn.tree.DecisionTreeClassifier.html#:~:text=than%20max_features%20features.-,random_state,-int%2C%20RandomState%20instance).\n",
        "\n",
        "> **Note**:\n",
        "> <br>Different results may occur if we do not have the `random_state` parameter set.\n",
        "\n",
        "Now that we have a baseline accuracy for the test dataset, we can see how the **Bagging Classifier** out-performs a single Decision Tree Classifier."
      ],
      "metadata": {
        "id": "lRXws-WwFzeH"
      }
    },
    {
      "cell_type": "markdown",
      "source": [
        "### Bagging Classifier\n",
        "\n",
        "A Bagging Classifier is an ensemble meta-estimator that fits base classifiers each on random subsets of the original dataset and then aggregate their individual predictions (either by voting or by averaging) to form a final prediction. Such a meta-estimator can typically be used as a way to reduce the variance of a black-box estimator like a Decision Tree, by introducing randomization into its construction procedure and then making an ensemble out of it.\n",
        "\n",
        "Each base classifier is trained in parallel with a training set which is generated by randomly drawing, with replacement, *N* examples (or data) from the original training dataset – where *N* is the size of the original training set. Training set for each of the base classifiers is independent of each other. Many of the original data may be repeated in the resulting training set while others may be left out.\n",
        "\n",
        "Bagging reduces overfitting (variance) by averaging or voting, however, this leads to **an increase in bias**, which is compensated by the reduction in variance.\n",
        "\n",
        "To create a Bagging Classifier, we need to set the parameter `n_estimators`, this is the number of base classifiers that our model is going to aggregate together. By default, the base classifiers will be the Decision Trees.\n",
        "\n",
        "For this sample dataset the number of estimators is relatively low, it is often the case that much larger ranges are explored. Hyperparameter tuning is usually done with a grid search, but for now we will use a select set of values for the number of estimators.\n",
        "\n",
        "We start by importing the necessary module:"
      ],
      "metadata": {
        "id": "RUYjHRIGH9-a"
      }
    },
    {
      "cell_type": "code",
      "source": [
        "from sklearn.ensemble import BaggingClassifier"
      ],
      "metadata": {
        "id": "ZpITOJgNGx2_"
      },
      "execution_count": 60,
      "outputs": []
    },
    {
      "cell_type": "markdown",
      "source": [
        "Now we will create a range of values that represent the number of estimators we want to use in each ensemble:"
      ],
      "metadata": {
        "id": "UfoXOBCFIqGC"
      }
    },
    {
      "cell_type": "code",
      "source": [
        "estimator_range = [2, 4, 6, 8, 10, 12, 14, 16]"
      ],
      "metadata": {
        "id": "-wQyZZKNIrtw"
      },
      "execution_count": 61,
      "outputs": []
    },
    {
      "cell_type": "markdown",
      "source": [
        "To see how the Bagging Classifier performs with differing values of n_estimators, we will create a for loop, storing the models and scores in separate lists for vizualizations:"
      ],
      "metadata": {
        "id": "wNDbFV1GJOLK"
      }
    },
    {
      "cell_type": "code",
      "source": [
        "models = []\n",
        "scores = []\n",
        "\n",
        "for n_estimators in estimator_range:\n",
        "\n",
        "    # Create bagging classifier\n",
        "    model = BaggingClassifier(n_estimators=n_estimators, random_state=22)\n",
        "\n",
        "    # Fit the model\n",
        "    model.fit(X_train, y_train)\n",
        "\n",
        "    # Append the model and score to their respective list\n",
        "    models.append(model)\n",
        "    scores.append(metrics.accuracy_score(y_true=y_test, y_pred=model.predict(X_test)))\n",
        "\n",
        "# Visualization\n",
        "plt.figure(figsize=(16,9))\n",
        "plt.plot(estimator_range, scores)\n",
        "\n",
        "plt.xlabel(\"n_estimators\")\n",
        "plt.ylabel(\"score\")\n",
        "\n",
        "plt.show()\n",
        "\n",
        "# Display actual score\n",
        "print(scores)"
      ],
      "metadata": {
        "colab": {
          "base_uri": "https://localhost:8080/",
          "height": 569
        },
        "id": "NTWoiD0KJUvM",
        "outputId": "24ce9cec-3e8e-4382-d7a9-d3465b77dd2b"
      },
      "execution_count": 62,
      "outputs": [
        {
          "output_type": "display_data",
          "data": {
            "text/plain": [
              "<Figure size 1152x648 with 1 Axes>"
            ],
            "image/png": "[encoded data removed]"
          },
          "metadata": {
            "needs_background": "light"
          }
        },
        {
          "output_type": "stream",
          "name": "stdout",
          "text": [
            "[0.8222222222222222, 0.8666666666666667, 0.9333333333333333, 0.9333333333333333, 0.9555555555555556, 0.9555555555555556, 0.9555555555555556, 0.9333333333333333]\n"
          ]
        }
      ]
    },
    {
      "cell_type": "markdown",
      "source": [
        "By iterating through different values for the number of estimators we can see an increase in model performance from 0.822 to 0.955. In this case, we see a 0.133 increase in accuracy when it comes to identifying the type of the wine.\n",
        "\n",
        "After 14 estimators, the accuracy begins to drop, again if we set a different `random_state` the values we see will vary. That is why it is best practice to use **cross validation** to ensure stable results, which we will talk about it later on.\n",
        "\n",
        "As bootstrapping chooses random subsets of observations to create classifiers, there are observations that are left out in the selection process. These \"out-of-bag\" observations can then be used to evaluate the model, similarly to that of a test set. Keep in mind, that out-of-bag estimation can overestimate error in binary classification problems and should only be used as a compliment to other metrics.\n",
        "\n",
        "We saw that 12 estimators yielded the highest accuracy, so we will use that to create our model. This time setting the parameter `oob_score` to `True` to evaluate the model with out-of-bag score:"
      ],
      "metadata": {
        "id": "OLcLpKIHQcIZ"
      }
    },
    {
      "cell_type": "code",
      "source": [
        "oob_model = BaggingClassifier(n_estimators=12, oob_score=True, random_state=22)\n",
        "oob_model.fit(X_train, y_train)\n",
        "\n",
        "# Obtain out-of-bag score\n",
        "oob_model.oob_score_"
      ],
      "metadata": {
        "colab": {
          "base_uri": "https://localhost:8080/"
        },
        "id": "AUGv_0e-Q6Gz",
        "outputId": "05f17b11-73b4-47a4-d8d1-9094680f0a4b"
      },
      "execution_count": 63,
      "outputs": [
        {
          "output_type": "execute_result",
          "data": {
            "text/plain": [
              "0.9398496240601504"
            ]
          },
          "metadata": {},
          "execution_count": 63
        }
      ]
    },
    {
      "cell_type": "markdown",
      "source": [
        "Since the samples used in OOB and the test set are different, and the dataset is relatively small, there is a difference in the accuracy. It is rare that they would be exactly the same, again OOB should be used quick means for estimating error, but is not the only evaluation metric."
      ],
      "metadata": {
        "id": "5ODFgnoWRyKT"
      }
    },
    {
      "cell_type": "markdown",
      "source": [
        "### Generating Decision Tree from Bagging Classifier\n",
        "\n",
        "As was seen before, it is possible to graph the decision tree the model created. It is also possible to see the individual decision trees that went into the aggregated classifier. This helps us to gain a more intuitive understanding on how the bagging model arrives at its predictions.\n",
        "\n",
        "> **Note:**\n",
        "> <br>This is only functional with smaller datasets, where the trees are relatively shallow and narrow making them easy to visualize.\n",
        "\n",
        "We will need to import `plot_tree()` function from `sklearn.tree` module. The different trees can be graphed by changing the estimator we wish to visualize."
      ],
      "metadata": {
        "id": "PIAh-2JBR2wv"
      }
    },
    {
      "cell_type": "code",
      "source": [
        "from sklearn.tree import plot_tree\n",
        "\n",
        "# Set graph configuration\n",
        "plt.figure(figsize=(15, 10))\n",
        "\n",
        "# Plot the first decision tree\n",
        "plot_tree(oob_model.estimators_[0], feature_names=X.columns)"
      ],
      "metadata": {
        "colab": {
          "base_uri": "https://localhost:8080/",
          "height": 801
        },
        "id": "mHF3ZWpQSH0B",
        "outputId": "9b48df3e-2057-4a7b-f04d-9f67ebd9d44d"
      },
      "execution_count": 64,
      "outputs": [
        {
          "output_type": "execute_result",
          "data": {
            "text/plain": [
              "[Text(0.4583333333333333, 0.875, 'proline <= 727.5\\ngini = 0.611\\nsamples = 82\\nvalue = [54, 60, 19]'),\n",
              " Text(0.25, 0.625, 'flavanoids <= 1.335\\ngini = 0.339\\nsamples = 47\\nvalue = [0, 58, 16]'),\n",
              " Text(0.16666666666666666, 0.375, 'hue <= 0.92\\ngini = 0.266\\nsamples = 15\\nvalue = [0, 3, 16]'),\n",
              " Text(0.08333333333333333, 0.125, 'gini = 0.0\\nsamples = 13\\nvalue = [0, 0, 16]'),\n",
              " Text(0.25, 0.125, 'gini = 0.0\\nsamples = 2\\nvalue = [0, 3, 0]'),\n",
              " Text(0.3333333333333333, 0.375, 'gini = 0.0\\nsamples = 32\\nvalue = [0, 55, 0]'),\n",
              " Text(0.6666666666666666, 0.625, 'flavanoids <= 1.605\\ngini = 0.159\\nsamples = 35\\nvalue = [54, 2, 3]'),\n",
              " Text(0.5, 0.375, 'color_intensity <= 4.325\\ngini = 0.375\\nsamples = 3\\nvalue = [0, 1, 3]'),\n",
              " Text(0.4166666666666667, 0.125, 'gini = 0.0\\nsamples = 1\\nvalue = [0, 1, 0]'),\n",
              " Text(0.5833333333333334, 0.125, 'gini = 0.0\\nsamples = 2\\nvalue = [0, 0, 3]'),\n",
              " Text(0.8333333333333334, 0.375, 'magnesium <= 147.0\\ngini = 0.036\\nsamples = 32\\nvalue = [54, 1, 0]'),\n",
              " Text(0.75, 0.125, 'gini = 0.0\\nsamples = 31\\nvalue = [54, 0, 0]'),\n",
              " Text(0.9166666666666666, 0.125, 'gini = 0.0\\nsamples = 1\\nvalue = [0, 1, 0]')]"
            ]
          },
          "metadata": {},
          "execution_count": 64
        },
        {
          "output_type": "display_data",
          "data": {
            "text/plain": [
              "<Figure size 1080x720 with 1 Axes>"
            ],
            "image/png": "[encoded data removed]"
          },
          "metadata": {
            "needs_background": "light"
          }
        }
      ]
    },
    {
      "cell_type": "markdown",
      "source": [
        "Here we can see just the **first decision tree** that was used to vote on the final prediction. Again, by changing the index of the classifier you can see each of the trees that have been aggregated."
      ],
      "metadata": {
        "id": "69S-a19ES8DL"
      }
    },
    {
      "cell_type": "markdown",
      "source": [
        "### Cross Validation\n",
        "\n",
        "When adjusting models, we are aiming to increase overall model performance on unseen data. Hyperparameter tuning can lead to much better performance on test sets. However, optimizing parameters to the test set can lead information leakage causing the model to preform worse on unseen data. To correct for this we can perform cross validation (CV).\n",
        "\n",
        "To better understand CV, we will be performing different methods on the sklearn's iris dataset. Let us first load in and separate the data:"
      ],
      "metadata": {
        "id": "mLzIMGY4TQ6C"
      }
    },
    {
      "cell_type": "code",
      "source": [
        "X, y = datasets.load_iris(return_X_y=True)"
      ],
      "metadata": {
        "id": "iQSWbxAKTc7c"
      },
      "execution_count": 65,
      "outputs": []
    },
    {
      "cell_type": "markdown",
      "source": [
        "There are many methods to cross validation that can be applied to models. There are many more cross validation classes, with most models having their own class. Check out [sklearns cross validation](https://scikit-learn.org/stable/modules/cross_validation.html#cross-validation-iterators) for more CV options."
      ],
      "metadata": {
        "id": "dLfiBMxGTnO6"
      }
    },
    {
      "cell_type": "markdown",
      "source": [
        "#### K-Fold\n",
        "\n",
        "The training data used in the model is splitted into *k* number of smaller sets, to be used to validate the model. The model is then trained on *k*-1 folds of training set. The remaining fold is then used as a validation set to evaluate the model.\n",
        "\n",
        "As we will be trying to classify different species of iris flowers, we will be using the `DecisionTreeClassifier`. We will also need to import CV modules from sklearn:"
      ],
      "metadata": {
        "id": "kt3nRdTqTq1v"
      }
    },
    {
      "cell_type": "code",
      "source": [
        "from sklearn.model_selection import KFold, cross_val_score"
      ],
      "metadata": {
        "id": "8nwbFSmCTp5V"
      },
      "execution_count": 66,
      "outputs": []
    },
    {
      "cell_type": "markdown",
      "source": [
        "With the data loaded, we can now create a model for evaluation:"
      ],
      "metadata": {
        "id": "8TgIY_1MUSXX"
      }
    },
    {
      "cell_type": "code",
      "source": [
        "dtree = DecisionTreeClassifier(random_state=42)"
      ],
      "metadata": {
        "id": "11p9IVbQUTnm"
      },
      "execution_count": 67,
      "outputs": []
    },
    {
      "cell_type": "markdown",
      "source": [
        "Now let's evaluate our model and see how it performs on each *k*-fold:"
      ],
      "metadata": {
        "id": "KqufvBx-UeyZ"
      }
    },
    {
      "cell_type": "code",
      "source": [
        "scores = cross_val_score(dtree, X, y, cv=KFold(n_splits=5))\n",
        "\n",
        "print(\"Cross Validation Scores: \", scores)\n",
        "print(\"Average CV Score: \", scores.mean())\n",
        "print(\"Number of CV Scores used in Average: \", len(scores))"
      ],
      "metadata": {
        "colab": {
          "base_uri": "https://localhost:8080/"
        },
        "id": "x_zoeHT5UgUa",
        "outputId": "18975f55-b8ff-4f0b-ff48-dc763257cd6a"
      },
      "execution_count": 68,
      "outputs": [
        {
          "output_type": "stream",
          "name": "stdout",
          "text": [
            "Cross Validation Scores:  [1.         1.         0.83333333 0.93333333 0.8       ]\n",
            "Average CV Score:  0.9133333333333333\n",
            "Number of CV Scores used in Average:  5\n"
          ]
        }
      ]
    },
    {
      "cell_type": "markdown",
      "source": [
        "#### Stratified K-Fold\n",
        "\n",
        "In cases where classes are imbalanced, we need a way to account for the imbalance in both the train and validation sets. To do so we can stratify the target classes, meaning that both sets will have an equal proportion of all classes:"
      ],
      "metadata": {
        "id": "xu6BwEZbU5_X"
      }
    },
    {
      "cell_type": "code",
      "source": [
        "from sklearn.model_selection import StratifiedKFold\n",
        "\n",
        "scores = cross_val_score(dtree, X, y, cv=StratifiedKFold(n_splits=5))\n",
        "\n",
        "print(\"Cross Validation Scores: \", scores)\n",
        "print(\"Average CV Score: \", scores.mean())\n",
        "print(\"Number of CV Scores used in Average: \", len(scores))"
      ],
      "metadata": {
        "colab": {
          "base_uri": "https://localhost:8080/"
        },
        "id": "42mGjHVVVElJ",
        "outputId": "0879b4c0-0698-4c19-85c4-7243d91d107f"
      },
      "execution_count": 69,
      "outputs": [
        {
          "output_type": "stream",
          "name": "stdout",
          "text": [
            "Cross Validation Scores:  [0.96666667 0.96666667 0.9        0.93333333 1.        ]\n",
            "Average CV Score:  0.9533333333333334\n",
            "Number of CV Scores used in Average:  5\n"
          ]
        }
      ]
    },
    {
      "cell_type": "markdown",
      "source": [
        "While the number of folds is the same, the average CV increases from the basic *k*-fold, making sure there is stratified classes."
      ],
      "metadata": {
        "id": "A-1U8oM-VZwP"
      }
    },
    {
      "cell_type": "markdown",
      "source": [
        "#### Leave-One-Out (LOO)\n",
        "\n",
        "Instead of selecting the number of splits in the training data set like *k*-fold, LOO utilizes 1 observation to validate and *n*-1 observations to train. This method is an exaustive technique:"
      ],
      "metadata": {
        "id": "Y7nMe0-iVxfI"
      }
    },
    {
      "cell_type": "code",
      "source": [
        "from sklearn.model_selection import LeaveOneOut\n",
        "\n",
        "scores = cross_val_score(dtree, X, y, cv=LeaveOneOut())\n",
        "\n",
        "print(\"Cross Validation Scores: \", scores)\n",
        "print(\"Average CV Score: \", scores.mean())\n",
        "print(\"Number of CV Scores used in Average: \", len(scores))"
      ],
      "metadata": {
        "colab": {
          "base_uri": "https://localhost:8080/"
        },
        "id": "LlzFb2blVtbz",
        "outputId": "214a2d35-c691-449e-afdd-42156c5fd415"
      },
      "execution_count": 70,
      "outputs": [
        {
          "output_type": "stream",
          "name": "stdout",
          "text": [
            "Cross Validation Scores:  [1. 1. 1. 1. 1. 1. 1. 1. 1. 1. 1. 1. 1. 1. 1. 1. 1. 1. 1. 1. 1. 1. 1. 1.\n",
            " 1. 1. 1. 1. 1. 1. 1. 1. 1. 1. 1. 1. 1. 1. 1. 1. 1. 1. 1. 1. 1. 1. 1. 1.\n",
            " 1. 1. 1. 1. 1. 1. 1. 1. 1. 0. 1. 1. 1. 1. 1. 1. 1. 1. 1. 1. 1. 1. 0. 1.\n",
            " 1. 1. 1. 1. 1. 0. 1. 1. 1. 1. 1. 0. 1. 1. 1. 1. 1. 1. 1. 1. 1. 1. 1. 1.\n",
            " 1. 1. 1. 1. 1. 1. 1. 1. 1. 1. 0. 1. 1. 1. 1. 1. 1. 1. 1. 1. 1. 1. 1. 0.\n",
            " 1. 1. 1. 1. 1. 1. 1. 1. 1. 0. 1. 1. 1. 0. 1. 1. 1. 1. 0. 1. 1. 1. 1. 1.\n",
            " 1. 1. 1. 1. 1. 1.]\n",
            "Average CV Score:  0.94\n",
            "Number of CV Scores used in Average:  150\n"
          ]
        }
      ]
    },
    {
      "cell_type": "markdown",
      "source": [
        "We can observe that the number of cross validation scores performed is equal to the number of observations in the dataset. In this case there are 150 observations in the iris dataset."
      ],
      "metadata": {
        "id": "8_O2fo4vWJAB"
      }
    },
    {
      "cell_type": "markdown",
      "source": [
        "#### Leave-P-Out (LPO)\n",
        "\n",
        "Leave-P-Out is simply a nuanced difference to the Leave-One-Out idea, in that we can select the number of *p* to use in our validation set:"
      ],
      "metadata": {
        "id": "qlJAeLOYWPjS"
      }
    },
    {
      "cell_type": "code",
      "source": [
        "from sklearn.model_selection import LeavePOut\n",
        "\n",
        "scores = cross_val_score(dtree, X, y, cv=LeavePOut(p=2))\n",
        "\n",
        "print(\"Cross Validation Scores: \", scores)\n",
        "print(\"Average CV Score: \", scores.mean())\n",
        "print(\"Number of CV Scores used in Average: \", len(scores))"
      ],
      "metadata": {
        "colab": {
          "base_uri": "https://localhost:8080/"
        },
        "id": "dCoDMHcaWNr8",
        "outputId": "df18a238-509e-4dd1-9597-84ca5086de0c"
      },
      "execution_count": 71,
      "outputs": [
        {
          "output_type": "stream",
          "name": "stdout",
          "text": [
            "Cross Validation Scores:  [1. 1. 1. ... 1. 1. 1.]\n",
            "Average CV Score:  0.9382997762863534\n",
            "Number of CV Scores used in Average:  11175\n"
          ]
        }
      ]
    },
    {
      "cell_type": "markdown",
      "source": [
        "As we can see, this is an exhaustive method with many more scores being calculated than Leave-One-Out, even with *p* = 2, yet it achieves roughly the same average CV score."
      ],
      "metadata": {
        "id": "Ii1ZJI8CWhRQ"
      }
    },
    {
      "cell_type": "markdown",
      "source": [
        "#### Shuffle Split\n",
        "\n",
        "Unlike *k*-fold, Shuffle Split leaves out a percentage of the data, not to be used in the train or validation sets. To do so, we must decide what the train and test sizes are, as well as the number of splits:"
      ],
      "metadata": {
        "id": "7BqOGxUHWxpG"
      }
    },
    {
      "cell_type": "code",
      "source": [
        "from sklearn.model_selection import ShuffleSplit\n",
        "\n",
        "scores = cross_val_score(dtree, X, y, cv=ShuffleSplit(train_size=0.6, test_size=0.3, n_splits=5))\n",
        "\n",
        "print(\"Cross Validation Scores: \", scores)\n",
        "print(\"Average CV Score: \", scores.mean())\n",
        "print(\"Number of CV Scores used in Average: \", len(scores))"
      ],
      "metadata": {
        "colab": {
          "base_uri": "https://localhost:8080/"
        },
        "id": "VlPxsU73WsgG",
        "outputId": "80a87820-10b0-4ed8-8bbb-1a8a7ea42669"
      },
      "execution_count": 72,
      "outputs": [
        {
          "output_type": "stream",
          "name": "stdout",
          "text": [
            "Cross Validation Scores:  [0.93333333 0.97777778 0.95555556 0.93333333 0.93333333]\n",
            "Average CV Score:  0.9466666666666667\n",
            "Number of CV Scores used in Average:  5\n"
          ]
        }
      ]
    },
    {
      "cell_type": "markdown",
      "source": [
        "## *K*-Nearest Neighbors (KNN)\n",
        "\n",
        "KNN is a simple, supervised ML algorithm that can be used for classification or regression tasks - and is also frequently used in missing value imputation. \n",
        "\n",
        "It is based on the idea that the observations closest to a given data point are the most \"similar\" observations in a data set, and we can therefore **classify unforeseen points** based on the values of the closest existing points. By choosing *K*, the user can select the number of nearby observations to use in the algorithm.\n",
        "\n",
        "*K* is the number of nearest neighbors to use. For classification, a majority vote is used to determined which class a new observation should fall into. Larger values of *K* are often more robust to outliers and produce more stable decision boundaries than very small values (*K*=3 would be better than *K*=1, which might produce undesirable results.\n",
        "\n",
        "Assume that we have the following points:"
      ],
      "metadata": {
        "id": "wWPmnKlsYwyh"
      }
    },
    {
      "cell_type": "code",
      "source": [
        "x = [4, 5, 10, 4, 3, 11, 14, 8, 10, 12]\n",
        "y = [21, 19, 24, 17, 16, 25, 24, 22, 21, 21]\n",
        "classes = [0, 0, 1, 0, 0, 1, 1, 0, 1, 1]\n",
        "\n",
        "# Display scattered plot\n",
        "plt.scatter(x, y, c=classes)\n",
        "plt.show()"
      ],
      "metadata": {
        "colab": {
          "base_uri": "https://localhost:8080/",
          "height": 265
        },
        "id": "LQme7tDuYwgF",
        "outputId": "2519569c-2321-4ff7-8568-88cd833371a3"
      },
      "execution_count": 73,
      "outputs": [
        {
          "output_type": "display_data",
          "data": {
            "text/plain": [
              "<Figure size 432x288 with 1 Axes>"
            ],
            "image/png": "[encoded data removed]"
          },
          "metadata": {
            "needs_background": "light"
          }
        }
      ]
    },
    {
      "cell_type": "markdown",
      "source": [
        "Now we fit the KNN algorithm with *K*=1:"
      ],
      "metadata": {
        "id": "qrMEi8BraBPH"
      }
    },
    {
      "cell_type": "code",
      "source": [
        "from sklearn.neighbors import KNeighborsClassifier\n",
        "\n",
        "data = list(zip(x, y))\n",
        "\n",
        "# Create KNN with K=1\n",
        "knn = KNeighborsClassifier(n_neighbors=1)\n",
        "\n",
        "# Fit the data\n",
        "knn.fit(data, classes)"
      ],
      "metadata": {
        "colab": {
          "base_uri": "https://localhost:8080/"
        },
        "id": "OK8WdQ2KaDBy",
        "outputId": "e47b0c4b-e7aa-4208-9b87-0895ab3fc6b2"
      },
      "execution_count": 74,
      "outputs": [
        {
          "output_type": "execute_result",
          "data": {
            "text/plain": [
              "KNeighborsClassifier(n_neighbors=1)"
            ]
          },
          "metadata": {},
          "execution_count": 74
        }
      ]
    },
    {
      "cell_type": "markdown",
      "source": [
        "Then, we will try to predict the class of a new point:"
      ],
      "metadata": {
        "id": "doNt2Y3waIEf"
      }
    },
    {
      "cell_type": "code",
      "source": [
        "# Create new point\n",
        "x_new = 8\n",
        "y_new = 21\n",
        "point_new = [(x_new, y_new)]\n",
        "\n",
        "# Predict class of new point\n",
        "prediction = knn.predict(point_new)\n",
        "\n",
        "# Create scatter plot\n",
        "plt.scatter(x+[x_new], y+[y_new], c=(classes + [prediction[0]]))\n",
        "\n",
        "# Display text for class of new point\n",
        "plt.text(x=x_new-1.7, y=y_new-0.7, s=f\"new point, class: {prediction[0]}\")\n",
        "\n",
        "# Display graph\n",
        "plt.show()"
      ],
      "metadata": {
        "colab": {
          "base_uri": "https://localhost:8080/",
          "height": 265
        },
        "id": "ccdp_y-Racds",
        "outputId": "c0e6520f-a5e1-4ad0-dfc3-7ad31d40195e"
      },
      "execution_count": 75,
      "outputs": [
        {
          "output_type": "display_data",
          "data": {
            "text/plain": [
              "<Figure size 432x288 with 1 Axes>"
            ],
            "image/png": "[encoded data removed]"
          },
          "metadata": {
            "needs_background": "light"
          }
        }
      ]
    },
    {
      "cell_type": "markdown",
      "source": [
        "Now we do the same thing, but with a higher *K* value which changes the prediction:"
      ],
      "metadata": {
        "id": "wJak06mHbEtm"
      }
    },
    {
      "cell_type": "code",
      "source": [
        "# Create KNN with K=5\n",
        "knn = KNeighborsClassifier(n_neighbors=5)\n",
        "\n",
        "# Fit the data\n",
        "knn.fit(data, classes)\n",
        "\n",
        "# Predict class of new point\n",
        "prediction = knn.predict(point_new)\n",
        "\n",
        "# Create scatter plot\n",
        "plt.scatter(x+[x_new], y+[y_new], c=(classes + [prediction[0]]))\n",
        "\n",
        "# Display text for class of new point\n",
        "plt.text(x=x_new-1.7, y=y_new-0.7, s=f\"new point, class: {prediction[0]}\")\n",
        "\n",
        "# Display graph\n",
        "plt.show()"
      ],
      "metadata": {
        "colab": {
          "base_uri": "https://localhost:8080/",
          "height": 265
        },
        "id": "QxF8QpYObG1V",
        "outputId": "d624c7e9-6845-49d4-892f-e01b7a52a12e"
      },
      "execution_count": 76,
      "outputs": [
        {
          "output_type": "display_data",
          "data": {
            "text/plain": [
              "<Figure size 432x288 with 1 Axes>"
            ],
            "image/png": "[encoded data removed]"
          },
          "metadata": {
            "needs_background": "light"
          }
        }
      ]
    },
    {
      "cell_type": "markdown",
      "source": [
        "# Unsupervised Learning\n",
        "\n",
        "Unsupervised learning, uses ML algorithms to analyze and cluster **unlabeled datasets**. These algorithms **discover hidden patterns** or data groupings without the need for human intervention. \n",
        "\n",
        "Its ability to discover similarities and differences in information make it the ideal solution for exploratory data analysis, cross-selling strategies, customer segmentation, and image recognition.\n",
        "\n",
        "Some of the unsupervised learning methods are:\n",
        "\n",
        "* Hierarchical Clustering\n",
        "* *K*-Means"
      ],
      "metadata": {
        "id": "phqVz-NzYI1o"
      }
    },
    {
      "cell_type": "markdown",
      "source": [
        "## Hierarchical Clustering\n",
        "\n",
        "Hierarchical clustering is an unsupervised learning method for clustering data points. The algorithm builds clusters by measuring the dissimilarities between data. Here we will use hierarchical clustering to group data points and visualize the clusters using both a dendrogram and scatter plot.\n",
        "\n",
        "We will use [Agglomerative Clustering](https://www.datanovia.com/en/lessons/agglomerative-hierarchical-clustering/), a type of hierarchical clustering that follows a bottom-up approach. We begin by treating each data point as its own cluster. Then, we join clusters together that have the shortest distance between them to create larger clusters. This step is repeated until one large cluster is formed containing all of the data points.\n",
        "\n",
        "Hierarchical clustering requires us to decide on both a distance and linkage method. We will use euclidean distance and the [Ward´s Linkage method](https://www.statistics.com/glossary/wards-linkage/#:~:text=Ward%C2%B4s%20linkage%20is,clusters%20into%20a%20single%20cluster.), which attempts to minimize the variance between clusters.\n",
        "\n",
        "We will now declare a new list of x and y for 10 points and display it in a scattered plot:"
      ],
      "metadata": {
        "id": "-5vTMWDhbwWW"
      }
    },
    {
      "cell_type": "code",
      "source": [
        "x = [4, 5, 10, 4, 3, 11, 14, 6, 10, 12]\n",
        "y = [21, 19, 24, 17, 16, 25, 24, 22, 21, 21]\n",
        "\n",
        "# Display Scattered Plot\n",
        "plt.scatter(x, y)\n",
        "plt.show()"
      ],
      "metadata": {
        "colab": {
          "base_uri": "https://localhost:8080/",
          "height": 265
        },
        "id": "G1hxY_GZdBXS",
        "outputId": "15c9ea4b-6f34-4f94-dd14-6ca1ef8fc1d0"
      },
      "execution_count": 77,
      "outputs": [
        {
          "output_type": "display_data",
          "data": {
            "text/plain": [
              "<Figure size 432x288 with 1 Axes>"
            ],
            "image/png": "[encoded data removed]"
          },
          "metadata": {
            "needs_background": "light"
          }
        }
      ]
    },
    {
      "cell_type": "markdown",
      "source": [
        "Now we compute the ward linkage using euclidean distance, and visualize it using a dendrogram:"
      ],
      "metadata": {
        "id": "WcuRkJgedJjq"
      }
    },
    {
      "cell_type": "code",
      "source": [
        "from scipy.cluster.hierarchy import dendrogram, linkage\n",
        "\n",
        "data = list(zip(x, y))\n",
        "\n",
        "linkage_data = linkage(data, method='ward', metric='euclidean')\n",
        "dendrogram(linkage_data)\n",
        "\n",
        "plt.show()"
      ],
      "metadata": {
        "colab": {
          "base_uri": "https://localhost:8080/",
          "height": 268
        },
        "id": "Q6hqJYtadKys",
        "outputId": "c3b2b3b1-4556-47dd-a6c3-7a0430cfc637"
      },
      "execution_count": 78,
      "outputs": [
        {
          "output_type": "display_data",
          "data": {
            "text/plain": [
              "<Figure size 432x288 with 1 Axes>"
            ],
            "image/png": "[encoded data removed]"
          },
          "metadata": {
            "needs_background": "light"
          }
        }
      ]
    },
    {
      "cell_type": "markdown",
      "source": [
        "This plot will show us the hierarchy of clusters from the bottom (individual points) to the top (a single cluster consisting of all data points).\n",
        "\n",
        "Now, we will try to do the same thing but this time with Python's `scikit-learn` library. Then, visualize on a 2-dimensional plot:"
      ],
      "metadata": {
        "id": "b-zzN_f5dbU1"
      }
    },
    {
      "cell_type": "code",
      "source": [
        "from sklearn.cluster import AgglomerativeClustering\n",
        "\n",
        "hierarchical_cluster = AgglomerativeClustering(n_clusters=2, affinity='euclidean', linkage='ward')\n",
        "labels = hierarchical_cluster.fit_predict(data)\n",
        "\n",
        "plt.scatter(x, y, c=labels)\n",
        "plt.show()"
      ],
      "metadata": {
        "colab": {
          "base_uri": "https://localhost:8080/",
          "height": 265
        },
        "id": "Y83vUAtNddyM",
        "outputId": "3ac1ddfe-d459-4f59-b6f6-d4242902a939"
      },
      "execution_count": 79,
      "outputs": [
        {
          "output_type": "display_data",
          "data": {
            "text/plain": [
              "<Figure size 432x288 with 1 Axes>"
            ],
            "image/png": "[encoded data removed]"
          },
          "metadata": {
            "needs_background": "light"
          }
        }
      ]
    },
    {
      "cell_type": "markdown",
      "source": [
        "## *K*-Means\n",
        "\n",
        "*K*-means is an unsupervised learning method for clustering data points. The algorithm iteratively divides data points into K clusters by minimizing the variance in each cluster.\n",
        "\n",
        "First, each data point is randomly assigned to one of the *K* clusters. Then, we compute the centroid (functionally the center) of each cluster, and reassign each data point to the cluster with the closest centroid. We repeat this process until the cluster assignments for each data point are no longer changing.\n",
        "\n",
        "*K*-means clustering requires us to select *K*, the number of clusters we want to group the data into. The elbow method lets us graph the inertia (a distance-based metric) and visualize the point at which it starts decreasing linearly. This point is referred to as the \"elbow\" and is a good estimate for the best value for *K* based on our data.\n",
        "\n",
        "We will use back the points on Hierarchical Clustering Chapter:"
      ],
      "metadata": {
        "id": "3DRKzBgfeMks"
      }
    },
    {
      "cell_type": "code",
      "source": [
        "# Display Scattered Plot\n",
        "plt.scatter(x, y)\n",
        "plt.show()"
      ],
      "metadata": {
        "colab": {
          "base_uri": "https://localhost:8080/",
          "height": 265
        },
        "id": "IFkZVAmffH8P",
        "outputId": "af394eb0-8d0f-4467-d7f3-9805c7c9e275"
      },
      "execution_count": 80,
      "outputs": [
        {
          "output_type": "display_data",
          "data": {
            "text/plain": [
              "<Figure size 432x288 with 1 Axes>"
            ],
            "image/png": "[encoded data removed]"
          },
          "metadata": {
            "needs_background": "light"
          }
        }
      ]
    },
    {
      "cell_type": "markdown",
      "source": [
        "Now we utilize the elbow method to visualize the inertia for different values of *K*:"
      ],
      "metadata": {
        "id": "HXW3RH_7fOJ8"
      }
    },
    {
      "cell_type": "code",
      "source": [
        "from sklearn.cluster import KMeans\n",
        "\n",
        "inertias = []\n",
        "\n",
        "# Try 1 <= K < 11\n",
        "for i in range(1, 11):\n",
        "    kmeans = KMeans(n_clusters=i)\n",
        "    kmeans.fit(data)\n",
        "    inertias.append(kmeans.inertia_)\n",
        "\n",
        "# Set graph configuration\n",
        "plt.plot(range(1, 11), inertias, marker='o')\n",
        "plt.title('Elbow method')\n",
        "plt.xlabel('Number of clusters')\n",
        "plt.ylabel('Inertia')\n",
        "\n",
        "# Display graph\n",
        "plt.show()"
      ],
      "metadata": {
        "colab": {
          "base_uri": "https://localhost:8080/",
          "height": 295
        },
        "id": "XOjQrxFufN80",
        "outputId": "43ad355a-46fb-4eaf-98e0-7d90b766eda1"
      },
      "execution_count": 81,
      "outputs": [
        {
          "output_type": "display_data",
          "data": {
            "text/plain": [
              "<Figure size 432x288 with 1 Axes>"
            ],
            "image/png": "[encoded data removed]"
          },
          "metadata": {
            "needs_background": "light"
          }
        }
      ]
    },
    {
      "cell_type": "markdown",
      "source": [
        "The elbow method shows that 2 is a good value for *K*, so we retrain and visualize the result:"
      ],
      "metadata": {
        "id": "E4PYnEBkfzDG"
      }
    },
    {
      "cell_type": "code",
      "source": [
        "kmeans = KMeans(n_clusters=2)\n",
        "kmeans.fit(data)\n",
        "\n",
        "# Display graph\n",
        "plt.scatter(x, y, c=kmeans.labels_)\n",
        "plt.show()"
      ],
      "metadata": {
        "colab": {
          "base_uri": "https://localhost:8080/",
          "height": 265
        },
        "id": "WfmuOPGKf3B_",
        "outputId": "2ba99286-6fd2-4c44-dc89-2b0194428363"
      },
      "execution_count": 82,
      "outputs": [
        {
          "output_type": "display_data",
          "data": {
            "text/plain": [
              "<Figure size 432x288 with 1 Axes>"
            ],
            "image/png": "[encoded data removed]"
          },
          "metadata": {
            "needs_background": "light"
          }
        }
      ]
    },
    {
      "cell_type": "markdown",
      "source": [
        "# Metrics\n",
        "\n",
        "Metrics are measures of quantitative assessment commonly used for assessing, comparing, and tracking performance or production."
      ],
      "metadata": {
        "id": "mIMjjLVeKuHE"
      }
    },
    {
      "cell_type": "markdown",
      "source": [
        "## Confusion Matrix\n",
        "\n",
        "One of the most common method used to indicate the performance of our ML model is the confusion matrix. It is a table that is used in classification problems to assess where errors in the model were made.\n",
        "\n",
        "The rows represent the actual classes the outcomes should have been. While the columns represent the predictions we have made. Using this table it is easy to see which predictions are wrong."
      ],
      "metadata": {
        "id": "sOdSawalM17W"
      }
    },
    {
      "cell_type": "code",
      "source": [
        "# Generate random actual and predicted data\n",
        "actual = np.random.binomial(1, 0.9, size=1000)\n",
        "predicted = np.random.binomial(1, 0.9, size=1000)\n",
        "\n",
        "# Create confusion matrix object\n",
        "cfm = metrics.confusion_matrix(actual, predicted)\n",
        "\n",
        "# Plot the confusion matrix\n",
        "cfm_display = metrics.ConfusionMatrixDisplay(confusion_matrix=cfm, display_labels=[False, True])\n",
        "cfm_display.plot()"
      ],
      "metadata": {
        "colab": {
          "base_uri": "https://localhost:8080/",
          "height": 296
        },
        "id": "w_lQaSI1M1en",
        "outputId": "6786da8b-3df9-4908-c043-09f71c468b8b"
      },
      "execution_count": 83,
      "outputs": [
        {
          "output_type": "execute_result",
          "data": {
            "text/plain": [
              "<sklearn.metrics._plot.confusion_matrix.ConfusionMatrixDisplay at 0x7f0ac7010650>"
            ]
          },
          "metadata": {},
          "execution_count": 83
        },
        {
          "output_type": "display_data",
          "data": {
            "text/plain": [
              "<Figure size 432x288 with 2 Axes>"
            ],
            "image/png": "[encoded data removed]"
          },
          "metadata": {
            "needs_background": "light"
          }
        }
      ]
    },
    {
      "cell_type": "markdown",
      "source": [
        "The Confusion Matrix created has four different quadrants:\n",
        "\n",
        "* True Negative (Top-Left Quadrant)\n",
        "* False Negative (Top-Right Quadrant)\n",
        "* False Positive (Bottom-Left Quadrant)\n",
        "* True Positive (Bottom-Right Quadrant)\n",
        "\n",
        "True means that the values were accurately predicted, False means that there was an error or wrong prediction.\n",
        "\n",
        "The matrix provides us with many useful metrics that help us to evaluate out classification model. The different measures include: \n",
        "\n",
        "* **Accuracy**: How often the model is correct?\n",
        "    * Formula: `(True Positive + True Negative) / Total Predictions`\n",
        "* **Precision**: Of the positives predicted, what percentage is truly positive?\n",
        "    * Formula: `True Positive / (True Positive + False Positive)`\n",
        "* **Sensitivity (Recall)**: Of all the positive cases, what percentage are predicted positive?\n",
        "    * Formula: `True Positive / (True Positive + False Negative)`\n",
        "* **Specificity**: How well the model is at prediciting negative results? It is also the opposite of **Recall**.\n",
        "    * Formula: `True Negative / (True Negative + False Positive)`\n",
        "* **F-score**: The \"harmonic mean\" of precision and sensitivity.\n",
        "    * Formula: `2 * ((Precision * Sensitivity) / (Precision + Sensitivity))`\n",
        "\n",
        "All of the measures above can be easily determined using the lines below:"
      ],
      "metadata": {
        "id": "CAvKMAquO3DE"
      }
    },
    {
      "cell_type": "code",
      "source": [
        "accuracy = metrics.accuracy_score(actual, predicted)\n",
        "precision = metrics.precision_score(actual, predicted)\n",
        "recall = metrics.recall_score(actual, predicted)\n",
        "specificity = metrics.recall_score(actual, predicted, pos_label=0)\n",
        "f1_score = metrics.f1_score(actual, predicted)\n",
        "\n",
        "print('Accuracy:', accuracy)\n",
        "print('Precision:', precision)\n",
        "print('Recall:', recall)\n",
        "print('Specificity:', specificity)\n",
        "print('F-Score', f1_score)"
      ],
      "metadata": {
        "colab": {
          "base_uri": "https://localhost:8080/"
        },
        "id": "i_cwBIhqO64z",
        "outputId": "682ab3d6-49d5-42b4-cde9-152af57c421c"
      },
      "execution_count": 84,
      "outputs": [
        {
          "output_type": "stream",
          "name": "stdout",
          "text": [
            "Accuracy: 0.813\n",
            "Precision: 0.8875278396436526\n",
            "Recall: 0.9026047565118913\n",
            "Specificity: 0.13675213675213677\n",
            "F-Score 0.8950028074115666\n"
          ]
        }
      ]
    },
    {
      "cell_type": "markdown",
      "source": [
        "## AUC-ROC Curve\n",
        "\n",
        "In classification, there are many different evaluation metrics. The most popular is **accuracy**, which measures how often the model is correct. This is a great metric because it is easy to understand and getting the most correct guesses is often desired. There are some cases where you might consider using another evaluation metric.\n",
        "\n",
        "Another common metric is **AUC**, which is the area under the receiver operating characteristic (**ROC**) curve. The Reciever operating characteristic curve plots the true positive (**TP**) rate versus the false positive (**FP**) rate at different classification thresholds. The thresholds are different probability cutoffs that separate the two classes in binary classification. It uses probability to tell us how well a model separates the classes.\n",
        "\n",
        "Because AUC is a metric that utilizes probabilities of the class predictions, we can be more confident in a model that has a higher AUC score than one with a lower score even if they have similar accuracies.\n",
        "\n",
        "We will start with two sets of probabilities:"
      ],
      "metadata": {
        "id": "sM3MU1P6R_E9"
      }
    },
    {
      "cell_type": "code",
      "source": [
        "# Define the actual y\n",
        "y_true = np.array([0] * 10000 + [1] * 10000)\n",
        "\n",
        "# Generate estimated y for set 1 and set 2\n",
        "y_prob_1 = np.array(\n",
        "    np.random.uniform(0.25, 0.5, 5000).tolist() +\n",
        "    np.random.uniform(0.3, 0.7, 10000).tolist() +\n",
        "    np.random.uniform(0.5, 0.75, 5000).tolist()\n",
        ")\n",
        "y_prob_2 = np.array(\n",
        "    np.random.uniform(0, 0.4, 5000).tolist() +\n",
        "    np.random.uniform(0.3, 0.7, 10000).tolist() +\n",
        "    np.random.uniform(0.6, 1, 5000).tolist()\n",
        ")"
      ],
      "metadata": {
        "id": "9LnKY8QuVSw-"
      },
      "execution_count": 85,
      "outputs": []
    },
    {
      "cell_type": "markdown",
      "source": [
        "Then, we will define a function to automatically plot the ROC curve for us:"
      ],
      "metadata": {
        "id": "jt-0pX1aXCjg"
      }
    },
    {
      "cell_type": "code",
      "source": [
        "def plot_roc(y_true, y_prob):\n",
        "\n",
        "    fpr, tpr, threshold = metrics.roc_curve(y_true, y_prob)\n",
        "\n",
        "    # Plot the graph\n",
        "    plt.plot(fpr, tpr)\n",
        "\n",
        "    # Label the axis\n",
        "    plt.xlabel('False Positive Rate')\n",
        "    plt.ylabel('True Positive Rate')"
      ],
      "metadata": {
        "id": "l6WB0pq3Toyh"
      },
      "execution_count": 86,
      "outputs": []
    },
    {
      "cell_type": "markdown",
      "source": [
        "Now, let's visualize the ROC curves for both sets of estimate:"
      ],
      "metadata": {
        "id": "vpne0NfjXI4E"
      }
    },
    {
      "cell_type": "code",
      "source": [
        "plt.title('ROC Curve')\n",
        "\n",
        "# Plot the curve\n",
        "plot_roc(y_true, y_prob_1)\n",
        "plot_roc(y_true, y_prob_2)\n",
        "\n",
        "plt.legend(['Set 1', 'Set 2'])"
      ],
      "metadata": {
        "colab": {
          "base_uri": "https://localhost:8080/",
          "height": 312
        },
        "id": "3Q4wI4ZuXL82",
        "outputId": "82f1f463-7f84-421e-a3ed-f515d882aeb0"
      },
      "execution_count": 87,
      "outputs": [
        {
          "output_type": "execute_result",
          "data": {
            "text/plain": [
              "<matplotlib.legend.Legend at 0x7f0ac79f38d0>"
            ]
          },
          "metadata": {},
          "execution_count": 87
        },
        {
          "output_type": "display_data",
          "data": {
            "text/plain": [
              "<Figure size 432x288 with 1 Axes>"
            ],
            "image/png": "[encoded data removed]"
          },
          "metadata": {
            "needs_background": "light"
          }
        }
      ]
    },
    {
      "cell_type": "markdown",
      "source": [
        "We can also determine the AUC of both estimates:"
      ],
      "metadata": {
        "id": "OeKW5vu_YN_O"
      }
    },
    {
      "cell_type": "code",
      "source": [
        "print('AUC of Set 1', metrics.roc_auc_score(y_true, y_prob_1))\n",
        "print('AUC of Set 2', metrics.roc_auc_score(y_true, y_prob_2))"
      ],
      "metadata": {
        "colab": {
          "base_uri": "https://localhost:8080/"
        },
        "id": "vaAFgA0WX8fm",
        "outputId": "3165fdda-e3d7-4112-9b06-3dbbc4ba9913"
      },
      "execution_count": 88,
      "outputs": [
        {
          "output_type": "stream",
          "name": "stdout",
          "text": [
            "AUC of Set 1 0.7808907800000001\n",
            "AUC of Set 2 0.85996201\n"
          ]
        }
      ]
    },
    {
      "cell_type": "markdown",
      "source": [
        "Even though the accuracies for the two models are similar, the model with the higher AUC score will be more reliable because it takes into account the predicted probability. It is more likely to give you higher accuracy when predicting future data.\n",
        "\n",
        "---"
      ],
      "metadata": {
        "id": "OU2gYnJeX11s"
      }
    },
    {
      "cell_type": "markdown",
      "source": [
        "# Conclusion\n",
        "\n",
        "In this notebook, we have learnt the basics of ML, the definition of each term used in Statistical ML, different types of data distribution generation, supervised and unsupervised ML algorithms, and the useful metrics to measure the performance of our ML model."
      ],
      "metadata": {
        "id": "EY-VSNZkgQBL"
      }
    }
  ]
}